{
 "cells": [
  {
   "cell_type": "markdown",
   "metadata": {
    "colab_type": "text",
    "id": "u-SV1VxmZ7Iu"
   },
   "source": [
    "<div style=\"text-align: right\">\n",
    "    <i>\n",
    "        LIN 537: Computational Lingusitics 1 <br>\n",
    "        Fall 2019 <br>\n",
    "        Alëna Aksënova\n",
    "    </i>\n",
    "</div>\n",
    "\n",
    "# Notebook 7: while, break, continue, all, any\n",
    "\n",
    "This notebook explains operators `break` and `continue`. It when introduces `while` loops, and demonstrates how they can be used based on the example of text generation. Lastly, it introduces functions `all` and `any`."
   ]
  },
  {
   "cell_type": "markdown",
   "metadata": {
    "colab_type": "text",
    "id": "j0pIDh9bmUL4"
   },
   "source": [
    "**Practice.** Print all prime numbers in-between $2$ and $10$. A number is _prime_ if it cannot be divided by anything apart from $1$ and that number by itself. Additionally, [$1$ is not a prime number](https://primes.utm.edu/notes/faq/one.html)!\n",
    "\n",
    "_Hint:_ assume that a number is prime, check if it can be divided by anything apart from $1$ or the number by itself, and if it can, change the assumption. In other words, you might want to implement a flag."
   ]
  },
  {
   "cell_type": "code",
   "execution_count": 7,
   "metadata": {
    "colab": {
     "base_uri": "https://localhost:8080/",
     "height": 119
    },
    "colab_type": "code",
    "id": "_Bx4XtRPmUL5",
    "outputId": "27c317f5-0ecf-44ff-8b91-bf8d436051b3"
   },
   "outputs": [
    {
     "name": "stdout",
     "output_type": "stream",
     "text": [
      "4 is prime False\n",
      "6 is prime False\n",
      "6 is prime False\n",
      "8 is prime False\n",
      "8 is prime False\n",
      "9 is prime False\n"
     ]
    }
   ],
   "source": [
    "for n in range(2,10):\n",
    "  prime=True\n",
    "  for d in range(2,n):\n",
    "    #print(\"Checking division of\", n, \"by\", d)\n",
    "    if n%d==0:\n",
    "      prime=False\n",
    "      print(n,\"is prime\", prime)"
   ]
  },
  {
   "cell_type": "markdown",
   "metadata": {
    "colab_type": "text",
    "id": "TzUuim-dmUL9"
   },
   "source": [
    "When the code above is being run, it spends some time in a \"useless\" way: when we switched the `prime` flag to `False`, it still will check the rest of the divisors, even if we already know that the number is not prime.\n",
    "\n",
    "## `break` statement\n",
    "\n",
    "The keyword `break` breaks the loop in which it is used. The code below will stop executing the loop in case `condition` is true.\n",
    "\n",
    "    for item in list:\n",
    "        if condition:\n",
    "            break\n",
    "        # this code won't be available for the current and for the rest \n",
    "        # of items in list if the condition is true"
   ]
  },
  {
   "cell_type": "code",
   "execution_count": 8,
   "metadata": {
    "colab": {
     "base_uri": "https://localhost:8080/",
     "height": 34
    },
    "colab_type": "code",
    "id": "DXC5DfIrmUL-",
    "outputId": "1024eb30-f800-4f7c-fe2b-cea2122c4bc3"
   },
   "outputs": [
    {
     "name": "stdout",
     "output_type": "stream",
     "text": [
      "1 3 5 7 "
     ]
    }
   ],
   "source": [
    "numbers = [1, 3, 5, 7, 8, 9, 11]\n",
    "for number in numbers:\n",
    "    if number % 2 == 0:\n",
    "        break\n",
    "    else:\n",
    "        print(number, end=\" \")"
   ]
  },
  {
   "cell_type": "markdown",
   "metadata": {
    "colab_type": "text",
    "id": "2CF9VDGvmUMA"
   },
   "source": [
    "The code above is excessive as well: if `break` is executed, we break out of the loop. Therefore, we can safely assume that if we are still in the loop, the condition in `if` was not true."
   ]
  },
  {
   "cell_type": "code",
   "execution_count": 0,
   "metadata": {
    "colab": {
     "base_uri": "https://localhost:8080/",
     "height": 34
    },
    "colab_type": "code",
    "id": "bgvQ85mtmUMB",
    "outputId": "339a128b-b7e5-4023-d2fc-1a6cc6734200"
   },
   "outputs": [
    {
     "name": "stdout",
     "output_type": "stream",
     "text": [
      "1 3 5 7 "
     ]
    }
   ],
   "source": [
    "numbers = [1, 3, 5, 7, 8, 9, 11]\n",
    "for number in numbers:\n",
    "    if number % 2 == 0:\n",
    "        break\n",
    "    print(number, end=\" \")"
   ]
  },
  {
   "cell_type": "markdown",
   "metadata": {
    "colab_type": "text",
    "id": "96MxnvHMmUMD"
   },
   "source": [
    "However, assume that we have several nested `for`-loops. The statement `break` breaks out the loop where it is used.\n",
    "\n",
    "    for item_1 in list_1:\n",
    "        for item_2 in list_2:\n",
    "            if condition:\n",
    "                break\n",
    "            # this code won't be available for the current and for the rest \n",
    "            # of items in list_2 if the condition is true\n",
    "                \n",
    "The code above will break out of the loop iterating the `list_2`, however, it will not affect in any other way the external loop.\n",
    "\n",
    "**Example.** Assume that we have a dictionary and a list of sentences. We want to save sentences in a separate list only if there is a word in that sentence that cannot be found in the dictionary. In other words, we want to save sentences that contain \"unknown\" words."
   ]
  },
  {
   "cell_type": "code",
   "execution_count": 9,
   "metadata": {
    "colab": {
     "base_uri": "https://localhost:8080/",
     "height": 34
    },
    "colab_type": "code",
    "id": "nzJhMwbYmUMD",
    "outputId": "91f21958-547d-4ed1-c0bd-1cfc316a6852"
   },
   "outputs": [
    {
     "name": "stdout",
     "output_type": "stream",
     "text": [
      "['Bill drinks covfefe and tea', 'John is a solopreneur and a blogger']\n"
     ]
    }
   ],
   "source": [
    "dictionary = [\"Mary\", \"Bill\", \"John\", \"likes\", \"drinks\", \"swimming\", \"skiing\", \"is\", \"a\", \"and\", \"blogger\"]\n",
    "sentences = [\"Mary likes skiing\", \"Bill drinks covfefe and tea\", \"John likes swimming\", \n",
    "             \"John is a solopreneur and a blogger\"]\n",
    "\n",
    "new_sentences = []\n",
    "\n",
    "for sent in sentences:\n",
    "    words = sent.split()\n",
    "    \n",
    "    for w in words:\n",
    "        if w not in dictionary:\n",
    "            new_sentences.append(sent)\n",
    "            break\n",
    "    \n",
    "print(new_sentences)"
   ]
  },
  {
   "cell_type": "markdown",
   "metadata": {
    "colab_type": "text",
    "id": "AbfTzuLfmUMF"
   },
   "source": [
    "As soon as the unknown word was detected in the sentence, we added that sentence in the new list: there is not reason to spend time/memory and to scan that sentence further!\n",
    "\n",
    "**Practice.** Rewrite the code printing all prime numbers from $2$ to $10$ in a more efficient way by using the `break` statement."
   ]
  },
  {
   "cell_type": "code",
   "execution_count": 10,
   "metadata": {
    "colab": {
     "base_uri": "https://localhost:8080/",
     "height": 153
    },
    "colab_type": "code",
    "id": "fqeXovnPmUMG",
    "outputId": "a6c5417a-bb2a-4b55-d448-2644dfff197e"
   },
   "outputs": [
    {
     "name": "stdout",
     "output_type": "stream",
     "text": [
      "2 is prime: True\n",
      "3 is prime: True\n",
      "4 is prime: False\n",
      "5 is prime: True\n",
      "6 is prime: False\n",
      "7 is prime: True\n",
      "8 is prime: False\n",
      "9 is prime: False\n"
     ]
    }
   ],
   "source": [
    "for n in range(2,10):\n",
    "  prime=True\n",
    "  for d in range(2,n):\n",
    "    #print(\"Checking dividion of\",n,\"by\",d)\n",
    "    if n%d==0:\n",
    "      prime=False\n",
    "      break\n",
    "  print(n,\"is prime:\",prime)"
   ]
  },
  {
   "cell_type": "markdown",
   "metadata": {
    "colab_type": "text",
    "id": "yf5qdU2qmUMI"
   },
   "source": [
    "**Practice.** You are given a list of adjectives describing weather. Loop over every adjective and ask the user if it describes today's weather. If the user answers \"yes\", react somehow and stop there.\n",
    "\n",
    "    Is it sunny today? nope\n",
    "    Is it rainy today? no\n",
    "    Is it cloudy today? no\n",
    "    Is it dry today? no\n",
    "    Is it foggy today? yes\n",
    "    Got it!"
   ]
  },
  {
   "cell_type": "code",
   "execution_count": 11,
   "metadata": {
    "colab": {
     "base_uri": "https://localhost:8080/",
     "height": 136
    },
    "colab_type": "code",
    "id": "ph1APXUzmUMJ",
    "outputId": "8fd67cdc-980d-4473-ea5e-1501dbb0932e"
   },
   "outputs": [
    {
     "name": "stdout",
     "output_type": "stream",
     "text": [
      "Is it sunny today?\n",
      "no\n",
      "Is it rainy today?\n",
      "no\n",
      "Is it cloudy today?\n",
      "Yes\n",
      "Got it!\n"
     ]
    }
   ],
   "source": [
    "weather = [\"sunny\", \"rainy\", \"cloudy\", \"dry\", \"foggy\", \"clear\", \"freezing\"]\n",
    "for a in weather:\n",
    "  print(\"Is it\", a , \"today?\")\n",
    "  user_input=input()\n",
    "  if user_input==\"Yes\":\n",
    "    print(\"Got it!\")\n",
    "    break\n",
    "\n"
   ]
  },
  {
   "cell_type": "markdown",
   "metadata": {
    "colab_type": "text",
    "id": "CBZcqy5XmUMK"
   },
   "source": [
    "## `continue` statement\n",
    "\n",
    "The `continue` statement skips the rest of the code in the iteration where it is executed.\n",
    "\n",
    "    for item in list:\n",
    "        if condition:\n",
    "            continue\n",
    "        #  this code will be skipped for the current item if the condition is true\n",
    "        \n",
    "If `condition` is true, the `continue` is executed, and `item` right away takes the next available value without executing the rest of the code."
   ]
  },
  {
   "cell_type": "code",
   "execution_count": 12,
   "metadata": {
    "colab": {
     "base_uri": "https://localhost:8080/",
     "height": 119
    },
    "colab_type": "code",
    "id": "vX3J4Q0AmUML",
    "outputId": "d092a6e6-aa54-471d-f5db-94c0765823e6"
   },
   "outputs": [
    {
     "name": "stdout",
     "output_type": "stream",
     "text": [
      "Number 1 is odd.\n",
      "Number 3 is odd.\n",
      "Number 5 is odd.\n",
      "Number 7 is odd.\n",
      "Number 9 is odd.\n",
      "Number 11 is odd.\n"
     ]
    }
   ],
   "source": [
    "numbers = [1, 3, 5, 7, 8, 9, 10, 11]\n",
    "\n",
    "for n in numbers:\n",
    "    if n % 2 == 0:\n",
    "        continue\n",
    "        \n",
    "    print(\"Number\", n, \"is odd.\")"
   ]
  },
  {
   "cell_type": "markdown",
   "metadata": {
    "colab_type": "text",
    "id": "kdyodiC_mUMN"
   },
   "source": [
    "**Practice.** The code below asks user for a word. For every consonant in this word, print its index in the alphabet."
   ]
  },
  {
   "cell_type": "code",
   "execution_count": 13,
   "metadata": {
    "colab": {
     "base_uri": "https://localhost:8080/",
     "height": 68
    },
    "colab_type": "code",
    "id": "FqVDpG_1mUMO",
    "outputId": "46bbdf70-6651-46f6-fb76-b2034cc39dec"
   },
   "outputs": [
    {
     "name": "stdout",
     "output_type": "stream",
     "text": [
      "Word: car\n",
      "The consonant is c and its index is 2\n",
      "The consonant is r and its index is 17\n"
     ]
    }
   ],
   "source": [
    "alphabet = \"abcdefghijklmnopqrstuvwxyz\"\n",
    "consonants = \"bcdfghjklmnpqrstvwxz\"\n",
    "\n",
    "word = input(\"Word: \")\n",
    "for s in word:\n",
    "    if s in consonants:\n",
    "        index = alphabet.find(s)\n",
    "        print(\"The consonant is\", s, \"and its index is\", index)"
   ]
  },
  {
   "cell_type": "markdown",
   "metadata": {
    "colab_type": "text",
    "id": "K28WzfwkmUMR"
   },
   "source": [
    "Rewrite the code above using the `continue` statement. We want to skip the rest of the code within the loop if `s` is not a consonant!"
   ]
  },
  {
   "cell_type": "code",
   "execution_count": 14,
   "metadata": {
    "colab": {
     "base_uri": "https://localhost:8080/",
     "height": 85
    },
    "colab_type": "code",
    "id": "BhnBeGXrmUMS",
    "outputId": "c2cd2847-9bce-4280-fc12-d47396758a0f"
   },
   "outputs": [
    {
     "name": "stdout",
     "output_type": "stream",
     "text": [
      "Word: apple\n",
      "The consonant is p and its index is 15\n",
      "The consonant is p and its index is 15\n",
      "The consonant is l and its index is 11\n"
     ]
    }
   ],
   "source": [
    "alphabet = \"abcdefghijklmnopqrstuvwxyz\"\n",
    "consonants = \"bcdfghjklmnpqrstvwxz\"\n",
    "\n",
    "word = input(\"Word: \")\n",
    "for s in word:\n",
    "    if s not in consonants:\n",
    "      continue\n",
    "    else:\n",
    "      index=alphabet.find(s)\n",
    "      print(\"The consonant is\",s,\"and its index is\", index)\n",
    "      "
   ]
  },
  {
   "cell_type": "markdown",
   "metadata": {
    "colab_type": "text",
    "id": "wNvzoyf4mUMW"
   },
   "source": [
    "The code that uses `continue` statement in the beginning of the code block is easy to read and understand: it works as a \"pre-condition\" while helping us to avoid excessive indentation."
   ]
  },
  {
   "cell_type": "markdown",
   "metadata": {
    "colab_type": "text",
    "id": "kouZpvvamUMY"
   },
   "source": [
    "## `while` loops\n",
    "\n",
    "While `for` loops allow us to iterate a container and access its values one-by-one, `while` loops help us to keep executing some code block until a certain condition is true.\n",
    "\n",
    "    while condition:\n",
    "        # code that will be executed while condition is true\n",
    "        \n",
    "The code below prints numbers from 0 to $10$."
   ]
  },
  {
   "cell_type": "code",
   "execution_count": 15,
   "metadata": {
    "colab": {
     "base_uri": "https://localhost:8080/",
     "height": 34
    },
    "colab_type": "code",
    "id": "h7Bb03q4mUMZ",
    "outputId": "049cec8c-36a3-44c3-9718-059388fb92fe"
   },
   "outputs": [
    {
     "name": "stdout",
     "output_type": "stream",
     "text": [
      "0 1 2 3 4 5 6 7 8 9 10 "
     ]
    }
   ],
   "source": [
    "number = 0\n",
    "while number <= 10:\n",
    "    print(number, end=\" \")\n",
    "    number += 1"
   ]
  },
  {
   "cell_type": "markdown",
   "metadata": {
    "colab_type": "text",
    "id": "MJHmYFLimUMb"
   },
   "source": [
    "**Warning:** if you are writing a code that includes a `while` loop, _always_ make sure that it will eventually finish.\n",
    "\n",
    "**Question:** what is wrong with the following code?\n",
    "\n",
    "    number = 0\n",
    "    while number <= 10:\n",
    "        print(number)\n",
    "        \n",
    "Or, for example, we can write a code that asks a user to provide a unique words. We will stop asking the user for the words as soon as they repeated themselves."
   ]
  },
  {
   "cell_type": "code",
   "execution_count": 16,
   "metadata": {
    "colab": {
     "base_uri": "https://localhost:8080/",
     "height": 102
    },
    "colab_type": "code",
    "id": "IM62stY0mUMc",
    "outputId": "85f62f16-e52f-413d-9c68-a0a127a9849b"
   },
   "outputs": [
    {
     "name": "stdout",
     "output_type": "stream",
     "text": [
      "Give me a unique word: fdss\n",
      "Give me a unique word: fgh\n",
      "Give me a unique word: cat\n",
      "Give me a unique word: cat\n",
      "You are repeating yourself!\n"
     ]
    }
   ],
   "source": [
    "words = []\n",
    "new_word = input(\"Give me a unique word: \")\n",
    "\n",
    "while new_word not in words:\n",
    "    words.append(new_word)\n",
    "    new_word = input(\"Give me a unique word: \")\n",
    "    \n",
    "print(\"You are repeating yourself!\")"
   ]
  },
  {
   "cell_type": "markdown",
   "metadata": {
    "colab_type": "text",
    "id": "2QUEQRdZmUMd"
   },
   "source": [
    "**Question 1.** What is wrong with this code?\n",
    "\n",
    "    words = []\n",
    "    new_word = input(\"Give me a unique word: \")\n",
    "    while new_word not in words:\n",
    "        words.append(new_word)\n",
    "        user_input = input(\"Give me a unique word: \")\n",
    "    print(\"You are repeating yourself!\")\n",
    "    \n",
    "**Question 2.** What is wrong with this code?\n",
    "\n",
    "    words = []\n",
    "    new_word = input(\"Give me a unique word: \")\n",
    "    words.append(new_word)\n",
    "    while new_word not in words:\n",
    "        new_word = input(\"Give me a unique word: \")\n",
    "        words.append(new_word)\n",
    "    print(\"You are repeating yourself!\")"
   ]
  },
  {
   "cell_type": "markdown",
   "metadata": {
    "colab_type": "text",
    "id": "uq2szZrTmUMe"
   },
   "source": [
    "**Practice.** Using a `while` loop, write a code that will print symbols of a given word and its their indices.\n",
    "\n",
    "    input:   sky\n",
    "    output:  s 0\n",
    "             k 1\n",
    "             y 2"
   ]
  },
  {
   "cell_type": "code",
   "execution_count": 17,
   "metadata": {
    "colab": {
     "base_uri": "https://localhost:8080/",
     "height": 68
    },
    "colab_type": "code",
    "id": "Y6oWrrHKmUMe",
    "outputId": "dba3b06c-2217-4543-eb7a-5e5ab39f8995"
   },
   "outputs": [
    {
     "name": "stdout",
     "output_type": "stream",
     "text": [
      "s 0\n",
      "k 1\n",
      "y 2\n"
     ]
    }
   ],
   "source": [
    "word=\"sky\"\n",
    "a=0\n",
    "while a < len(word):\n",
    "  print(word[a],a)\n",
    "  a=a+1\n"
   ]
  },
  {
   "cell_type": "markdown",
   "metadata": {
    "colab_type": "text",
    "id": "tJAFd55fmUMg"
   },
   "source": [
    "It is possible to use `break` and `continue` in `while` loops as well. The logic is exactly as it was before:\n",
    "  * `break` breaks out of the loop;\n",
    "  * `continue` will skip the rest of the code in the current state of the loop and will directly go to its beginning."
   ]
  },
  {
   "cell_type": "code",
   "execution_count": 18,
   "metadata": {
    "colab": {
     "base_uri": "https://localhost:8080/",
     "height": 85
    },
    "colab_type": "code",
    "id": "OXWk5ONemUMg",
    "outputId": "f33eaa07-a7bc-4965-e493-a92d7ed63594"
   },
   "outputs": [
    {
     "name": "stdout",
     "output_type": "stream",
     "text": [
      "Give me a word: h\n",
      "Give me a word: d\n",
      "Give me a word: h\n",
      "You just repeated yourself.\n"
     ]
    }
   ],
   "source": [
    "words = []\n",
    "\n",
    "while True:\n",
    "    w = input(\"Give me a word: \")\n",
    "    if w not in words:\n",
    "        words.append(w)\n",
    "    else:\n",
    "        print(\"You just repeated yourself.\")\n",
    "        break"
   ]
  },
  {
   "cell_type": "code",
   "execution_count": 0,
   "metadata": {
    "colab": {
     "base_uri": "https://localhost:8080/",
     "height": 68
    },
    "colab_type": "code",
    "id": "WtQxmb_vmUMi",
    "outputId": "91a84c22-e46c-47c1-fe09-e553bfc0589c"
   },
   "outputs": [
    {
     "name": "stdout",
     "output_type": "stream",
     "text": [
      "Word: cat\n",
      "The consonant is c and its index is 2\n",
      "The consonant is t and its index is 19\n"
     ]
    }
   ],
   "source": [
    "alphabet = \"abcdefghijklmnopqrstuvwxyz\"\n",
    "consonants = \"bcdfghjklmnpqrstvwxz\"\n",
    "\n",
    "word = input(\"Word: \")\n",
    "n = 0\n",
    "\n",
    "while n < len(word):\n",
    "    \n",
    "    if word[n] not in consonants:\n",
    "        n += 1\n",
    "        continue\n",
    "        \n",
    "    index = alphabet.find(word[n])\n",
    "    print(\"The consonant is\", word[n], \"and its index is\", index)\n",
    "    n += 1"
   ]
  },
  {
   "cell_type": "markdown",
   "metadata": {
    "colab_type": "text",
    "id": "MI-z_GIxmUMk"
   },
   "source": [
    "**Question:** In the code cell above, why do we need the `n += 1` statement right before `continue`?\n",
    "\n",
    "**Practice:** for a given number, keep substracting $0.5$ from it and printing the result on the screen until that number reaches $0$."
   ]
  },
  {
   "cell_type": "code",
   "execution_count": 20,
   "metadata": {
    "colab": {
     "base_uri": "https://localhost:8080/",
     "height": 204
    },
    "colab_type": "code",
    "id": "GtDPfFpemUMl",
    "outputId": "2298a77f-bd20-4f71-bf6e-5422f3c3726b"
   },
   "outputs": [
    {
     "name": "stdout",
     "output_type": "stream",
     "text": [
      "5\n",
      "4.5\n",
      "4.0\n",
      "3.5\n",
      "3.0\n",
      "2.5\n",
      "2.0\n",
      "1.5\n",
      "1.0\n",
      "0.5\n",
      "0.0\n"
     ]
    }
   ],
   "source": [
    "n=5\n",
    "while n>=0:\n",
    "  print(n)\n",
    "  n=n-0.5"
   ]
  },
  {
   "cell_type": "markdown",
   "metadata": {
    "colab_type": "text",
    "id": "IV6nrZ8umUMn"
   },
   "source": [
    "## Text generation with bigrams\n",
    "\n",
    "You will be given a text, and your goal is to learn word-based bigrams of that text. Then we will generate new sentences based on the ones extracted from the text.\n",
    "\n",
    "_Step 1._ You are given the following text. (The only punctuation used there is `.`.)"
   ]
  },
  {
   "cell_type": "code",
   "execution_count": 0,
   "metadata": {
    "colab": {
     "base_uri": "https://localhost:8080/",
     "height": 34
    },
    "colab_type": "code",
    "id": "Bko37SeLmUMo",
    "outputId": "689bbbf8-45b8-4ae3-811a-0d9e91ccab94"
   },
   "outputs": [
    {
     "name": "stdout",
     "output_type": "stream",
     "text": [
      "You look wonderful today. The sky is blue and the sun is shining. I look at you. Look at these trees. There are birds and butterflies here.\n"
     ]
    }
   ],
   "source": [
    "text = \"You look wonderful today. The sky is blue and the sun is shining. I look at you. Look at these trees. There are birds and butterflies here.\"\n",
    "print(text)"
   ]
  },
  {
   "cell_type": "markdown",
   "metadata": {
    "colab_type": "text",
    "id": "FLBo-l8lmUMs"
   },
   "source": [
    "_Step 2._ Create a list of words and punctuations (separately!) of `text`.\n",
    "\n",
    "    Expected output: ['you', 'look', 'wonderful', 'today', '.', 'the', 'sky', 'is', 'blue', 'and', 'the', \n",
    "                      'sun', 'is', 'shining', '.', 'i', 'look', 'at', 'you', '.', 'look', 'at', 'these', \n",
    "                      'trees', '.', 'there', 'are', 'birds', 'and', 'butterflies', 'here', '.']"
   ]
  },
  {
   "cell_type": "code",
   "execution_count": 0,
   "metadata": {
    "colab": {},
    "colab_type": "code",
    "id": "hf3ULcTAmUMt"
   },
   "outputs": [],
   "source": []
  },
  {
   "cell_type": "markdown",
   "metadata": {
    "colab_type": "text",
    "id": "JrueobIbmUMv"
   },
   "source": [
    "_Step 3._ Based on the previous output, create a list of bigrams of that text.\n",
    "\n",
    "    Expected output: [['you', 'look'], ['look', 'wonderful'], ['wonderful', 'today'], ['today', '.'], \n",
    "                      ['.', 'the'], ['the', 'sky'], ['sky', 'is'], ['is', 'blue'], ['blue', 'and'],\n",
    "                      ['and', 'the'], ['the', 'sun'], ['sun', 'is'], ['is', 'shining'], ['shining', '.'], \n",
    "                      ['.', 'i'], ['i', 'look'], ['look', 'at'], ['at', 'you'], ['you', '.'], ['.', 'look'], \n",
    "                      ['at', 'these'], ['these', 'trees'], ['trees', '.'], ['.', 'there'], ['there', 'are'], \n",
    "                      ['are', 'birds'], ['birds', 'and'], ['and', 'butterflies'], ['butterflies', 'here'], \n",
    "                      ['here', '.']]"
   ]
  },
  {
   "cell_type": "code",
   "execution_count": 0,
   "metadata": {
    "colab": {},
    "colab_type": "code",
    "id": "yibXKb4dmUMv"
   },
   "outputs": [],
   "source": []
  },
  {
   "cell_type": "markdown",
   "metadata": {
    "colab_type": "text",
    "id": "RFL1YpurmUMx"
   },
   "source": [
    "_Step 4._ A function `choice` from the package `random` takes a non-empty list as input and returns a random item from this list as the output"
   ]
  },
  {
   "cell_type": "code",
   "execution_count": 0,
   "metadata": {
    "colab": {
     "base_uri": "https://localhost:8080/",
     "height": 34
    },
    "colab_type": "code",
    "id": "qd3ozWntmUMy",
    "outputId": "cdde0993-bffe-4881-8bb3-61aaa06b1aec"
   },
   "outputs": [
    {
     "data": {
      "text/plain": [
       "'B'"
      ]
     },
     "execution_count": 158,
     "metadata": {
      "tags": []
     },
     "output_type": "execute_result"
    }
   ],
   "source": [
    "from random import choice\n",
    "\n",
    "choice([\"A\", \"B\", \"C\"])"
   ]
  },
  {
   "cell_type": "markdown",
   "metadata": {
    "colab_type": "text",
    "id": "N19iXdZtmUM1"
   },
   "source": [
    "Let us then pick a random bigram as the beginning of the sentence, and then keep adding words to that sentence depending on its last word. The sentence is finished if we encountered `.`."
   ]
  },
  {
   "cell_type": "code",
   "execution_count": 0,
   "metadata": {
    "colab": {},
    "colab_type": "code",
    "id": "lae0kqDtmUM2"
   },
   "outputs": [],
   "source": []
  },
  {
   "cell_type": "markdown",
   "metadata": {
    "colab_type": "text",
    "id": "xJpns0MgmUM3"
   },
   "source": [
    "**Question:** will there be any difference in the \"quality\" of the generated sentences if we use the same code, but _keep duplicate bigrams?_\n",
    "\n",
    "**Extension:** modify the code above above so that it's not a _bigram_ based sentence generator, but rather an _n-gram_ based."
   ]
  },
  {
   "cell_type": "code",
   "execution_count": 0,
   "metadata": {
    "colab": {},
    "colab_type": "code",
    "id": "Q0tu9XnmmUM4"
   },
   "outputs": [],
   "source": []
  },
  {
   "cell_type": "markdown",
   "metadata": {
    "colab_type": "text",
    "id": "JItFfFsTmUM7"
   },
   "source": [
    "# Homework 7\n",
    "\n",
    "**Due on Sunday, October 20th, 11.59pm**\n",
    "\n",
    "Send your notebook (don't forget to save your solutions!) to <alena.aksenova@stonybrook.edu> with the subject **\\[CompLing1\\] Homework 7**."
   ]
  },
  {
   "cell_type": "markdown",
   "metadata": {
    "colab_type": "text",
    "id": "TK9fJHfTmUM7"
   },
   "source": [
    "**Problem 1.** To get a random integer from some interval, we can use `randint` function from the package `random`. Run the following cell several times."
   ]
  },
  {
   "cell_type": "code",
   "execution_count": 61,
   "metadata": {
    "colab": {
     "base_uri": "https://localhost:8080/",
     "height": 34
    },
    "colab_type": "code",
    "id": "S31_BRVkmUM8",
    "outputId": "9b967ea3-4027-4eec-c2e3-44620a5067b6"
   },
   "outputs": [
    {
     "data": {
      "text/plain": [
       "8"
      ]
     },
     "execution_count": 61,
     "metadata": {
      "tags": []
     },
     "output_type": "execute_result"
    }
   ],
   "source": [
    "import random\n",
    "random.randint(4, 8)"
   ]
  },
  {
   "cell_type": "markdown",
   "metadata": {
    "colab_type": "text",
    "id": "l0n3JnSzmUM9"
   },
   "source": [
    "Ask user for an integer from $1$ to $10$. Write code that will keep guessing the number that the user had in mind, stop when the guessed number is the same as the number provided by the user. Your output should look somehow like this:\n",
    "\n",
    "    Give me a number from 1 to 10: 9\n",
    "    Is 10 the number?\n",
    "    No...\n",
    "    Is 10 the number?\n",
    "    No...\n",
    "    Is 7 the number?\n",
    "    No...\n",
    "    Is 10 the number?\n",
    "    No...\n",
    "    Is 6 the number?\n",
    "    No...\n",
    "    Is 9 the number?\n",
    "    Cool, 9 is the number!"
   ]
  },
  {
   "cell_type": "code",
   "execution_count": 63,
   "metadata": {
    "colab": {
     "base_uri": "https://localhost:8080/",
     "height": 221
    },
    "colab_type": "code",
    "id": "QAxifBvDmUM-",
    "outputId": "64f63f59-87cd-42ab-fbe8-4bd3ece4f009"
   },
   "outputs": [
    {
     "name": "stdout",
     "output_type": "stream",
     "text": [
      "Give me a number from 1 to 10:1\n",
      "No.....\n",
      "Give me a number from 1 to 10:2\n",
      "No.....\n",
      "Give me a number from 1 to 10:3\n",
      "No.....\n",
      "Give me a number from 1 to 10:4\n",
      "No.....\n",
      "Give me a number from 1 to 10:5\n",
      "No.....\n",
      "Give me a number from 1 to 10:6\n",
      "Cool, 6 is the number!\n"
     ]
    }
   ],
   "source": [
    "import random\n",
    "num1=random.randint(1,10)\n",
    "while True:\n",
    "  num2=int(input(\"Give me a number from 1 to 10:\"))\n",
    "  if num1==num2:\n",
    "    print(\"Cool,\", num2, \"is the number!\")\n",
    "    break\n",
    "  else:\n",
    "    print(\"No.....\")"
   ]
  },
  {
   "cell_type": "markdown",
   "metadata": {
    "colab_type": "text",
    "id": "Fpgdcl2ImUNB"
   },
   "source": [
    "#### `all` and `any`\n",
    "\n",
    "For the next exercise you might find useful functions `all` and `any`.\n",
    "\n",
    "`all` takes a list of booleans as input and returns True if all those booleans are True. Intuitively, you can think of `all` as the operator that puts `and` in-between all those booleans and evaluates the result."
   ]
  },
  {
   "cell_type": "code",
   "execution_count": 25,
   "metadata": {
    "colab": {
     "base_uri": "https://localhost:8080/",
     "height": 68
    },
    "colab_type": "code",
    "id": "H7Nsfuq6mUND",
    "outputId": "f1da0498-d4c9-4bf5-e2e1-b5765464b01d"
   },
   "outputs": [
    {
     "name": "stdout",
     "output_type": "stream",
     "text": [
      "[True, True, True]    -> True\n",
      "[True, False, True]   -> False\n",
      "[False, False, False] -> False\n"
     ]
    }
   ],
   "source": [
    "print([True, True, True], \"   ->\", all([True, True, True]))\n",
    "print([True, False, True], \"  ->\", all([True, False, True]))\n",
    "print([False, False, False], \"->\", all([False, False, False]))"
   ]
  },
  {
   "cell_type": "markdown",
   "metadata": {
    "colab_type": "text",
    "id": "Yx3Y3QD_mUNF"
   },
   "source": [
    "`any` takes a list of booleans as input and returns True if at least one of those booleans is True. Intuitively, you can think of `any` as the operator that puts `or` in-between all those booleans and evaluates the result."
   ]
  },
  {
   "cell_type": "code",
   "execution_count": 26,
   "metadata": {
    "colab": {
     "base_uri": "https://localhost:8080/",
     "height": 68
    },
    "colab_type": "code",
    "id": "15hHy1q0mUNF",
    "outputId": "7f8fcc49-df74-4138-cb04-fa73c76f7027"
   },
   "outputs": [
    {
     "name": "stdout",
     "output_type": "stream",
     "text": [
      "[True, True, True]    -> True\n",
      "[True, False, True]   -> True\n",
      "[False, False, False] -> False\n"
     ]
    }
   ],
   "source": [
    "print([True, True, True], \"   ->\", any([True, True, True]))\n",
    "print([True, False, True], \"  ->\", any([True, False, True]))\n",
    "print([False, False, False], \"->\", any([False, False, False]))"
   ]
  },
  {
   "cell_type": "markdown",
   "metadata": {
    "colab_type": "text",
    "id": "URkvW-8LmUNH"
   },
   "source": [
    "**Problem 2.** The task of this exercise will be to evaluate strings from the Fake Turkish language and tell if the harmony rule is violated or not.\n",
    "\n",
    "In Fake Turkish, vowels can be front or back."
   ]
  },
  {
   "cell_type": "code",
   "execution_count": 0,
   "metadata": {
    "colab": {},
    "colab_type": "code",
    "id": "p0rwiOq6mUNH"
   },
   "outputs": [],
   "source": [
    "front = [\"e\", \"i\", \"ö\", \"ü\"]\n",
    "back = [\"a\", \"ı\", \"o\", \"u\"]"
   ]
  },
  {
   "cell_type": "markdown",
   "metadata": {
    "colab_type": "text",
    "id": "HH1ISXLTmUNL"
   },
   "source": [
    "Within the same word, all vowels can be either front or back.\n",
    "\n",
    "    nekilüm -> good\n",
    "    almırdum -> good\n",
    "    özkanım -> bad\n",
    "    \n",
    "You are given the following list of Fake Turkish words."
   ]
  },
  {
   "cell_type": "code",
   "execution_count": 0,
   "metadata": {
    "colab": {},
    "colab_type": "code",
    "id": "Z8Gi6FAomUNM"
   },
   "outputs": [],
   "source": [
    "fake_turkish = [\"nekilüm\", \"almırdum\", \"özkanım\", \"karokum\", \"almalar\", \"dökulön\"]"
   ]
  },
  {
   "cell_type": "markdown",
   "metadata": {
    "colab_type": "text",
    "id": "qgouncg_mUNN"
   },
   "source": [
    "Create a dictionary where the keys will be the words listed in `fake_turkish` list, and the values are True or False depending on those words following the harmony rules.\n",
    "\n",
    "    Expected output:\n",
    "    {'nekilüm': True, 'almırdum': True, 'özkanım': False, 'karokum': True, 'almalar': True, 'dökulön': False}"
   ]
  },
  {
   "cell_type": "code",
   "execution_count": 72,
   "metadata": {
    "colab": {
     "base_uri": "https://localhost:8080/",
     "height": 34
    },
    "colab_type": "code",
    "id": "uNQ6siwmmUNN",
    "outputId": "2728cb0f-633f-488b-a863-2fdee16df443"
   },
   "outputs": [
    {
     "name": "stdout",
     "output_type": "stream",
     "text": [
      "{'nekilüm': True, 'almırdum': True, 'özkanım': False, 'karokum': True, 'almalar': True, 'dökulön': False}\n"
     ]
    }
   ],
   "source": [
    "word=[]\n",
    "dic={}\n",
    "TrueorFalse=[]\n",
    "for a in range(len(fake_turkish)):\n",
    "  for b in fake_turkish[a]:\n",
    "    if b in front:\n",
    "      word.append(True)\n",
    "    if b in back:\n",
    "      word.append(False)\n",
    "  if True not in word:\n",
    "    for c in range(len(word)):\n",
    "      word[c]=True\n",
    "  \n",
    "  TrueorFalse.append(all(word))\n",
    "  word.clear()\n",
    "  #for d in range(len(word)-2):\n",
    "    #del word[d]\n",
    "  \n",
    "for e in range(len(fake_turkish)):\n",
    "  dic[fake_turkish[e]]=TrueorFalse[e]\n",
    "  \n",
    "print(dic)\n",
    "\n",
    "  \n"
   ]
  },
  {
   "cell_type": "markdown",
   "metadata": {
    "colab_type": "text",
    "id": "fpF29T8vmUNP"
   },
   "source": [
    "**Problem 3. (optional)** Write a code that asks user for a word and tells if that word is a palindrome. _Palindrome_ is a word that reads the same backwards as forwards, for example, \"rotator\", \"kayak\", \"mom\", \"level\"."
   ]
  },
  {
   "cell_type": "code",
   "execution_count": 74,
   "metadata": {
    "colab": {
     "base_uri": "https://localhost:8080/",
     "height": 51
    },
    "colab_type": "code",
    "id": "b4TDhgb2mUNP",
    "outputId": "bad26be7-ffcd-4fa0-8007-edc9a57493d5"
   },
   "outputs": [
    {
     "name": "stdout",
     "output_type": "stream",
     "text": [
      "Please input a word:dad\n",
      "The word is a palindrome\n"
     ]
    }
   ],
   "source": [
    "i=0\n",
    "word=input(\"Please input a word:\")\n",
    "word1=[]\n",
    "while i<=len(word)-1:\n",
    "  word1.append(word[len(word)-i-1])\n",
    "  i+=1\n",
    "word2=(\"\".join(word1))\n",
    "if word==word2:\n",
    "  print(\"The word is a palindrome\")\n",
    "else:\n",
    "  print(\"The word is not a palindrome\")\n",
    "  "
   ]
  }
 ],
 "metadata": {
  "colab": {
   "collapsed_sections": [],
   "name": "[CompLing1]HW7_Karina Hu.ipynb",
   "provenance": []
  },
  "kernelspec": {
   "display_name": "Python 3",
   "language": "python",
   "name": "python3"
  },
  "language_info": {
   "codemirror_mode": {
    "name": "ipython",
    "version": 3
   },
   "file_extension": ".py",
   "mimetype": "text/x-python",
   "name": "python",
   "nbconvert_exporter": "python",
   "pygments_lexer": "ipython3",
   "version": "3.8.0"
  }
 },
 "nbformat": 4,
 "nbformat_minor": 1
}
