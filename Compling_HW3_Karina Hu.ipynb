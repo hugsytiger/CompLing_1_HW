{
  "nbformat": 4,
  "nbformat_minor": 0,
  "metadata": {
    "kernelspec": {
      "display_name": "Python 3",
      "language": "python",
      "name": "python3"
    },
    "language_info": {
      "codemirror_mode": {
        "name": "ipython",
        "version": 3
      },
      "file_extension": ".py",
      "mimetype": "text/x-python",
      "name": "python",
      "nbconvert_exporter": "python",
      "pygments_lexer": "ipython3",
      "version": "3.6.8"
    },
    "colab": {
      "name": "Compling HW3.ipynb",
      "provenance": []
    }
  },
  "cells": [
    {
      "cell_type": "markdown",
      "metadata": {
        "id": "08CJqdd9v0Ve",
        "colab_type": "text"
      },
      "source": [
        "<div style=\"text-align: right\">\n",
        "    <i>\n",
        "        LIN 537: Computational Lingusitics 1 <br>\n",
        "        Fall 2019 <br>\n",
        "        Alëna Aksënova\n",
        "    </i>\n",
        "</div>\n",
        "\n",
        "# Notebook 3: lists and for loops\n",
        "\n",
        "This notebook introduces a new data type, `list`, and explains what methods are defined for lists (`append`, `extend`, `insert`, and others) and what issues appear when the lists are copied. Then it shows the way to access sub-elements of larger elements individually via a `for-loop`."
      ]
    },
    {
      "cell_type": "markdown",
      "metadata": {
        "id": "jYqsDxZgv0Vf",
        "colab_type": "text"
      },
      "source": [
        "## Lists\n",
        "\n",
        "The new data type, `list`, is a collection of items.\n",
        "These items can be of very different types: integers, strings, booleans, floats, and other lists as well."
      ]
    },
    {
      "cell_type": "code",
      "metadata": {
        "id": "0v7MRV9kv0Vg",
        "colab_type": "code",
        "colab": {}
      },
      "source": [
        "a = [1, 2, 3]\n",
        "print(a)"
      ],
      "execution_count": 0,
      "outputs": []
    },
    {
      "cell_type": "code",
      "metadata": {
        "id": "Y-c3LqUCv0Vk",
        "colab_type": "code",
        "colab": {}
      },
      "source": [
        "type(a)"
      ],
      "execution_count": 0,
      "outputs": []
    },
    {
      "cell_type": "markdown",
      "metadata": {
        "id": "WfKCe96zv0Vm",
        "colab_type": "text"
      },
      "source": [
        "A list below contains another list as its sub-list:"
      ]
    },
    {
      "cell_type": "code",
      "metadata": {
        "id": "maxNrKaMv0Vn",
        "colab_type": "code",
        "colab": {}
      },
      "source": [
        "b = [1, \"a\", [\"cab\", True]]"
      ],
      "execution_count": 0,
      "outputs": []
    },
    {
      "cell_type": "markdown",
      "metadata": {
        "id": "Q-B4q8OPv0Vq",
        "colab_type": "text"
      },
      "source": [
        "The items in the list are _ordered_, just as strings. Remember, that strings are ordered, and the simple proof to it is that strings \"devil\" and \"lived\" are different words. Lists are like that as well: `[1, 2, 3]` is not the same as `[3, 1, 2]`."
      ]
    },
    {
      "cell_type": "code",
      "metadata": {
        "id": "zPhwiTdDv0Vr",
        "colab_type": "code",
        "colab": {}
      },
      "source": [
        "[1, 2, 3] == [3, 1, 2]"
      ],
      "execution_count": 0,
      "outputs": []
    },
    {
      "cell_type": "markdown",
      "metadata": {
        "id": "grJKc798v0Vt",
        "colab_type": "text"
      },
      "source": [
        "They are ordered, and therefore we can use indexing with lists:"
      ]
    },
    {
      "cell_type": "code",
      "metadata": {
        "id": "A9ODAoOav0Vu",
        "colab_type": "code",
        "colab": {}
      },
      "source": [
        "sample_list = [1, \"linguistics\", [\"physics\", 15], 3.14, False]\n",
        "print(\"Element at the index 1 is\", sample_list[1])\n",
        "print(\"Element at the index 2 is\", sample_list[2])\n",
        "print(\"Element at the index 4 is\", sample_list[4])"
      ],
      "execution_count": 0,
      "outputs": []
    },
    {
      "cell_type": "code",
      "metadata": {
        "id": "Loikfrwov0Vw",
        "colab_type": "code",
        "colab": {}
      },
      "source": [
        "len(sample_list)"
      ],
      "execution_count": 0,
      "outputs": []
    },
    {
      "cell_type": "markdown",
      "metadata": {
        "id": "drIOaKQpv0Vz",
        "colab_type": "text"
      },
      "source": [
        "Accessing an element of the sublist is possible by indicating its address in several layers of indexing:"
      ]
    },
    {
      "cell_type": "code",
      "metadata": {
        "id": "z6FsWVldv0V0",
        "colab_type": "code",
        "colab": {}
      },
      "source": [
        "print(sample_list[2][0])"
      ],
      "execution_count": 0,
      "outputs": []
    },
    {
      "cell_type": "markdown",
      "metadata": {
        "id": "qlenGwdMv0V2",
        "colab_type": "text"
      },
      "source": [
        "An empty list can be created in a following way:"
      ]
    },
    {
      "cell_type": "code",
      "metadata": {
        "id": "zNnowAG7v0V3",
        "colab_type": "code",
        "colab": {}
      },
      "source": [
        "empty_list = []\n",
        "print(\"This is an empty list:\", empty_list)\n",
        "print(\"Its length is\", len(empty_list))"
      ],
      "execution_count": 0,
      "outputs": []
    },
    {
      "cell_type": "markdown",
      "metadata": {
        "id": "JMaF0IDuv0V7",
        "colab_type": "text"
      },
      "source": [
        "### Modifying lists\n",
        "\n",
        "One can add new elements to lists by using methods `append`, `extend` and `insert`.\n",
        "\n",
        "#### `append`\n",
        "\n",
        "This method appends a new item to some already existing list and uses the following syntax `list_to_append_to.append(what_to_append)`."
      ]
    },
    {
      "cell_type": "code",
      "metadata": {
        "id": "40YzkIxjv0V8",
        "colab_type": "code",
        "colab": {}
      },
      "source": [
        "list_1 = [1, 2, 3]\n",
        "list_1.append(\"new item\")\n",
        "print(list_1)"
      ],
      "execution_count": 0,
      "outputs": []
    },
    {
      "cell_type": "markdown",
      "metadata": {
        "id": "O-40PBI5v0V_",
        "colab_type": "text"
      },
      "source": [
        "However, this is a way to add one item, and it cannot be used directly if we want to add all items from one list to another."
      ]
    },
    {
      "cell_type": "code",
      "metadata": {
        "id": "ofuZuMuOv0V_",
        "colab_type": "code",
        "colab": {}
      },
      "source": [
        "one_list = [1, 2, 3]\n",
        "another_list = [True, \"linguistics\"]\n",
        "one_list.append(another_list)\n",
        "print(one_list)"
      ],
      "execution_count": 0,
      "outputs": []
    },
    {
      "cell_type": "markdown",
      "metadata": {
        "id": "M4T6R6mXv0WC",
        "colab_type": "text"
      },
      "source": [
        "#### `extend`\n",
        "\n",
        "The `extend` method adds the element from the second list in a _flat_ way:"
      ]
    },
    {
      "cell_type": "code",
      "metadata": {
        "id": "dDnKWRerv0WC",
        "colab_type": "code",
        "colab": {}
      },
      "source": [
        "one_list = [1, 2, 3]\n",
        "another_list = [True, \"linguistics\"]\n",
        "one_list.extend(another_list)\n",
        "print(one_list)"
      ],
      "execution_count": 0,
      "outputs": []
    },
    {
      "cell_type": "markdown",
      "metadata": {
        "id": "-2dz4N3fv0WF",
        "colab_type": "text"
      },
      "source": [
        "#### `insert`\n",
        "\n",
        "If an element needs to be inserted on a concrete position, `insert` can be used with the specified index:"
      ]
    },
    {
      "cell_type": "code",
      "metadata": {
        "id": "uxsSySM-v0WF",
        "colab_type": "code",
        "colab": {}
      },
      "source": [
        "states = [\"California\", \"New York\", \"Arizona\"]\n",
        "states.insert(1, \"Colorado\")\n",
        "print(states)"
      ],
      "execution_count": 0,
      "outputs": []
    },
    {
      "cell_type": "markdown",
      "metadata": {
        "id": "lmE8GUEQv0WI",
        "colab_type": "text"
      },
      "source": [
        "#### `remove` and `del`\n",
        "\n",
        "The method `remove` removes a concrete item from the list."
      ]
    },
    {
      "cell_type": "code",
      "metadata": {
        "id": "2tKZSJryv0WI",
        "colab_type": "code",
        "colab": {}
      },
      "source": [
        "states = [\"California\", \"New York\", \"Arizona\"]\n",
        "states.remove(\"Arizona\")\n",
        "print(states)"
      ],
      "execution_count": 0,
      "outputs": []
    },
    {
      "cell_type": "markdown",
      "metadata": {
        "id": "QptuP-yQv0WL",
        "colab_type": "text"
      },
      "source": [
        "However, notice that `remove` only removes the first instance of the item:"
      ]
    },
    {
      "cell_type": "code",
      "metadata": {
        "id": "aQTbJ86jv0WL",
        "colab_type": "code",
        "colab": {}
      },
      "source": [
        "states = [\"California\", \"New York\", \"Arizona\", \"New York\"]\n",
        "states.remove(\"New York\")\n",
        "print(states)"
      ],
      "execution_count": 0,
      "outputs": []
    },
    {
      "cell_type": "markdown",
      "metadata": {
        "id": "x7qJiLsAv0WO",
        "colab_type": "text"
      },
      "source": [
        "If an item needs to be remove by position, one should use `del` operator. Notice its unusual syntax!"
      ]
    },
    {
      "cell_type": "code",
      "metadata": {
        "id": "cikptVdFv0WP",
        "colab_type": "code",
        "colab": {}
      },
      "source": [
        "print(states)\n",
        "del states[1]\n",
        "print(states)"
      ],
      "execution_count": 0,
      "outputs": []
    },
    {
      "cell_type": "markdown",
      "metadata": {
        "id": "l4NiX5W8v0WR",
        "colab_type": "text"
      },
      "source": [
        "Rewriting an element of a list by some other element can be done directly by accessing that element by index and changing it."
      ]
    },
    {
      "cell_type": "code",
      "metadata": {
        "id": "5Rc59Abov0WT",
        "colab_type": "code",
        "colab": {}
      },
      "source": [
        "cities = [\"NYC\", \"LA\"]\n",
        "cities[0] = \"SF\"\n",
        "print(cities)"
      ],
      "execution_count": 0,
      "outputs": []
    },
    {
      "cell_type": "markdown",
      "metadata": {
        "id": "vzOUnGi2v0WW",
        "colab_type": "text"
      },
      "source": [
        "**Practice.** You are given the following list of letters."
      ]
    },
    {
      "cell_type": "code",
      "metadata": {
        "id": "wvsD0Wh1v0WX",
        "colab_type": "code",
        "colab": {}
      },
      "source": [
        "letters = [\"d\", \"b\", \"c\", \"n\"]"
      ],
      "execution_count": 0,
      "outputs": []
    },
    {
      "cell_type": "markdown",
      "metadata": {
        "id": "LyONRLTJv0Wc",
        "colab_type": "text"
      },
      "source": [
        "Insert \"x\" at the position 3 in the list `letters`. Then remove \"c\" from it. Append \"e\". Delete the element at the index 2, and, finally, rewrite the letter at the position 1 as 'o'. Print `letters`."
      ]
    },
    {
      "cell_type": "code",
      "metadata": {
        "id": "1hID26uTv0Wc",
        "colab_type": "code",
        "colab": {}
      },
      "source": [
        ""
      ],
      "execution_count": 0,
      "outputs": []
    },
    {
      "cell_type": "markdown",
      "metadata": {
        "id": "k859jGM-v0Wh",
        "colab_type": "text"
      },
      "source": [
        "## Copying lists\n",
        "\n",
        "One needs to be careful when copying lists because it is a bit tricky. Consider the following code and its behavior."
      ]
    },
    {
      "cell_type": "code",
      "metadata": {
        "id": "ktbWSz6bv0Wh",
        "colab_type": "code",
        "colab": {}
      },
      "source": [
        "states_1 = [\"California\", \"New York\", \"Arizona\"]\n",
        "states_2 = states_1\n",
        "del states_2[2]\n",
        "print(\"states_1:\", states_1)\n",
        "print(\"states_2:\", states_2)"
      ],
      "execution_count": 0,
      "outputs": []
    },
    {
      "cell_type": "markdown",
      "metadata": {
        "id": "PcIrDL46v0Wj",
        "colab_type": "text"
      },
      "source": [
        "All variables, lists, strings, and so on are stored in memory. When you are running the cell that initializes a variable, it reseves a spot in memory for that variable, or it _allocates_ memory for that variable. **Memory allocation** is a process of reserving space in memory for some object.\n",
        "\n",
        "<img src=\"images/3_1.png\" width=\"300\">\n",
        "\n",
        "If a list contains another list (i.e. if the list is _nested_), then the \"main\" and the \"internal\" lists are contained in different memory positions. The \"main\" list contains an indicator where to look for the \"internal\" list, and this indicator is called a **pointer**.\n",
        "\n",
        "<img src=\"images/3_2.png\" width=\"350\">\n",
        "\n",
        "Examples of pointers in real life:\n",
        "  * address written on an envelope (address is a string that points to your appartment);\n",
        "  * your debit card (it doesn't have money, it points to an account with your money);\n",
        "  * URL (it doesn't have any info _inside_ it, it points to a source of that information), etc.\n",
        "  "
      ]
    },
    {
      "cell_type": "code",
      "metadata": {
        "id": "EKn_XUEiv0Wk",
        "colab_type": "code",
        "colab": {}
      },
      "source": [
        "states_1 = [\"California\", \"New York\", \"Arizona\"]\n",
        "states_2 = states_1"
      ],
      "execution_count": 0,
      "outputs": []
    },
    {
      "cell_type": "markdown",
      "metadata": {
        "id": "z_z0ctFhv0Wn",
        "colab_type": "text"
      },
      "source": [
        "### \"Straightforward\" copy\n",
        "\n",
        "When we copy a list by just assigning its value to another list, i.e. as `list_2 = list_1`, what happens in memory is the following:\n",
        "\n",
        "<img src=\"images/3_3.png\" width=\"700\">\n",
        "\n",
        "The new list now is _pointing to the same slot in memory_ as the old one, i.e. they are linked.\n",
        "\n",
        "**Analogy:** Mary and Jack have a shared bank account. Even though they have separate debit cards, they still point to the same bank account!"
      ]
    },
    {
      "cell_type": "code",
      "metadata": {
        "id": "cf1ml-ylv0Wn",
        "colab_type": "code",
        "colab": {}
      },
      "source": [
        "states_1 = [\"California\", \"New York\", \"Arizona\"]\n",
        "states_2 = states_1\n",
        "del states_2[2]\n",
        "print(\"states_1:\", states_1)\n",
        "print(\"states_2:\", states_2)"
      ],
      "execution_count": 0,
      "outputs": []
    },
    {
      "cell_type": "markdown",
      "metadata": {
        "id": "Wn7fDCvuv0Wp",
        "colab_type": "text"
      },
      "source": [
        "Even though we removed \"Arizona\" from the copy of the list, the original list was modified! It happens because if you copy a list in this direct way, the copy and the original list share the same _reference_, or, in other words, they occupy the same location in the memory."
      ]
    },
    {
      "cell_type": "markdown",
      "metadata": {
        "id": "TCLa3OdBv0Wp",
        "colab_type": "text"
      },
      "source": [
        "### Shallow copy\n",
        "\n",
        "One way to copy the list and to avoid that problem, is to take a full slice of that list, it will create a **shallow copy**."
      ]
    },
    {
      "cell_type": "code",
      "metadata": {
        "id": "bzJRQvTRv0Wq",
        "colab_type": "code",
        "colab": {}
      },
      "source": [
        "states_1 = [\"California\", \"New York\", \"Arizona\"]\n",
        "states_2 = states_1[:]\n",
        "del states_2[2]\n",
        "print(\"states_1:\", states_1)\n",
        "print(\"states_2:\", states_2)"
      ],
      "execution_count": 0,
      "outputs": []
    },
    {
      "cell_type": "markdown",
      "metadata": {
        "id": "00kq7Iwnv0Wr",
        "colab_type": "text"
      },
      "source": [
        "The state of memory now looks different than before, these two lists are not linked anymore:\n",
        "\n",
        "<img src=\"images/3_4.png\" width=\"700\">\n",
        "\n",
        "However, this will work if we have _flat_ lists. Let's try to do a shallow copy of a nested list."
      ]
    },
    {
      "cell_type": "code",
      "metadata": {
        "id": "67MHTRyBv0Ws",
        "colab_type": "code",
        "colab": {}
      },
      "source": [
        "states_1 = [\"CA\", [\"NY\", \"NV\"]]\n",
        "states_2 = states_1[:]\n",
        "del states_2[1][0]\n",
        "print(\"states_1:\", states_1)\n",
        "print(\"states_2:\", states_2)"
      ],
      "execution_count": 0,
      "outputs": []
    },
    {
      "cell_type": "markdown",
      "metadata": {
        "id": "HZN57pYov0Wu",
        "colab_type": "text"
      },
      "source": [
        "Remember that a \"nested\" list has a different location in memory than the \"main\" list:\n",
        "\n",
        "<img src=\"images/3_2.png\" width=\"350\">\n",
        "\n",
        "When we are creating a shallow copy of a nested list, we are reserving separate memory location for the \"main\" list, but the pointers for the \"nested\" lists are still pointing to the same locations as in the original list!\n",
        "\n",
        "<img src=\"images/3_5.png\" width=\"700\">\n",
        "\n",
        "**Analogy:** Mary and Jack have different bank accounts, but they are still sharing a sub-account."
      ]
    },
    {
      "cell_type": "markdown",
      "metadata": {
        "id": "jqbWjdIJv0Wu",
        "colab_type": "text"
      },
      "source": [
        "### Deep copy\n",
        "\n",
        "**Deep copy** copies references to all elements and sub-elements of the original list. However, to access this function (`deepcopy`), we need to import it from the package for copying different data structures that is called `copy`."
      ]
    },
    {
      "cell_type": "code",
      "metadata": {
        "id": "QTkcVsvmv0Wv",
        "colab_type": "code",
        "colab": {}
      },
      "source": [
        "from copy import deepcopy"
      ],
      "execution_count": 0,
      "outputs": []
    },
    {
      "cell_type": "markdown",
      "metadata": {
        "id": "BJXS32eFv0Wy",
        "colab_type": "text"
      },
      "source": [
        "After `from` there goes the name of the package, and after `import` we name the function that is being imported."
      ]
    },
    {
      "cell_type": "code",
      "metadata": {
        "id": "ae_l3j5Iv0Wy",
        "colab_type": "code",
        "colab": {}
      },
      "source": [
        "states_1 = [\"CA\", \"CO\", [\"NY\", \"NV\"], \"RI\"]\n",
        "states_2 = deepcopy(states_1)\n",
        "del states_2[2][0]\n",
        "del states_2[1]\n",
        "print(\"states_1:\", states_1)\n",
        "print(\"states_2:\", states_2)"
      ],
      "execution_count": 0,
      "outputs": []
    },
    {
      "cell_type": "markdown",
      "metadata": {
        "id": "j__VcO9Av0W0",
        "colab_type": "text"
      },
      "source": [
        "In this case, we are copying the architecture of the list we had originally, and allocating different memory locations for every single sub-list of the original list.\n",
        "\n",
        "<img src=\"images/3_6.png\" width=\"750\">\n",
        "\n",
        "**Analogy:** Mary and Jack have completely separate bank accounts and have nothing to do with each other."
      ]
    },
    {
      "cell_type": "markdown",
      "metadata": {
        "id": "zwlhxhOov0W1",
        "colab_type": "text"
      },
      "source": [
        "**Question:** why does the following slightly modified code produce an error message?"
      ]
    },
    {
      "cell_type": "code",
      "metadata": {
        "id": "mYVfaqBDv0W1",
        "colab_type": "code",
        "colab": {}
      },
      "source": [
        "states_1 = [\"CA\", \"CO\", [\"NY\", \"NV\"], \"RI\"]\n",
        "states_2 = deepcopy(states_1)\n",
        "del states_2[1]\n",
        "del states_2[2][0]\n",
        "print(\"states_1:\", states_1)\n",
        "print(\"states_2:\", states_2)"
      ],
      "execution_count": 0,
      "outputs": []
    },
    {
      "cell_type": "markdown",
      "metadata": {
        "id": "fSWbST8qv0W3",
        "colab_type": "text"
      },
      "source": [
        "## For-loops\n",
        "\n",
        "For loops allow us to _iterate_ over elements of containers such as lists or strings, and to access items of those containers individually, in order. The syntax is following:\n",
        "\n",
        "     for item in container:\n",
        "            # the variable \"item\" now refers to the next item of the container"
      ]
    },
    {
      "cell_type": "code",
      "metadata": {
        "id": "fmhAoY5wv0W3",
        "colab_type": "code",
        "colab": {}
      },
      "source": [
        "for char in \"linguistics\":\n",
        "    print(\"The current symbol is\", char)"
      ],
      "execution_count": 0,
      "outputs": []
    },
    {
      "cell_type": "markdown",
      "metadata": {
        "id": "CSG4wp4Xv0W5",
        "colab_type": "text"
      },
      "source": [
        "We can combine `if`-`elif`-`else` statements and `for` loops."
      ]
    },
    {
      "cell_type": "code",
      "metadata": {
        "id": "vVv5muqpv0W5",
        "colab_type": "code",
        "colab": {}
      },
      "source": [
        "vowels = [\"a\", \"e\", \"i\", \"o\", \"u\"]\n",
        "for char in \"linguistics\":\n",
        "    if char in vowels:\n",
        "        print(\"I found a vowel! It is\", char)"
      ],
      "execution_count": 0,
      "outputs": []
    },
    {
      "cell_type": "markdown",
      "metadata": {
        "id": "6gQHSZnbv0W7",
        "colab_type": "text"
      },
      "source": [
        "Of course, `for` loops can be contained within `for` loops:"
      ]
    },
    {
      "cell_type": "code",
      "metadata": {
        "id": "8bbgymaGv0W7",
        "colab_type": "code",
        "colab": {}
      },
      "source": [
        "cities = [\"NYC\", \"LA\", \"SF\"]\n",
        "\n",
        "for city in cities:\n",
        "    print(\"The current city is\", city)\n",
        "    print(\"Its letters are:\")\n",
        "    \n",
        "    for letter in city:\n",
        "        print(\"\\t\", letter)"
      ],
      "execution_count": 0,
      "outputs": []
    },
    {
      "cell_type": "markdown",
      "metadata": {
        "id": "YHGfUu-Sv0W9",
        "colab_type": "text"
      },
      "source": [
        "**Practice.** We are given lists of questions and possible answers."
      ]
    },
    {
      "cell_type": "code",
      "metadata": {
        "id": "V-E3SJ7Qv0W-",
        "colab_type": "code",
        "colab": {}
      },
      "source": [
        "questions = [\"How are you?\", \"What are you doing?\", \"What's your name?\"]\n",
        "answers = [\"Fine!\", \"Nothing much\", \"Jen\"]"
      ],
      "execution_count": 0,
      "outputs": []
    },
    {
      "cell_type": "markdown",
      "metadata": {
        "id": "0IEDY_LJv0XA",
        "colab_type": "text"
      },
      "source": [
        "Ask user every one of these questions, and if that answer is present in our list of answers, print \"I knew it!\"."
      ]
    },
    {
      "cell_type": "code",
      "metadata": {
        "id": "bX09euczv0XA",
        "colab_type": "code",
        "colab": {}
      },
      "source": [
        ""
      ],
      "execution_count": 0,
      "outputs": []
    },
    {
      "cell_type": "markdown",
      "metadata": {
        "id": "7AtCi_rav0XC",
        "colab_type": "text"
      },
      "source": [
        "**Practice.** You are given the following two lists."
      ]
    },
    {
      "cell_type": "code",
      "metadata": {
        "id": "WRQBTTTKv0XD",
        "colab_type": "code",
        "colab": {}
      },
      "source": [
        "cities = [\"NYC\", \"LA\", \"SF\"]\n",
        "small_cities = [\"Stony Brook\", \"Port Jeff\"]"
      ],
      "execution_count": 0,
      "outputs": []
    },
    {
      "cell_type": "markdown",
      "metadata": {
        "id": "6euc5EQnv0XG",
        "colab_type": "text"
      },
      "source": [
        "Add cities from `small_cities` to `cities` using the `append` method and a `for` loop, so that it would yield the following list:\n",
        "\n",
        "    [\"NYC\", \"LA\", \"SF\", \"Stony Brook\", \"Port Jeff\"]"
      ]
    },
    {
      "cell_type": "code",
      "metadata": {
        "id": "8KM1Typ_v0XH",
        "colab_type": "code",
        "colab": {}
      },
      "source": [
        ""
      ],
      "execution_count": 0,
      "outputs": []
    },
    {
      "cell_type": "markdown",
      "metadata": {
        "id": "nDz_X6URv0XL",
        "colab_type": "text"
      },
      "source": [
        "# Homework 3\n",
        "\n",
        "**Due on Thursday, September 26th, 11.59pm**\n",
        "\n",
        "Send your notebook (don't forget to save your solutions!) to <alena.aksenova@stonybrook.edu> with the subject **\\[CompLing1\\] Homework 3**."
      ]
    },
    {
      "cell_type": "markdown",
      "metadata": {
        "id": "k_5_eqYCv0XM",
        "colab_type": "text"
      },
      "source": [
        "**Problem 1.** You are given two lists, `cities` and `small_cities`. Insert the elements from `small_cities` in `cities` in such a way so that the list `cities` would contain items in the following order:\n",
        "    \n",
        "    [\"NYC\", \"LA\", \"Stony Brook\", \"Port Jeff\", \"SF\"]\n",
        "    \n",
        "Use any method or way you want."
      ]
    },
    {
      "cell_type": "code",
      "metadata": {
        "id": "VBxx_xhTv0XN",
        "colab_type": "code",
        "colab": {
          "base_uri": "https://localhost:8080/",
          "height": 34
        },
        "outputId": "6772b4f4-698c-44df-f32d-cadef4fa24e4"
      },
      "source": [
        "cities = [\"NYC\", \"LA\", \"SF\"]\n",
        "small_cities = [\"Stony Brook\", \"Port Jeff\"]\n",
        "\n",
        "# your code here\n",
        "city1=small_cities[0]\n",
        "city2=small_cities[1]\n",
        "cities.insert(2,city1)\n",
        "cities.insert(3,city2)\n",
        "print(cities)"
      ],
      "execution_count": 45,
      "outputs": [
        {
          "output_type": "stream",
          "text": [
            "['NYC', 'LA', 'Stony Brook', 'Port Jeff', 'SF']\n"
          ],
          "name": "stdout"
        }
      ]
    },
    {
      "cell_type": "markdown",
      "metadata": {
        "id": "Wdv1NHRbv0XP",
        "colab_type": "text"
      },
      "source": [
        "**Problem 2.** Using the given list `cities`, produce the following output:\n",
        "\n",
        "    NYC NYC\n",
        "    NYC LA\n",
        "    NYC SF\n",
        "    LA NYC\n",
        "    LA LA\n",
        "    LA SF\n",
        "    SF NYC\n",
        "    SF LA\n",
        "    SF SF"
      ]
    },
    {
      "cell_type": "code",
      "metadata": {
        "id": "vuM1v5Tpv0XQ",
        "colab_type": "code",
        "outputId": "9bd1ddf3-a6a2-4c64-9db3-d98a0a62d070",
        "colab": {
          "base_uri": "https://localhost:8080/",
          "height": 170
        }
      },
      "source": [
        "cities = [\"NYC\", \"LA\", \"SF\"]\n",
        "# your code here\n",
        "for city in cities:\n",
        "  for letter in cities:\n",
        "    print(city,letter)"
      ],
      "execution_count": 48,
      "outputs": [
        {
          "output_type": "stream",
          "text": [
            "NYC NYC\n",
            "NYC LA\n",
            "NYC SF\n",
            "LA NYC\n",
            "LA LA\n",
            "LA SF\n",
            "SF NYC\n",
            "SF LA\n",
            "SF SF\n"
          ],
          "name": "stdout"
        }
      ]
    },
    {
      "cell_type": "markdown",
      "metadata": {
        "id": "bAdcrt1-v0XR",
        "colab_type": "text"
      },
      "source": [
        "**Problem 3.** You are given some words from the [Swadesh list](https://en.wikipedia.org/wiki/Swadesh_list)."
      ]
    },
    {
      "cell_type": "code",
      "metadata": {
        "id": "k_lbk2UXv0XS",
        "colab_type": "code",
        "outputId": "60bebacc-1f83-4562-fd45-8d652a684653",
        "colab": {
          "base_uri": "https://localhost:8080/",
          "height": 238
        }
      },
      "source": [
        "words = [\"sun\", \"moon\", \"earth\", \"water\", \"food\", \"sky\"]\n",
        "trans=[]\n",
        "\n",
        "for i in words:\n",
        "  print(\"The word is\",i)\n",
        "  tran1=input(\"Please translate the word:\")\n",
        "  trans.append(tran1)\n",
        "print(trans)"
      ],
      "execution_count": 51,
      "outputs": [
        {
          "output_type": "stream",
          "text": [
            "The word is sun\n",
            "Please translate the word:太陽\n",
            "The word is moon\n",
            "Please translate the word:月亮\n",
            "The word is earth\n",
            "Please translate the word:地球\n",
            "The word is water\n",
            "Please translate the word:水\n",
            "The word is food\n",
            "Please translate the word:食物\n",
            "The word is sky\n",
            "Please translate the word:天空\n",
            "['太陽', '月亮', '地球', '水', '食物', '天空']\n"
          ],
          "name": "stdout"
        }
      ]
    },
    {
      "cell_type": "markdown",
      "metadata": {
        "id": "BfiymAU6v0Xa",
        "colab_type": "text"
      },
      "source": [
        "Imagine that you are working with a native speaker of some language other than English. Create a new (empty) list for words of that language, call it `translations`. Then, for every word of the Swadesh list (`words`), ask the user to provide its translation, and save them into the `translations` list. After all the words were translated, print `translations`."
      ]
    },
    {
      "cell_type": "code",
      "metadata": {
        "id": "i3iF8Rj4v0Xa",
        "colab_type": "code",
        "colab": {}
      },
      "source": [
        ""
      ],
      "execution_count": 0,
      "outputs": []
    }
  ]
}