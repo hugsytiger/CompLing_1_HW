{
 "cells": [
  {
   "cell_type": "markdown",
   "metadata": {
    "colab_type": "text",
    "id": "ZeZhk6V5XKl0"
   },
   "source": [
    "<div style=\"text-align: right\">\n",
    "    <i>\n",
    "        LIN 537: Computational Lingusitics 1 <br>\n",
    "        Fall 2019 <br>\n",
    "        Alëna Aksënova\n",
    "    </i>\n",
    "</div>\n",
    "\n",
    "# Notebook 8: function definitions\n",
    "\n",
    "This notebook explains how to define custom functions using `def`, and exemplifies the use of `lambda` functions. It then discussed the recursive function definition using the famous exaple of the [Fibonacci numbers](https://en.wikipedia.org/wiki/Fibonacci_number). Apart from it, it also demonstrates how to time the code."
   ]
  },
  {
   "cell_type": "markdown",
   "metadata": {
    "colab_type": "text",
    "id": "L4AmnExRXKl4"
   },
   "source": [
    "## `def` to define a custom function\n",
    "\n",
    "In the previous notebook, we wrote a code that detects if a given integer is prime or not. \n",
    "\n",
    "One of the ways to do it is to define the following two cases:\n",
    "  * `not n % d` is true every time when `n % d` gives `0`, i.e. when `n` is divisible by `d`. In this case, we announce that the number is not prime, and break out of the loop;\n",
    "  * (`not n % d` and) `d == n - 1` is true only when we are currently checking the last possible diviser, and none of them was able to divide `n` without a remainder."
   ]
  },
  {
   "cell_type": "code",
   "execution_count": 3,
   "metadata": {
    "colab": {
     "base_uri": "https://localhost:8080/",
     "height": 34
    },
    "colab_type": "code",
    "id": "rMKzYFMmXKl5",
    "outputId": "634368da-89cf-457a-8e4a-d19d9afb52cc"
   },
   "outputs": [
    {
     "name": "stdout",
     "output_type": "stream",
     "text": [
      "Number 341 is not prime.\n"
     ]
    }
   ],
   "source": [
    "n = 341\n",
    "\n",
    "for d in range(2, n):\n",
    "    if not n % d:\n",
    "        print(\"Number\", n, \"is not prime.\")\n",
    "        break\n",
    "    elif d == n - 1:\n",
    "        print(\"Number\", n, \"is prime.\")"
   ]
  },
  {
   "cell_type": "markdown",
   "metadata": {
    "colab_type": "text",
    "id": "Mzba3DKKXKl8"
   },
   "source": [
    "If we have a list of numbers and we want to test if these numbers are prime or not, we would need to copy and paste the same code."
   ]
  },
  {
   "cell_type": "code",
   "execution_count": 5,
   "metadata": {
    "colab": {
     "base_uri": "https://localhost:8080/",
     "height": 102
    },
    "colab_type": "code",
    "id": "q3rvq12uXKl9",
    "outputId": "f86fecc2-2024-4828-e930-3b17fd88d1da"
   },
   "outputs": [
    {
     "name": "stdout",
     "output_type": "stream",
     "text": [
      "Number 44 is not prime.\n",
      "Number 29 is prime.\n",
      "Number 8881 is not prime.\n",
      "Number 305 is not prime.\n",
      "Number 17 is prime.\n"
     ]
    }
   ],
   "source": [
    "numbers = [44, 29, 8881, 305, 17]\n",
    "\n",
    "for n in numbers:\n",
    "    for d in range(2, n):\n",
    "        if not n % d:\n",
    "            print(\"Number\", n, \"is not prime.\")\n",
    "            break\n",
    "        elif d == n - 1:\n",
    "            print(\"Number\", n, \"is prime.\")"
   ]
  },
  {
   "cell_type": "markdown",
   "metadata": {
    "colab_type": "text",
    "id": "XiARh5XMXKmA"
   },
   "source": [
    "**Defining custom functions** allows to \"pack\" some code in a function, assign it a name, and then call it by its name instead of repeating the same code in several places.\n",
    "\n",
    "    def function_name(argument_1, argument_2, <...>, argument_n):\n",
    "        # body of the function\n",
    "        \n",
    "`def` is the operator \"saving\" the function definition. `function_name` stands for a **name** that is assigned to the function. For example, we can define a function `is_prime`. After the name of the function, we list **arguments** that this function will be taking. Only one argument is needed for the `is_prime` function, an integer `n`. Body of the function then will contain the code telling if `n` is prime or not."
   ]
  },
  {
   "cell_type": "code",
   "execution_count": 0,
   "metadata": {
    "colab": {},
    "colab_type": "code",
    "id": "NORp6fJmXKmB"
   },
   "outputs": [],
   "source": [
    "def is_prime(n):\n",
    "    for d in range(2, n):\n",
    "        if not n % d:\n",
    "            print(\"Number\", n, \"is not prime.\")\n",
    "            break\n",
    "        elif d == n - 1:\n",
    "            print(\"Number\", n, \"is prime.\")"
   ]
  },
  {
   "cell_type": "markdown",
   "metadata": {
    "colab_type": "text",
    "id": "v9w2jCgmXKmE"
   },
   "source": [
    "The previous cell did not produce any output. The function was _defined,_ but _not ran._ In order to run a function, we need to call it by its name and provide the needed arguments. In this case, we can directly provide an integer instead of the `n`: that argument was a\"placeholder\" used earlier in the function definition."
   ]
  },
  {
   "cell_type": "code",
   "execution_count": 8,
   "metadata": {
    "colab": {
     "base_uri": "https://localhost:8080/",
     "height": 34
    },
    "colab_type": "code",
    "id": "eMLjj-BzXKmF",
    "outputId": "bd5dfc81-0205-480b-a490-e48870f1596d"
   },
   "outputs": [
    {
     "name": "stdout",
     "output_type": "stream",
     "text": [
      "Number 17 is prime.\n"
     ]
    }
   ],
   "source": [
    "is_prime(17)"
   ]
  },
  {
   "cell_type": "code",
   "execution_count": 11,
   "metadata": {
    "colab": {
     "base_uri": "https://localhost:8080/",
     "height": 102
    },
    "colab_type": "code",
    "id": "MTfpOJfMXKmH",
    "outputId": "9c92f794-bdea-4a3c-b386-5741abae7c27"
   },
   "outputs": [
    {
     "name": "stdout",
     "output_type": "stream",
     "text": [
      "Number 44 is not prime.\n",
      "Number 29 is prime.\n",
      "Number 8881 is not prime.\n",
      "Number 305 is not prime.\n",
      "Number 17 is prime.\n"
     ]
    }
   ],
   "source": [
    "numbers = [44, 29, 8881, 305, 17]\n",
    "\n",
    "for i in numbers:\n",
    "    is_prime(i)"
   ]
  },
  {
   "cell_type": "markdown",
   "metadata": {
    "colab_type": "text",
    "id": "32qX4bLlXKmJ"
   },
   "source": [
    "As an example of a very simple function, we can define a function that adds two numbers together."
   ]
  },
  {
   "cell_type": "code",
   "execution_count": 0,
   "metadata": {
    "colab": {},
    "colab_type": "code",
    "id": "YQjbBH-gXKmK"
   },
   "outputs": [],
   "source": [
    "def add_numbers(n1, n2):\n",
    "    print(n1, \"+\", n2, \"=\", n1 + n2)"
   ]
  },
  {
   "cell_type": "code",
   "execution_count": 16,
   "metadata": {
    "colab": {
     "base_uri": "https://localhost:8080/",
     "height": 51
    },
    "colab_type": "code",
    "id": "zTqWug1eXKmM",
    "outputId": "76437609-a9f4-4cdd-8286-5981d1f22857"
   },
   "outputs": [
    {
     "name": "stdout",
     "output_type": "stream",
     "text": [
      "93 + 2 = 95\n",
      "2 + 0 = 2\n"
     ]
    }
   ],
   "source": [
    "add_numbers(93, 2)\n",
    "add_numbers(2, 0)"
   ]
  },
  {
   "cell_type": "markdown",
   "metadata": {
    "colab_type": "text",
    "id": "9ueQgawfXKmO"
   },
   "source": [
    "It is also possible to define a function that takes $0$ arguments."
   ]
  },
  {
   "cell_type": "code",
   "execution_count": 19,
   "metadata": {
    "colab": {
     "base_uri": "https://localhost:8080/",
     "height": 68
    },
    "colab_type": "code",
    "id": "ZIK6tSGtXKmP",
    "outputId": "de4e1f26-519a-4847-dcbb-0f8bd4dadb79"
   },
   "outputs": [
    {
     "name": "stdout",
     "output_type": "stream",
     "text": [
      "This function has no arguments.\n",
      "It just greets the user whenever it is executed.\n",
      "Hello! :)\n"
     ]
    }
   ],
   "source": [
    "def greetings():\n",
    "    print(\"This function has no arguments.\")\n",
    "    print(\"It just greets the user whenever it is executed.\")\n",
    "    print(\"Hello! :)\")\n",
    "    \n",
    "greetings()"
   ]
  },
  {
   "cell_type": "markdown",
   "metadata": {
    "colab_type": "text",
    "id": "1uR4bEI7XKmR"
   },
   "source": [
    "**Practice 1.** Define a function `greet_user` that greets a person whose name is given to the function as argument.\n",
    "\n",
    "    Function call: greet_user(\"Olga\")\n",
    "    Output:        Hello, Olga!\n",
    "    \n",
    "    \n",
    "    Function call: greet_user(\"Jim\")\n",
    "    Output:        Hello, Jim!"
   ]
  },
  {
   "cell_type": "code",
   "execution_count": 21,
   "metadata": {
    "colab": {
     "base_uri": "https://localhost:8080/",
     "height": 34
    },
    "colab_type": "code",
    "id": "YCT1v4GsXKmR",
    "outputId": "7fdd4080-ee16-4bfa-a979-a428be973d1a"
   },
   "outputs": [
    {
     "name": "stdout",
     "output_type": "stream",
     "text": [
      "Hello, Olga !\n"
     ]
    }
   ],
   "source": [
    "def greet_user(name):\n",
    "  print(\"Hello,\",name,\"!\")\n",
    "  \n",
    "greet_user(\"Olga\")"
   ]
  },
  {
   "cell_type": "code",
   "execution_count": 23,
   "metadata": {
    "colab": {
     "base_uri": "https://localhost:8080/",
     "height": 51
    },
    "colab_type": "code",
    "id": "EMgPZHZd31CR",
    "outputId": "81409204-a654-4bf9-a8dd-7b3be7ae36c3"
   },
   "outputs": [
    {
     "name": "stdout",
     "output_type": "stream",
     "text": [
      "Enter your name:Karina\n",
      "Hello Karina!\n"
     ]
    }
   ],
   "source": [
    "def greet_user():\n",
    "  name=input(\"Enter your name:\")\n",
    "  print(\"Hello\",name+\"!\")\n",
    "greet_user()"
   ]
  },
  {
   "cell_type": "code",
   "execution_count": 24,
   "metadata": {
    "colab": {
     "base_uri": "https://localhost:8080/",
     "height": 219
    },
    "colab_type": "code",
    "id": "0DdIK10j4YfA",
    "outputId": "752186f4-3d47-45f9-a043-1f0d300acb60"
   },
   "outputs": [
    {
     "name": "stdout",
     "output_type": "stream",
     "text": [
      "Enter your name:Karina\n"
     ]
    },
    {
     "ename": "TypeError",
     "evalue": "ignored",
     "output_type": "error",
     "traceback": [
      "\u001b[0;31m---------------------------------------------------------------------------\u001b[0m",
      "\u001b[0;31mTypeError\u001b[0m                                 Traceback (most recent call last)",
      "\u001b[0;32m<ipython-input-24-a8a50f870151>\u001b[0m in \u001b[0;36m<module>\u001b[0;34m()\u001b[0m\n\u001b[1;32m      2\u001b[0m \u001b[0;32mdef\u001b[0m \u001b[0mgreet_user\u001b[0m\u001b[0;34m(\u001b[0m\u001b[0mname\u001b[0m\u001b[0;34m)\u001b[0m\u001b[0;34m:\u001b[0m\u001b[0;34m\u001b[0m\u001b[0;34m\u001b[0m\u001b[0m\n\u001b[1;32m      3\u001b[0m   \u001b[0mprint\u001b[0m\u001b[0;34m(\u001b[0m\u001b[0;34m\"Hello\"\u001b[0m\u001b[0;34m,\u001b[0m\u001b[0mname\u001b[0m\u001b[0;34m+\u001b[0m \u001b[0;34m\"!\"\u001b[0m\u001b[0;34m)\u001b[0m\u001b[0;34m\u001b[0m\u001b[0;34m\u001b[0m\u001b[0m\n\u001b[0;32m----> 4\u001b[0;31m \u001b[0mgreet_user\u001b[0m\u001b[0;34m(\u001b[0m\u001b[0;34m)\u001b[0m\u001b[0;34m\u001b[0m\u001b[0;34m\u001b[0m\u001b[0m\n\u001b[0m",
      "\u001b[0;31mTypeError\u001b[0m: greet_user() missing 1 required positional argument: 'name'"
     ]
    }
   ],
   "source": [
    "name=input(\"Enter your name:\")\n",
    "def greet_user(name):\n",
    "  print(\"Hello\",name+ \"!\")\n",
    "greet_user()"
   ]
  },
  {
   "cell_type": "markdown",
   "metadata": {
    "colab_type": "text",
    "id": "q9iwsmYfXKmU"
   },
   "source": [
    "**Practice 2.** Define a function `greet_team` that takes a list of names as input and greets every user from that list by their name."
   ]
  },
  {
   "cell_type": "code",
   "execution_count": 26,
   "metadata": {
    "colab": {
     "base_uri": "https://localhost:8080/",
     "height": 68
    },
    "colab_type": "code",
    "id": "vxdxElPNXKmU",
    "outputId": "89ac3ec6-55bf-40a4-94fa-c21e2ebb4300"
   },
   "outputs": [
    {
     "name": "stdout",
     "output_type": "stream",
     "text": [
      "Hello Mary!\n",
      "Hello John!\n",
      "Hello Olga!\n"
     ]
    }
   ],
   "source": [
    "greet_team=[\"Mary\",\"John\",\"Olga\"]\n",
    "for i in greet_team:\n",
    "  greet_user(i)\n",
    "  \n",
    "  "
   ]
  },
  {
   "cell_type": "code",
   "execution_count": 27,
   "metadata": {
    "colab": {
     "base_uri": "https://localhost:8080/",
     "height": 68
    },
    "colab_type": "code",
    "id": "7JsjsiUQ69YU",
    "outputId": "dfce25a4-20cc-40d9-fee6-382041146c4d"
   },
   "outputs": [
    {
     "name": "stdout",
     "output_type": "stream",
     "text": [
      "Hello Anna!\n",
      "Hello Bob!\n",
      "Hello Mary!\n"
     ]
    }
   ],
   "source": [
    "def greet_team(names):\n",
    "  for name in names:\n",
    "    greet_user(name)\n",
    "people=[\"Anna\",\"Bob\",\"Mary\"]\n",
    "greet_team(people)"
   ]
  },
  {
   "cell_type": "markdown",
   "metadata": {
    "colab_type": "text",
    "id": "iEpwHjixXKmW"
   },
   "source": [
    "As an example of a slightly more complex dependencies in functions, consider the code below. `leap_year` is a function telling if the given `year` is a leap year or not. Then, the `year_info` function takes a year as argument and runs two functions: first, it checks if `year` is leap by running the `leap_year` function, and then it also tests if that number is prime by calling the `is_prime` function defined earlier."
   ]
  },
  {
   "cell_type": "code",
   "execution_count": 28,
   "metadata": {
    "colab": {
     "base_uri": "https://localhost:8080/",
     "height": 51
    },
    "colab_type": "code",
    "id": "0R9Mh4clXKmX",
    "outputId": "ebd0ba5e-cdb0-4c97-ddff-b4f82a2b9f7a"
   },
   "outputs": [
    {
     "name": "stdout",
     "output_type": "stream",
     "text": [
      "The year 2004 is leap.\n",
      "Number 2004 is not prime.\n"
     ]
    }
   ],
   "source": [
    "def leap_year(year):\n",
    "    if year % 4 == 0 and (year % 100 != 0 or year % 400 == 0):\n",
    "        print(\"The year\", year, \"is leap.\")\n",
    "    else:\n",
    "        print(\"The year\", year, \"is not leap.\")\n",
    "        \n",
    "def year_info(year):\n",
    "    leap_year(year)\n",
    "    is_prime(year)\n",
    "    \n",
    "year_info(2004)"
   ]
  },
  {
   "cell_type": "markdown",
   "metadata": {
    "colab_type": "text",
    "id": "QHMXZnGdXKmZ"
   },
   "source": [
    "It is a common practice to add a couple of informational lines explaining what the function does. Strings like those are called **docstrings** and are added right after the function definition line. They are surrounded by triple quotation marks.\n",
    "\n",
    "    def function_name(argument_1, argument_2, <...>, argument_n):\n",
    "        \"\"\" Docstring \"\"\"\n",
    "        \n",
    "        # body of the function"
   ]
  },
  {
   "cell_type": "code",
   "execution_count": 0,
   "metadata": {
    "colab": {},
    "colab_type": "code",
    "id": "P9GquVlDXKma"
   },
   "outputs": [],
   "source": [
    "def leap_year(year):\n",
    "    \"\"\"\n",
    "    This function tells if the given year is leap or not.\n",
    "    \n",
    "    Arguments:\n",
    "        * year (int): an integer representing a year.\n",
    "    \"\"\"\n",
    "    if year % 4 == 0 and (year % 100 != 0 or year % 400 == 0):\n",
    "        print(\"The year\", year, \"is leap.\")\n",
    "    else:\n",
    "        print(\"The year\", year, \"is not leap.\")"
   ]
  },
  {
   "cell_type": "markdown",
   "metadata": {
    "colab_type": "text",
    "id": "fbyy8mdTXKmd"
   },
   "source": [
    "## `return` statement\n",
    "\n",
    "We can define a function that prints first `n` prime numbers."
   ]
  },
  {
   "cell_type": "code",
   "execution_count": 0,
   "metadata": {
    "colab": {},
    "colab_type": "code",
    "id": "JWKVzSc5XKmd"
   },
   "outputs": [],
   "source": [
    "def first_n_primes(n):\n",
    "    \"\"\"\n",
    "    This function prints on the screen first n primes.\n",
    "    \n",
    "    Arguments:\n",
    "        * n (int): a number of primes to be generated.\n",
    "    \"\"\"\n",
    "    current_number = 2\n",
    "    primes_produced = 0\n",
    "\n",
    "    while primes_produced < n:\n",
    "        for d in range(2, current_number):\n",
    "            if current_number % d == 0:\n",
    "                break\n",
    "            elif d == n - 1:\n",
    "                print(\"Found prime number:\", current_number)\n",
    "                primes_produced += 1\n",
    "        current_number += 1"
   ]
  },
  {
   "cell_type": "code",
   "execution_count": 33,
   "metadata": {
    "colab": {
     "base_uri": "https://localhost:8080/",
     "height": 85
    },
    "colab_type": "code",
    "id": "p8dJ83H1XKmf",
    "outputId": "d7af59ec-8be7-4e9a-b13c-d345401c677d"
   },
   "outputs": [
    {
     "name": "stdout",
     "output_type": "stream",
     "text": [
      "Found prime number: 5\n",
      "Found prime number: 7\n",
      "Found prime number: 11\n",
      "Found prime number: 13\n"
     ]
    }
   ],
   "source": [
    "first_n_primes(4)"
   ]
  },
  {
   "cell_type": "markdown",
   "metadata": {
    "colab_type": "text",
    "id": "vadUsivoXKmh"
   },
   "source": [
    "However, this code simply _prints_ first `n` prime numbers on the screen. It does not allow us to create a list with `n` first prime numbers.\n",
    "\n",
    "The ``return`` statement allows a function to **return** a value instead of printing it on the screen."
   ]
  },
  {
   "cell_type": "code",
   "execution_count": 34,
   "metadata": {
    "colab": {
     "base_uri": "https://localhost:8080/",
     "height": 34
    },
    "colab_type": "code",
    "id": "m5OePr33XKmi",
    "outputId": "6c7bbbce-7333-477b-aea4-66946d657fcc"
   },
   "outputs": [
    {
     "name": "stdout",
     "output_type": "stream",
     "text": [
      "24\n"
     ]
    }
   ],
   "source": [
    "def add_numbers(n1, n2):\n",
    "    \"\"\" Adds numbers n1 and n2 together. \"\"\"\n",
    "    return n1 + n2\n",
    "\n",
    "s = add_numbers(11, 13)\n",
    "print(s)"
   ]
  },
  {
   "cell_type": "markdown",
   "metadata": {
    "colab_type": "text",
    "id": "LUTkrdZCXKmk"
   },
   "source": [
    "As another example, consider a function that extracts bigrams from a given word."
   ]
  },
  {
   "cell_type": "code",
   "execution_count": 0,
   "metadata": {
    "colab": {},
    "colab_type": "code",
    "id": "C-Cy8PABXKml"
   },
   "outputs": [],
   "source": [
    "def bigramize(string):\n",
    "    \"\"\" Creates a list of bigrams from the input string. \"\"\"\n",
    "    bigrams = []\n",
    "    for i in range(len(string) - 1):\n",
    "        bigram = string[i:i+2]\n",
    "        if bigram not in bigrams:\n",
    "            bigrams.append(bigram)\n",
    "    return bigrams\n",
    "    "
   ]
  },
  {
   "cell_type": "code",
   "execution_count": 36,
   "metadata": {
    "colab": {
     "base_uri": "https://localhost:8080/",
     "height": 34
    },
    "colab_type": "code",
    "id": "N4NluP07XKmo",
    "outputId": "b9a9b819-087d-4a39-c7b4-738254baf04f"
   },
   "outputs": [
    {
     "name": "stdout",
     "output_type": "stream",
     "text": [
      "Bigrams: ['ba', 'an', 'na']\n"
     ]
    }
   ],
   "source": [
    "bigrams = bigramize(\"banana\")\n",
    "print(\"Bigrams:\", bigrams)"
   ]
  },
  {
   "cell_type": "markdown",
   "metadata": {
    "colab_type": "text",
    "id": "zlkwGCZWXKmt"
   },
   "source": [
    "**The `return` statement can only be executed once**: no code after the `return` statement can be ran.\n",
    "\n",
    "The code below shows that the `print` defined after the `return` is not executed."
   ]
  },
  {
   "cell_type": "code",
   "execution_count": 39,
   "metadata": {
    "colab": {
     "base_uri": "https://localhost:8080/",
     "height": 34
    },
    "colab_type": "code",
    "id": "rthD5ioeXKmu",
    "outputId": "b2202abf-2d0f-411e-d0be-16d1ab26a4cd"
   },
   "outputs": [
    {
     "data": {
      "text/plain": [
       "10"
      ]
     },
     "execution_count": 39,
     "metadata": {
      "tags": []
     },
     "output_type": "execute_result"
    }
   ],
   "source": [
    "def add_numbers(n1, n2):\n",
    "    return n1 + n2\n",
    "    print(\"This function calculated the sum of those numbers.\")\n",
    "    \n",
    "add_numbers(4, 6)"
   ]
  },
  {
   "cell_type": "markdown",
   "metadata": {
    "colab_type": "text",
    "id": "Oie9q9xQXKmw"
   },
   "source": [
    "The code below is the modified `is_prime` function. It returns True if the number is prime, and False otherwise."
   ]
  },
  {
   "cell_type": "code",
   "execution_count": 41,
   "metadata": {
    "colab": {
     "base_uri": "https://localhost:8080/",
     "height": 34
    },
    "colab_type": "code",
    "id": "r95p6VlsXKmx",
    "outputId": "e19c181a-1c4d-4bcd-f173-a611c3deddd1"
   },
   "outputs": [
    {
     "data": {
      "text/plain": [
       "True"
      ]
     },
     "execution_count": 41,
     "metadata": {
      "tags": []
     },
     "output_type": "execute_result"
    }
   ],
   "source": [
    "def is_prime(n):\n",
    "    for d in range(2, n):\n",
    "        if not n % d:\n",
    "            return False  \n",
    "            #break(delete this without losing anything)\n",
    "        #elif d == n - 1:\n",
    "            #return True  \n",
    "          \n",
    "        return True #可以直接寫return true在這邊\n",
    "is_prime(9)"
   ]
  },
  {
   "cell_type": "markdown",
   "metadata": {
    "colab_type": "text",
    "id": "unTRlehJXKmz"
   },
   "source": [
    "Using `break` is exessive: the function stops its execution when it returns some value, so `break` is not needed at all."
   ]
  },
  {
   "cell_type": "code",
   "execution_count": 0,
   "metadata": {
    "colab": {},
    "colab_type": "code",
    "id": "zkPlkXEoXKmz"
   },
   "outputs": [],
   "source": [
    "def is_prime(n):\n",
    "    for d in range(2, n):\n",
    "        if not n % d:\n",
    "            return False\n",
    "        elif d == n - 1:\n",
    "            return True"
   ]
  },
  {
   "cell_type": "markdown",
   "metadata": {
    "colab_type": "text",
    "id": "HcW0u00CXKm4"
   },
   "source": [
    "When the `for` loop finishes and we did not encounter any `return` statements, we can safely assume that the number is prime: no other number was able to divide it without a non-zero remainder. Therefore, we can re-write the code and simplify it even more."
   ]
  },
  {
   "cell_type": "code",
   "execution_count": 0,
   "metadata": {
    "colab": {},
    "colab_type": "code",
    "id": "emE0Xb1YXKm4"
   },
   "outputs": [],
   "source": [
    "def is_prime(n):\n",
    "    \"\"\" Checks if n is a prime number. \"\"\"\n",
    "    \n",
    "    for d in range(2, n):\n",
    "        if not n % d:\n",
    "            # return False as soon as we see that n can be divided\n",
    "            # by some number with a remainder 0\n",
    "            return False\n",
    "        \n",
    "    # if we passed the loop without returning False, it means that \n",
    "    # there are no numbers that can divide n, i.e. n is prime\n",
    "    return True"
   ]
  },
  {
   "cell_type": "markdown",
   "metadata": {
    "colab_type": "text",
    "id": "HW2a7mR7XKm6"
   },
   "source": [
    "**Question 1.** In what configurations can the body of the function have more than just a single `return` statement?\n",
    "\n",
    "**Question 2.** If a body of the function has no `return` statement, what does that function return? Experiment, try to print that value."
   ]
  },
  {
   "cell_type": "code",
   "execution_count": 44,
   "metadata": {
    "colab": {
     "base_uri": "https://localhost:8080/",
     "height": 134
    },
    "colab_type": "code",
    "id": "W37TUM7FXKm6",
    "outputId": "82b3764b-111f-46cd-dbb0-a69e85ebc980"
   },
   "outputs": [
    {
     "ename": "SyntaxError",
     "evalue": "ignored",
     "output_type": "error",
     "traceback": [
      "\u001b[0;36m  File \u001b[0;32m\"<ipython-input-44-a40be1a67866>\"\u001b[0;36m, line \u001b[0;32m1\u001b[0m\n\u001b[0;31m    Questions1:conditional questions\u001b[0m\n\u001b[0m                                   ^\u001b[0m\n\u001b[0;31mSyntaxError\u001b[0m\u001b[0;31m:\u001b[0m invalid syntax\n"
     ]
    }
   ],
   "source": [
    "Questions1:conditional questions\n",
    "Questions2:None\n",
    "  "
   ]
  },
  {
   "cell_type": "code",
   "execution_count": 45,
   "metadata": {
    "colab": {
     "base_uri": "https://localhost:8080/",
     "height": 34
    },
    "colab_type": "code",
    "id": "tduourWwDpZY",
    "outputId": "2c5342cc-76a1-423e-f2fe-b59f55426533"
   },
   "outputs": [
    {
     "name": "stdout",
     "output_type": "stream",
     "text": [
      "Hello!\n"
     ]
    }
   ],
   "source": [
    "def print_hello():\n",
    "  print(\"Hello!\")\n",
    "a=print_hello()"
   ]
  },
  {
   "cell_type": "code",
   "execution_count": 46,
   "metadata": {
    "colab": {
     "base_uri": "https://localhost:8080/",
     "height": 34
    },
    "colab_type": "code",
    "id": "r4--5TprD2my",
    "outputId": "07934be3-1d88-4831-8ac5-fdc83c3384f6"
   },
   "outputs": [
    {
     "name": "stdout",
     "output_type": "stream",
     "text": [
      "None\n"
     ]
    }
   ],
   "source": [
    "print(a)"
   ]
  },
  {
   "cell_type": "markdown",
   "metadata": {
    "colab_type": "text",
    "id": "N27WOWeCXKm7"
   },
   "source": [
    "**Practice.** The following function prints the first `n` prime numbers."
   ]
  },
  {
   "cell_type": "code",
   "execution_count": 0,
   "metadata": {
    "colab": {},
    "colab_type": "code",
    "id": "K2jrhWCxXKm8"
   },
   "outputs": [],
   "source": [
    "def first_n_primes(n):\n",
    "\n",
    "    current_number = 2\n",
    "    primes_produced = 0\n",
    "\n",
    "    while primes_produced < n:\n",
    "        if is_prime(current_number):\n",
    "            print(\"Prime number:\", current_number)\n",
    "            primes_produced += 1\n",
    "        current_number += 1\n",
    "        \n"
   ]
  },
  {
   "cell_type": "markdown",
   "metadata": {
    "colab_type": "text",
    "id": "C0oBsx3WXKm-"
   },
   "source": [
    "Re-write the function such that it returns a list of the first `n` prime numbers.\n",
    "\n",
    "    Function call:   first_n_primes(5)\n",
    "    Function output: [2, 3, 5, 7, 11]"
   ]
  },
  {
   "cell_type": "code",
   "execution_count": 60,
   "metadata": {
    "colab": {
     "base_uri": "https://localhost:8080/",
     "height": 34
    },
    "colab_type": "code",
    "id": "jjq2rQxWXKm_",
    "outputId": "2b3fdb36-cc46-457f-da06-a657ea36794c"
   },
   "outputs": [
    {
     "data": {
      "text/plain": [
       "[3, 5, 7, 11, 13]"
      ]
     },
     "execution_count": 60,
     "metadata": {
      "tags": []
     },
     "output_type": "execute_result"
    }
   ],
   "source": [
    "first_number=[]\n",
    "n=5\n",
    "def first_n_primes(n):\n",
    "\n",
    "    current_number = 2\n",
    "    primes_produced = \n",
    "    while primes_produced < n:\n",
    "        if is_prime(current_number):\n",
    "            #print(\"Prime number:\", current_number)\n",
    "            first_number.append(current_number)\n",
    "            primes_produced += 1\n",
    "        current_number += 1\n",
    "    return first_number\n",
    "  \n",
    "first_n_primes(5)\n"
   ]
  },
  {
   "cell_type": "code",
   "execution_count": 64,
   "metadata": {
    "colab": {
     "base_uri": "https://localhost:8080/",
     "height": 134
    },
    "colab_type": "code",
    "id": "1DZIKHLUF9qk",
    "outputId": "fe30f2b6-39e3-4705-e2a8-a6dc67b4896d"
   },
   "outputs": [
    {
     "ename": "SyntaxError",
     "evalue": "ignored",
     "output_type": "error",
     "traceback": [
      "\u001b[0;36m  File \u001b[0;32m\"<ipython-input-64-a54776aae76c>\"\u001b[0;36m, line \u001b[0;32m2\u001b[0m\n\u001b[0;31m    current number=2\u001b[0m\n\u001b[0m                 ^\u001b[0m\n\u001b[0;31mSyntaxError\u001b[0m\u001b[0;31m:\u001b[0m invalid syntax\n"
     ]
    }
   ],
   "source": [
    "def first_n_primes(n):\n",
    "  current number=2\n",
    "  prime=[]\n",
    "  while len(primes)<n:\n",
    "    if is_prime(current_number)\n",
    "    current_number+=1\n",
    "  return primes\n",
    "\n",
    "first_n_primes(5)"
   ]
  },
  {
   "cell_type": "markdown",
   "metadata": {
    "colab_type": "text",
    "id": "cVkM4C35XKnB"
   },
   "source": [
    "## Recursive function definition\n",
    "\n",
    "**[Fibonacci numbers](https://en.wikipedia.org/wiki/Fibonacci_number)** These numbers are famous for their importance for nature and the structure of the universe. Watch [this TED talk](https://www.youtube.com/watch?v=SjSHVDfXHQ4)!\n",
    "The first two numbers of the Fibonacci sequence are $1$ and $1$. Every following number is defined as a sum of the two previous ones:\n",
    "\n",
    "    F[n] = F[n-2] + F[n-1]\n",
    "    \n",
    "The beginning of the Fibonacci sequence looks as follows:\n",
    "\n",
    "    1 1 2 3 5 8 13 21 34 55 89 <...>\n",
    "\n",
    "Below, there is a function generating the `n`th Fibonacci number."
   ]
  },
  {
   "cell_type": "code",
   "execution_count": 0,
   "metadata": {
    "colab": {},
    "colab_type": "code",
    "id": "VFeFPjXaXKnC"
   },
   "outputs": [],
   "source": [
    "def fibonacci(n):\n",
    "    \"\"\"\n",
    "    A function calculating the first n Fibonacci numbers.\n",
    "    \n",
    "    Arguments:\n",
    "      * n (int): the number of the first Fibonacci number to be generated. \n",
    "      \n",
    "    Outputs:\n",
    "      * list: a list with n first Fibonacci numbers.\n",
    "    \"\"\"\n",
    "    previous = [1, 1]\n",
    "    while len(previous) < n:\n",
    "        new = previous[-2] + previous[-1]\n",
    "        previous.append(new)\n",
    "        \n",
    "    return previous[-1]"
   ]
  },
  {
   "cell_type": "code",
   "execution_count": 49,
   "metadata": {
    "colab": {
     "base_uri": "https://localhost:8080/",
     "height": 34
    },
    "colab_type": "code",
    "id": "sKOVov02XKnE",
    "outputId": "c9e83bbc-8f54-4265-923e-85785ba0a894"
   },
   "outputs": [
    {
     "data": {
      "text/plain": [
       "13"
      ]
     },
     "execution_count": 49,
     "metadata": {
      "tags": []
     },
     "output_type": "execute_result"
    }
   ],
   "source": [
    "fibonacci(7)"
   ]
  },
  {
   "cell_type": "markdown",
   "metadata": {
    "colab_type": "text",
    "id": "Nbz4niOlXKnH"
   },
   "source": [
    "The same task can be solved by defining the function _recursively_.\n",
    "We can simply define the **basic return** cases initially, and then buld the **recursive returns** such that they will always boil down to the basic cases."
   ]
  },
  {
   "cell_type": "code",
   "execution_count": 0,
   "metadata": {
    "colab": {},
    "colab_type": "code",
    "id": "pKHMThDQXKnI"
   },
   "outputs": [],
   "source": [
    "def recursive_fibonacci(n):\n",
    "    if n in [1, 2]:\n",
    "        return 1\n",
    "    return recursive_fibonacci(n - 2) + recursive_fibonacci(n - 1)"
   ]
  },
  {
   "cell_type": "code",
   "execution_count": 51,
   "metadata": {
    "colab": {
     "base_uri": "https://localhost:8080/",
     "height": 34
    },
    "colab_type": "code",
    "id": "mmZddkBIXKnK",
    "outputId": "7a1e30fd-ecba-4877-89ad-32788e7a92fe"
   },
   "outputs": [
    {
     "data": {
      "text/plain": [
       "13"
      ]
     },
     "execution_count": 51,
     "metadata": {
      "tags": []
     },
     "output_type": "execute_result"
    }
   ],
   "source": [
    "recursive_fibonacci(7)"
   ]
  },
  {
   "cell_type": "markdown",
   "metadata": {
    "colab_type": "text",
    "id": "Y8KNwB2-XKnM"
   },
   "source": [
    "For example, consider the way the $7$th Fibonacci member is calculated. Calculating the $7$th member is the same as calculating the sum of the $5$th and $6$th members. Calculating the $5$th member is the sum of the $3$rd and the $4$th, and so on.\n",
    "This can be exemplified with the following tree. The basic return cases are marked in green (\"leaf\" computations\"), whereas the recursive steps are colored in blue (\"nodes\" requiring the additional depth)."
   ]
  },
  {
   "cell_type": "markdown",
   "metadata": {
    "colab_type": "text",
    "id": "W7M1QKPlXKnM"
   },
   "source": [
    "# <img src=\"images/8_1.png\" width=\"550\">"
   ]
  },
  {
   "cell_type": "markdown",
   "metadata": {
    "colab_type": "text",
    "id": "MF4-JwXJXKnN"
   },
   "source": [
    "**Timing the code.** Let us now compare the performance of these two functions by _timing_ them."
   ]
  },
  {
   "cell_type": "code",
   "execution_count": 0,
   "metadata": {
    "colab": {},
    "colab_type": "code",
    "id": "4t4_d9CFXKnN"
   },
   "outputs": [],
   "source": [
    "from time import time"
   ]
  },
  {
   "cell_type": "markdown",
   "metadata": {
    "colab_type": "text",
    "id": "JX-ax8w6XKnP"
   },
   "source": [
    "The function `time` from the package `time` returns the number of seconds that passed since the beginning of the **Unix time** (also known as _epoch)._ It started on the **1st of January, 12:00 am, 1970**."
   ]
  },
  {
   "cell_type": "code",
   "execution_count": 0,
   "metadata": {
    "colab": {},
    "colab_type": "code",
    "id": "q99HALTfXKnQ"
   },
   "outputs": [],
   "source": [
    "print(\"Current time:\", time())"
   ]
  },
  {
   "cell_type": "markdown",
   "metadata": {
    "colab_type": "text",
    "id": "8L4JAYCwXKnS"
   },
   "source": [
    "It is possible to time the code by \"saving\" the start and end times, and then substracting the start time from the end time, therefore yielding the number of seconds the code was running."
   ]
  },
  {
   "cell_type": "code",
   "execution_count": 0,
   "metadata": {
    "colab": {},
    "colab_type": "code",
    "id": "L5ezlv_DXKnT"
   },
   "outputs": [],
   "source": [
    "previous_time = time()\n",
    "\n",
    "fibonacci(35)\n",
    "\n",
    "current_time = time()\n",
    "runtime = current_time - previous_time\n",
    "print(runtime)"
   ]
  },
  {
   "cell_type": "code",
   "execution_count": 0,
   "metadata": {
    "colab": {},
    "colab_type": "code",
    "id": "7cHM8wrwXKnU"
   },
   "outputs": [],
   "source": [
    "previous_time = time()\n",
    "\n",
    "recursive_fibonacci(35)\n",
    "\n",
    "current_time = time()\n",
    "runtime = current_time - previous_time\n",
    "print(runtime)"
   ]
  },
  {
   "cell_type": "markdown",
   "metadata": {
    "colab_type": "text",
    "id": "4dHYEYIRXKnX"
   },
   "source": [
    "**Question:** What code runs slower? Why?"
   ]
  },
  {
   "cell_type": "markdown",
   "metadata": {
    "colab_type": "text",
    "id": "rTKnABrSXKnX"
   },
   "source": [
    "## Optional: lambda functions\n",
    "\n",
    "Sometimes, the body of the function contains only a return followed by a simple expression."
   ]
  },
  {
   "cell_type": "code",
   "execution_count": 0,
   "metadata": {
    "colab": {},
    "colab_type": "code",
    "id": "2XhylnsyXKnY"
   },
   "outputs": [],
   "source": [
    "def square(number):\n",
    "    return number ** 2\n",
    "\n",
    "print(square(3))"
   ]
  },
  {
   "cell_type": "markdown",
   "metadata": {
    "colab_type": "text",
    "id": "Q-ZFetTtXKnZ"
   },
   "source": [
    "In such cases, we can use a special type of functions called **lambda functions**. They can be defined in the following manner:\n",
    "\n",
    "    function_name = lambda arg_1, arg_2, <...>, arg_n: what_needs_to_be_returned\n",
    "\n",
    "Consider the previously defined function `square` re-defined as a lambda function."
   ]
  },
  {
   "cell_type": "code",
   "execution_count": 0,
   "metadata": {
    "colab": {},
    "colab_type": "code",
    "id": "mW0cnBkRXKna"
   },
   "outputs": [],
   "source": [
    "square = lambda number: number ** 2\n",
    "print(square(3))"
   ]
  },
  {
   "cell_type": "code",
   "execution_count": 0,
   "metadata": {
    "colab": {},
    "colab_type": "code",
    "id": "puBudUrUXKnc"
   },
   "outputs": [],
   "source": [
    "multiplication = lambda num1, num2: num1 * num2\n",
    "print(multiplication(2, 8))"
   ]
  },
  {
   "cell_type": "code",
   "execution_count": 0,
   "metadata": {
    "colab": {},
    "colab_type": "code",
    "id": "CK7ymYWHXKng"
   },
   "outputs": [],
   "source": [
    "clean_split = lambda text: \"\".join([i for i in text if i not in [\",\", \".\", \"!\"]]).lower().split()\n",
    "print(clean_split(\"Hello! It is Monday.\"))"
   ]
  },
  {
   "cell_type": "markdown",
   "metadata": {
    "colab_type": "text",
    "id": "M1JF2sb3XKni"
   },
   "source": [
    "**Question:** is it possible to define a `lambda` function that takes $0$ arguments?"
   ]
  },
  {
   "cell_type": "code",
   "execution_count": 0,
   "metadata": {
    "colab": {},
    "colab_type": "code",
    "id": "vOBrqyE7XKnj"
   },
   "outputs": [],
   "source": []
  },
  {
   "cell_type": "markdown",
   "metadata": {
    "colab_type": "text",
    "id": "kmpn71-XXKnk"
   },
   "source": [
    "The function `map` takes a function and a list as arguments, and applies that function to every item of that list."
   ]
  },
  {
   "cell_type": "code",
   "execution_count": 0,
   "metadata": {
    "colab": {},
    "colab_type": "code",
    "id": "jsj7jx3JXKnl"
   },
   "outputs": [],
   "source": [
    "strings = [\"apple\", \"banana\", \"kiwi\"]\n",
    "lengths = list(map(len, strings))\n",
    "print(lengths)"
   ]
  },
  {
   "cell_type": "markdown",
   "metadata": {
    "colab_type": "text",
    "id": "lESgRxYgXKno"
   },
   "source": [
    "Functions and lambda functions in particular can be used by `map`."
   ]
  },
  {
   "cell_type": "code",
   "execution_count": 0,
   "metadata": {
    "colab": {},
    "colab_type": "code",
    "id": "zwdXVpjFXKno"
   },
   "outputs": [],
   "source": [
    "double = lambda x: x * 2\n",
    "numbers = [1, 2, 3, 4, 5]\n",
    "doubled = list(map(double, numbers))\n",
    "print(doubled)"
   ]
  },
  {
   "cell_type": "markdown",
   "metadata": {
    "colab_type": "text",
    "id": "LedU9pe_XKns"
   },
   "source": [
    "One of the most frequent uses of the lambda function is to define a very simple function _on fly_. In this case, instead of defining the function previously and then calling it by its name, we define the function **anonymously**, i.e. without assigning a name to it."
   ]
  },
  {
   "cell_type": "code",
   "execution_count": 0,
   "metadata": {
    "colab": {},
    "colab_type": "code",
    "id": "ESO_LgzRXKnt"
   },
   "outputs": [],
   "source": [
    "numbers = [1, 2, 3, 4, 5]\n",
    "doubled = list(map(lambda x: x * 2, numbers))\n",
    "print(doubled)"
   ]
  },
  {
   "cell_type": "markdown",
   "metadata": {
    "colab_type": "text",
    "id": "VBDYI8LFXKnw"
   },
   "source": [
    "**Practice.** Using `map` and an anonymous `lambda` function, make a copy of `words` where only the first half of every word will be preserved.\n",
    "\n",
    "    words = ['linguistics', 'syntax', 'morphology', 'phonology']\n",
    "    short = ['lingu', 'syn', 'morph', 'phon']"
   ]
  },
  {
   "cell_type": "code",
   "execution_count": 0,
   "metadata": {
    "colab": {},
    "colab_type": "code",
    "id": "WBe5dOa8XKnw"
   },
   "outputs": [],
   "source": [
    "words = [\"linguistics\", \"syntax\", \"morphology\", \"phonology\"]\n",
    "\n",
    "# your code here"
   ]
  },
  {
   "cell_type": "markdown",
   "metadata": {
    "colab_type": "text",
    "id": "vC7D37ZeXKny"
   },
   "source": [
    "# Homework 8\n",
    "\n",
    "**Due on Saturday, October 26th, 11.59pm**\n",
    "\n",
    "Send your notebook (don't forget to save your solutions!) to <alena.aksenova@stonybrook.edu> with the subject **\\[CompLing1\\] Homework 8**."
   ]
  },
  {
   "cell_type": "markdown",
   "metadata": {
    "colab_type": "text",
    "id": "xdufFDiWXKny"
   },
   "source": [
    "**Problem 1.** In this notebook, we discussed a function `bigramize` extracting bigrams from a given string. Its code is repeated below."
   ]
  },
  {
   "cell_type": "code",
   "execution_count": 0,
   "metadata": {
    "colab": {},
    "colab_type": "code",
    "id": "UF3gB8zsXKnz"
   },
   "outputs": [],
   "source": [
    "def bigramize(string):\n",
    "    \"\"\" Creates a list of bigrams from the input string. \"\"\"\n",
    "    \n",
    "    bigrams = []\n",
    "    for i in range(len(string) - 1):\n",
    "        bigram = string[i:i+2]\n",
    "        if bigram not in bigrams:\n",
    "            bigrams.append(bigram)\n",
    "    return bigrams"
   ]
  },
  {
   "cell_type": "markdown",
   "metadata": {
    "colab_type": "text",
    "id": "syPfZl9mXKn0"
   },
   "source": [
    "Define a more generalized version of this function, `ngramize`. It should take two arguments: `string` and `n`, where `string` is the string that needs to be $n$-gramized, and `n` is the size of the $n$-grams.\n",
    "\n",
    "    Function call: ngramize(\"banana\", 4)\n",
    "    Output:        ['bana', 'anan', 'nana']\n",
    "    \n",
    "    Function call: ngramize(\"linguistics\", 7)\n",
    "    Output:        ['linguis', 'inguist', 'nguisti', 'guistic', 'uistics']"
   ]
  },
  {
   "cell_type": "code",
   "execution_count": 77,
   "metadata": {
    "colab": {
     "base_uri": "https://localhost:8080/",
     "height": 34
    },
    "colab_type": "code",
    "id": "SLaMcOZrXKn1",
    "outputId": "d6bb865b-dd7f-4604-c00e-88fb699cea22"
   },
   "outputs": [
    {
     "data": {
      "text/plain": [
       "['linguis', 'inguist', 'nguisti', 'guistic', 'uistics']"
      ]
     },
     "execution_count": 77,
     "metadata": {
      "tags": []
     },
     "output_type": "execute_result"
    }
   ],
   "source": [
    "def ngramize(string,n):\n",
    "  ngrams=[]\n",
    "  for i in range(len(string)-(n-1)):\n",
    "    ngram=string[i:i+n]\n",
    "    if ngram not in ngrams:\n",
    "      ngrams.append(ngram)\n",
    "  return ngrams\n",
    "ngramize(\"linguistics\",7)\n"
   ]
  },
  {
   "cell_type": "markdown",
   "metadata": {
    "colab_type": "text",
    "id": "1AFdxQcWXKn2"
   },
   "source": [
    "**Problem 2.**  Define a funciton `perfect_number` that returns True if the input integer is perfect, and False otherwise.\n",
    "\n",
    "> In number theory, a **perfect number** is a positive integer that is equal to the sum of its positive divisors excluding the number itself. $1$ is not a perfect number."
   ]
  },
  {
   "cell_type": "code",
   "execution_count": 0,
   "metadata": {
    "colab": {},
    "colab_type": "code",
    "id": "CvbJcYdfXKn3"
   },
   "outputs": [],
   "source": [
    "def perfect_number(n):\n",
    "  list1=[]\n",
    "  total=0\n",
    "  '''Find divisors,append divisor into list1'''\n",
    "  for a in range(1,n):\n",
    "    if n%a==0:\n",
    "      list1.append(a)\n",
    "  '''Sum all divisors'''\n",
    "  for b in range(len(list1)):\n",
    "    total=total+list1[b]\n",
    "  '''transfer integer into string'''\n",
    "  for c in range(len(list1)):\n",
    "    list1[c]=str(list1[c])\n",
    "  '''Transfer list1 into string, and insert +'''\n",
    "  explanation=(\"+\".join(list1))\n",
    "  '''Boolean for total and n, and print the result'''\n",
    "  if total==n:\n",
    "    expectreturn=True\n",
    "    print(\"number\",'\\t',\"expected return\",'\\t',\"explanation\")\n",
    "    print(n,'\\t',expectreturn,'\\t','\\t','\\t',explanation,\"==\",n)\n",
    "  else:\n",
    "    expectreturn=False\n",
    "    print(\"number\",'\\t',\"expected return\",'\\t',\"explanation\")\n",
    "    print(n,'\\t',expectreturn,'\\t','\\t','\\t',explanation,\"!=\",n)\n",
    "  "
   ]
  },
  {
   "cell_type": "markdown",
   "metadata": {
    "colab_type": "text",
    "id": "Yv0UIzWWXKn4"
   },
   "source": [
    "Test the `perfect_number` function. You can use the following values:\n",
    "\n",
    "    number  expected return        explanation\n",
    "    6       True                   1 + 2 + 3 == 6\n",
    "    9       False                  1 + 3 != 9\n",
    "    12      False                  1 + 2 + 3 + 4 + 6 != 12\n",
    "    28      True                   1 + 2 + 4 + 7 + 14 == 28"
   ]
  },
  {
   "cell_type": "code",
   "execution_count": 123,
   "metadata": {
    "colab": {
     "base_uri": "https://localhost:8080/",
     "height": 51
    },
    "colab_type": "code",
    "id": "4R4tDZTNXKn5",
    "outputId": "0b9a6ba7-abf6-41c3-94e5-d13eafb89579"
   },
   "outputs": [
    {
     "name": "stdout",
     "output_type": "stream",
     "text": [
      "number \t expected return \t explanation\n",
      "28 \t True \t \t \t 1+2+4+7+14 == 28\n"
     ]
    }
   ],
   "source": [
    "perfect_number(28)"
   ]
  },
  {
   "cell_type": "markdown",
   "metadata": {
    "colab_type": "text",
    "id": "BUDjwQUlXKn6"
   },
   "source": [
    "**Problem 3.** Define a function `first_perfect_numbers` that takes an integer `n` as input, and generates a list of first `n` perfect numbers. In the body of this function, make use of the function `perfect_number` defined above.\n",
    "\n",
    "    Function call:   first_perfect_numbers(4)\n",
    "    Function output: [6, 28, 496, 8128]\n",
    "\n",
    "**Warning:** there are _huge_ gaps in-between perfect numbers, so you might want to avoid calculating more than $4$ of the first perfect numbers due to the increased memory consumption."
   ]
  },
  {
   "cell_type": "code",
   "execution_count": 137,
   "metadata": {
    "colab": {
     "base_uri": "https://localhost:8080/",
     "height": 34
    },
    "colab_type": "code",
    "id": "g7EZYf5VXKn7",
    "outputId": "3d6a0100-5ce8-4eed-f28e-9ca29084341c"
   },
   "outputs": [
    {
     "data": {
      "text/plain": [
       "[6, 28, 496, 8128]"
      ]
     },
     "execution_count": 137,
     "metadata": {
      "tags": []
     },
     "output_type": "execute_result"
    }
   ],
   "source": [
    "def first_perfect_numbers(n):\n",
    "  range1=3\n",
    "  counter=0\n",
    "  total=0\n",
    "  list1=[]\n",
    "  list2=[]\n",
    "  while counter<n:\n",
    "    for a in range(1,range1):\n",
    "      if range1%a==0:\n",
    "        list1.append(a)\n",
    "    for b in range(len(list1)):\n",
    "      total=total+list1[b]\n",
    "    if total==range1:\n",
    "      list2.append(range1)\n",
    "      counter+=1\n",
    "    total=0\n",
    "    list1.clear()\n",
    "    range1+=1\n",
    "  return(list2)\n",
    "\n",
    "first_perfect_numbers(4)"
   ]
  }
 ],
 "metadata": {
  "colab": {
   "name": "[CompLing1]Homework 8.ipynb",
   "provenance": []
  },
  "kernelspec": {
   "display_name": "Python 3",
   "language": "python",
   "name": "python3"
  },
  "language_info": {
   "codemirror_mode": {
    "name": "ipython",
    "version": 3
   },
   "file_extension": ".py",
   "mimetype": "text/x-python",
   "name": "python",
   "nbconvert_exporter": "python",
   "pygments_lexer": "ipython3",
   "version": "3.8.0"
  }
 },
 "nbformat": 4,
 "nbformat_minor": 1
}
