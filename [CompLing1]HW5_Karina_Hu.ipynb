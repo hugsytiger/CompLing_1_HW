{
 "cells": [
  {
   "cell_type": "markdown",
   "metadata": {
    "colab_type": "text",
    "id": "0Z67YleBl6tQ"
   },
   "source": [
    "<div style=\"text-align: right\">\n",
    "    <i>\n",
    "        LIN 537: Computational Lingusitics 1 <br>\n",
    "        Fall 2019 <br>\n",
    "        Alëna Aksënova\n",
    "    </i>\n",
    "</div>\n",
    "\n",
    "# Notebook 5: list comprehensions and dictionaries\n",
    "\n",
    "This notebook shows a way to dinamically construct list by defining a _list comprehension_, and then introduced a new basic Python data type: dictionary.\n",
    " An optional advanced section introduces `map`."
   ]
  },
  {
   "cell_type": "markdown",
   "metadata": {
    "colab_type": "text",
    "id": "midppQ7Vl6tR"
   },
   "source": [
    "## List comprehensions\n",
    "\n",
    "Let's say we have the following task. We are given a list of words:"
   ]
  },
  {
   "cell_type": "code",
   "execution_count": 0,
   "metadata": {
    "colab": {},
    "colab_type": "code",
    "id": "IBc0f_mzl6tS"
   },
   "outputs": [],
   "source": [
    "words = [\"sky\", \"water\", \"air\", \"nature\", \"forest\", \"ice\"]"
   ]
  },
  {
   "cell_type": "markdown",
   "metadata": {
    "colab_type": "text",
    "id": "--cBo6kFl6tV"
   },
   "source": [
    "We want to create a list where we will collect lengths of the words from `words`. Using Python knowledge that we built so far, the code can look like the one below."
   ]
  },
  {
   "cell_type": "code",
   "execution_count": 0,
   "metadata": {
    "colab": {
     "base_uri": "https://localhost:8080/",
     "height": 34
    },
    "colab_type": "code",
    "id": "-HZmsQJFl6tW",
    "outputId": "1d0c8869-9c8f-4438-a69d-8f3fd421ade0"
   },
   "outputs": [
    {
     "name": "stdout",
     "output_type": "stream",
     "text": [
      "[3, 5, 3, 6, 6, 3]\n"
     ]
    }
   ],
   "source": [
    "lengths = []\n",
    "\n",
    "for w in words:\n",
    "    lengths.append(len(w))\n",
    "print(lengths)"
   ]
  },
  {
   "cell_type": "markdown",
   "metadata": {
    "colab_type": "text",
    "id": "yGSsUY_9l6tY"
   },
   "source": [
    "### Basics of list comprehensions\n",
    "\n",
    "**List comprehensions** allow to construct a new list while looping over some other list that already exists in memory.\n",
    "So now, instead of the following code\n",
    "\n",
    "    new_list = []\n",
    "    for item in some_container:\n",
    "      new_list.append(function(item))\n",
    "      \n",
    "we can use its shorter and more memory-efficient version:\n",
    "    \n",
    "    new_list = [function(item) for item in some_container]"
   ]
  },
  {
   "cell_type": "code",
   "execution_count": 2,
   "metadata": {
    "colab": {
     "base_uri": "https://localhost:8080/",
     "height": 34
    },
    "colab_type": "code",
    "id": "Pa83Cv7kRvOj",
    "outputId": "94ea015d-62dc-40f5-8775-8b48f0879b29"
   },
   "outputs": [
    {
     "name": "stdout",
     "output_type": "stream",
     "text": [
      "[3, 5, 3, 6, 6, 3]\n"
     ]
    }
   ],
   "source": [
    "new_list=[ len(w) for w in words]\n",
    "print(new_list)\n"
   ]
  },
  {
   "cell_type": "code",
   "execution_count": 0,
   "metadata": {
    "colab": {
     "base_uri": "https://localhost:8080/",
     "height": 34
    },
    "colab_type": "code",
    "id": "Wr2R_jW_l6tY",
    "outputId": "ff4f0708-de79-4163-e5c4-3511c70606b2"
   },
   "outputs": [
    {
     "name": "stdout",
     "output_type": "stream",
     "text": [
      "[3, 5, 3, 6, 6, 3]\n"
     ]
    }
   ],
   "source": [
    "lengths = [len(w) for w in words]\n",
    "print(lengths)"
   ]
  },
  {
   "cell_type": "markdown",
   "metadata": {
    "colab_type": "text",
    "id": "jgjsXCzgl6tb"
   },
   "source": [
    "Or, for example, we can create a new list where every single word from the old list would be reversed."
   ]
  },
  {
   "cell_type": "code",
   "execution_count": 9,
   "metadata": {
    "colab": {
     "base_uri": "https://localhost:8080/",
     "height": 34
    },
    "colab_type": "code",
    "id": "ylH9tFQYl6tc",
    "outputId": "f518686f-a2b2-4262-f776-844a81e8619f"
   },
   "outputs": [
    {
     "name": "stdout",
     "output_type": "stream",
     "text": [
      "['yks', 'retaw', 'ria', 'erutan', 'tserof', 'eci']\n"
     ]
    }
   ],
   "source": [
    "reversals = [w[::-1] for w in words]\n",
    "print(reversals)"
   ]
  },
  {
   "cell_type": "markdown",
   "metadata": {
    "colab_type": "text",
    "id": "Vtpod5zdl6te"
   },
   "source": [
    "Or maybe you want to create a list where all letters in `words` are masked:"
   ]
  },
  {
   "cell_type": "code",
   "execution_count": 8,
   "metadata": {
    "colab": {
     "base_uri": "https://localhost:8080/",
     "height": 34
    },
    "colab_type": "code",
    "id": "aFdTSXbjl6te",
    "outputId": "ae954a90-de89-4f2b-d65f-0bc7152997d3"
   },
   "outputs": [
    {
     "name": "stdout",
     "output_type": "stream",
     "text": [
      "['***', '*****', '***', '******', '******', '***']\n"
     ]
    }
   ],
   "source": [
    "masked_words = [\"*\" * len(w) for w in words]\n",
    "print(masked_words)"
   ]
  },
  {
   "cell_type": "code",
   "execution_count": 10,
   "metadata": {
    "colab": {
     "base_uri": "https://localhost:8080/",
     "height": 134
    },
    "colab_type": "code",
    "id": "-s8FvJ1QjLEV",
    "outputId": "e38b4dfd-4e74-4ef8-f4e0-546bca38424f"
   },
   "outputs": [
    {
     "ename": "SyntaxError",
     "evalue": "ignored",
     "output_type": "error",
     "traceback": [
      "\u001b[0;36m  File \u001b[0;32m\"<ipython-input-10-15e472ef4dae>\"\u001b[0;36m, line \u001b[0;32m1\u001b[0m\n\u001b[0;31m    masked_words=[\"*\" len(w) for w in words ]\u001b[0m\n\u001b[0m                        ^\u001b[0m\n\u001b[0;31mSyntaxError\u001b[0m\u001b[0;31m:\u001b[0m invalid syntax\n"
     ]
    }
   ],
   "source": [
    "masked_words=[\"*\" len(w) for w in words ]\n",
    "print(masked_words)"
   ]
  },
  {
   "cell_type": "markdown",
   "metadata": {
    "colab_type": "text",
    "id": "h0_5wJEul6th"
   },
   "source": [
    "And, of course, it is possible to map all values of the variable `w` to something that does not depend on `w` at all:"
   ]
  },
  {
   "cell_type": "code",
   "execution_count": 11,
   "metadata": {
    "colab": {
     "base_uri": "https://localhost:8080/",
     "height": 34
    },
    "colab_type": "code",
    "id": "jiJgYv6Xl6th",
    "outputId": "ad816c9e-ee91-4d31-db0f-23e1cf17254b"
   },
   "outputs": [
    {
     "name": "stdout",
     "output_type": "stream",
     "text": [
      "['WORD', 'WORD', 'WORD', 'WORD', 'WORD', 'WORD']\n"
     ]
    }
   ],
   "source": [
    "masked_words_revisited = [\"WORD\" for w in words]\n",
    "print(masked_words_revisited)"
   ]
  },
  {
   "cell_type": "markdown",
   "metadata": {
    "colab_type": "text",
    "id": "9ifs8y_el6tj"
   },
   "source": [
    "**Practice 1:** create a list that will contain last letters of every word in `words`."
   ]
  },
  {
   "cell_type": "code",
   "execution_count": 7,
   "metadata": {
    "colab": {
     "base_uri": "https://localhost:8080/",
     "height": 34
    },
    "colab_type": "code",
    "id": "zZziGSmLl6tk",
    "outputId": "647f82c4-248d-4cf1-966d-7e87d7577a21"
   },
   "outputs": [
    {
     "name": "stdout",
     "output_type": "stream",
     "text": [
      "[['y'], ['r'], ['r'], ['e'], ['t'], ['e']]\n"
     ]
    }
   ],
   "source": [
    "last_char=[[w[-1]] for w in words]\n",
    "print(last_char)"
   ]
  },
  {
   "cell_type": "markdown",
   "metadata": {
    "colab_type": "text",
    "id": "axcdavyRl6tn"
   },
   "source": [
    "**Practice 2:** You are given two lists: `words` and `new_indicies`."
   ]
  },
  {
   "cell_type": "code",
   "execution_count": 0,
   "metadata": {
    "colab": {},
    "colab_type": "code",
    "id": "l6NEnm5Yl6to"
   },
   "outputs": [],
   "source": [
    "words = [\"sky\", \"water\", \"air\", \"nature\", \"forest\", \"ice\"]\n",
    "new_indicies = [3, 0, 5, 1, 2, 4]"
   ]
  },
  {
   "cell_type": "markdown",
   "metadata": {
    "colab_type": "text",
    "id": "w1shtfKal6tr"
   },
   "source": [
    "Write a list comprehension that would yield the following list:\n",
    "\n",
    "    ['nature', 'sky', 'ice', 'water', 'air', 'forest']"
   ]
  },
  {
   "cell_type": "code",
   "execution_count": 20,
   "metadata": {
    "colab": {
     "base_uri": "https://localhost:8080/",
     "height": 34
    },
    "colab_type": "code",
    "id": "Gfbfo4SFl6ts",
    "outputId": "0165d845-a38b-4975-81ff-1bd19e8e0d17"
   },
   "outputs": [
    {
     "name": "stdout",
     "output_type": "stream",
     "text": [
      "['nature', 'sky', 'ice', 'water', 'air', 'forest']\n"
     ]
    }
   ],
   "source": [
    "words = [\"sky\", \"water\", \"air\", \"nature\", \"forest\", \"ice\"]\n",
    "new_indicies = [3, 0, 5, 1, 2, 4]\n",
    "\n",
    "rearranged_words=[words[i] for i in new_indicies]\n",
    "print(rearranged_words)"
   ]
  },
  {
   "cell_type": "markdown",
   "metadata": {
    "colab_type": "text",
    "id": "uR2M0pf5l6tv"
   },
   "source": [
    "### Adding conditions to list comprehensions\n",
    "\n",
    "So far the list comprehensions we wrote were using the following logic:\n",
    "  \n",
    "  1. consider an item from some container;\n",
    "  2. based on the value of item, create some new item;\n",
    "  3. add this new item to a new list.\n",
    "  \n",
    "We have the following two lists defined: `swadesh` and `words`."
   ]
  },
  {
   "cell_type": "code",
   "execution_count": 0,
   "metadata": {
    "colab": {},
    "colab_type": "code",
    "id": "TdPfPrVNl6tw"
   },
   "outputs": [],
   "source": [
    "swadesh = [\"fish\", \"bird\", \"dog\", \"house\", \"tree\", \"seed\"]\n",
    "words = [\"bird\", \"laptop\", \"puppy\", \"house\", \"seed\", \"Python\"]"
   ]
  },
  {
   "cell_type": "markdown",
   "metadata": {
    "colab_type": "text",
    "id": "uCY3waHBl6ty"
   },
   "source": [
    "The task is to make a copy of `words` that will contain only the words that are also incuded in the Swadesh list."
   ]
  },
  {
   "cell_type": "code",
   "execution_count": 22,
   "metadata": {
    "colab": {
     "base_uri": "https://localhost:8080/",
     "height": 34
    },
    "colab_type": "code",
    "id": "p1645C_jl6ty",
    "outputId": "c6f36e63-7273-4c73-eaff-66a4c50787f6"
   },
   "outputs": [
    {
     "name": "stdout",
     "output_type": "stream",
     "text": [
      "['bird', 'house', 'seed']\n"
     ]
    }
   ],
   "source": [
    "words_copy = []\n",
    "for w in words:\n",
    "    if w in swadesh:\n",
    "        words_copy.append(w)\n",
    "print(words_copy)"
   ]
  },
  {
   "cell_type": "markdown",
   "metadata": {
    "colab_type": "text",
    "id": "yNwZ5qn8l6t0"
   },
   "source": [
    "It is also possible to do it using a list comprehension. The syntax will be the following:\n",
    "\n",
    "    new_list = [function(item) for item in some_container if condition]"
   ]
  },
  {
   "cell_type": "code",
   "execution_count": 0,
   "metadata": {
    "colab": {
     "base_uri": "https://localhost:8080/",
     "height": 34
    },
    "colab_type": "code",
    "id": "P9HrTorTl6t1",
    "outputId": "bbbb773f-a292-4d0c-f2d1-5feaba1165a2",
    "scrolled": true
   },
   "outputs": [
    {
     "name": "stdout",
     "output_type": "stream",
     "text": [
      "['bird', 'house', 'seed']\n"
     ]
    }
   ],
   "source": [
    "words_copy = [w for w in words if w in swadesh]\n",
    "print(words_copy)"
   ]
  },
  {
   "cell_type": "markdown",
   "metadata": {
    "colab_type": "text",
    "id": "ygHSx4RGl6t2"
   },
   "source": [
    "**Practice.** Make a copy of the list `swadesh` that will contain words that end with a vowel."
   ]
  },
  {
   "cell_type": "code",
   "execution_count": 35,
   "metadata": {
    "colab": {
     "base_uri": "https://localhost:8080/",
     "height": 34
    },
    "colab_type": "code",
    "id": "yvZu_ChPl6t3",
    "outputId": "35c96a68-7b75-4e76-f503-dc43d4cceb0c"
   },
   "outputs": [
    {
     "name": "stdout",
     "output_type": "stream",
     "text": [
      "['house', 'tree']\n"
     ]
    }
   ],
   "source": [
    "swadesh = [\"fish\", \"bird\", \"dog\", \"house\", \"tree\", \"seed\"]\n",
    "\n",
    "# your code\n",
    "vowels=\"aeiou\"\n",
    "words_copy=[]\n",
    "for w in swadesh:\n",
    "    if w[-1] in vowels:\n",
    "      words_copy.append(w)\n",
    "print(words_copy)"
   ]
  },
  {
   "cell_type": "code",
   "execution_count": 36,
   "metadata": {
    "colab": {
     "base_uri": "https://localhost:8080/",
     "height": 34
    },
    "colab_type": "code",
    "id": "J6WnDK3nrXR1",
    "outputId": "48b72ed5-2749-4dbb-ac6c-2b43f6e4eb2c"
   },
   "outputs": [
    {
     "name": "stdout",
     "output_type": "stream",
     "text": [
      "['house', 'tree']\n"
     ]
    }
   ],
   "source": [
    "swadesh_copy=[p for p in swadesh if p[-1]in vowels]\n",
    "print(swadesh_copy)"
   ]
  },
  {
   "cell_type": "markdown",
   "metadata": {
    "colab_type": "text",
    "id": "yESQ-ftFl6t4"
   },
   "source": [
    "### More complicated list comprehensions\n",
    "\n",
    "It is also possible to add `else` and a second `for` loop in list comprehensions. However, more \"overloaded\" the list comprehension is, less readable it is. \n",
    "\n",
    "My general advice would be not to use a list comprehension if you are see that it looks very scary and unreadable. :)\n",
    "\n",
    "However, consider the following examples of list comprehensions and their \"unfolded\" versions.\n",
    "\n",
    "**Example 1.** Make a copy of the list `words`. Leave the words unmasked if those words are included in the `swadesh` list, otherwise mask them as \"UNK\"."
   ]
  },
  {
   "cell_type": "code",
   "execution_count": 0,
   "metadata": {
    "colab": {},
    "colab_type": "code",
    "id": "Ic2s-Ccxl6t5"
   },
   "outputs": [],
   "source": [
    "swadesh = [\"fish\", \"bird\", \"dog\", \"house\", \"tree\", \"seed\"]\n",
    "words = [\"bird\", \"laptop\", \"puppy\", \"house\", \"seed\", \"Python\"]"
   ]
  },
  {
   "cell_type": "markdown",
   "metadata": {
    "colab_type": "text",
    "id": "wDencjZfl6t6"
   },
   "source": [
    "No list comprehension:"
   ]
  },
  {
   "cell_type": "code",
   "execution_count": 38,
   "metadata": {
    "colab": {
     "base_uri": "https://localhost:8080/",
     "height": 34
    },
    "colab_type": "code",
    "id": "Z6PfZqIAl6t7",
    "outputId": "23dfa54d-c9f5-4a29-ea32-b63f3a7ffe0d"
   },
   "outputs": [
    {
     "name": "stdout",
     "output_type": "stream",
     "text": [
      "['bird', 'UNK', 'UNK', 'house', 'seed', 'UNK']\n"
     ]
    }
   ],
   "source": [
    "words_1 = []\n",
    "for w in words:\n",
    "    if w in swadesh:\n",
    "        words_1.append(w)\n",
    "    else:\n",
    "        words_1.append(\"UNK\")\n",
    "print(words_1)"
   ]
  },
  {
   "cell_type": "markdown",
   "metadata": {
    "colab_type": "text",
    "id": "D3NSG-TBl6t9"
   },
   "source": [
    "With a list comprehension:"
   ]
  },
  {
   "cell_type": "code",
   "execution_count": 0,
   "metadata": {
    "colab": {
     "base_uri": "https://localhost:8080/",
     "height": 34
    },
    "colab_type": "code",
    "id": "pP3o78fRl6t-",
    "outputId": "976e2172-70a5-42a1-f54b-b8d62c65f911"
   },
   "outputs": [
    {
     "name": "stdout",
     "output_type": "stream",
     "text": [
      "['bird', 'UNK', 'UNK', 'house', 'seed', 'UNK']\n"
     ]
    }
   ],
   "source": [
    "words_2 = [w if (w in swadesh) else \"UNK\" for w in words]\n",
    "print(words_2)"
   ]
  },
  {
   "cell_type": "markdown",
   "metadata": {
    "colab_type": "text",
    "id": "m64p2JKBl6uD"
   },
   "source": [
    "**Example 2.** Imagine we want to create a list of letters all letters from `words` while preserving their order."
   ]
  },
  {
   "cell_type": "code",
   "execution_count": 0,
   "metadata": {
    "colab": {
     "base_uri": "https://localhost:8080/",
     "height": 34
    },
    "colab_type": "code",
    "id": "m-2yoROCl6uD",
    "outputId": "791e7187-cb37-4fe5-8d02-a4c60602e146"
   },
   "outputs": [
    {
     "name": "stdout",
     "output_type": "stream",
     "text": [
      "['b', 'i', 'r', 'd', 'l', 'a', 'p', 't', 'o', 'p', 'p', 'u', 'p', 'p', 'y', 'h', 'o', 'u', 's', 'e', 's', 'e', 'e', 'd', 'P', 'y', 't', 'h', 'o', 'n']\n"
     ]
    }
   ],
   "source": [
    "letters_1 = []\n",
    "for w in words:\n",
    "    for letter in w:\n",
    "        letters_1.append(letter)\n",
    "print(letters_1)"
   ]
  },
  {
   "cell_type": "markdown",
   "metadata": {
    "colab_type": "text",
    "id": "LD0dREZSl6uF"
   },
   "source": [
    "It is also possible to do using a list comprehension:"
   ]
  },
  {
   "cell_type": "code",
   "execution_count": 0,
   "metadata": {
    "colab": {
     "base_uri": "https://localhost:8080/",
     "height": 34
    },
    "colab_type": "code",
    "id": "8-04hd_cl6uF",
    "outputId": "374957ba-ba16-43fb-ce49-bc965e680fa2"
   },
   "outputs": [
    {
     "name": "stdout",
     "output_type": "stream",
     "text": [
      "['b', 'i', 'r', 'd', 'l', 'a', 'p', 't', 'o', 'p', 'p', 'u', 'p', 'p', 'y', 'h', 'o', 'u', 's', 'e', 's', 'e', 'e', 'd', 'P', 'y', 't', 'h', 'o', 'n']\n"
     ]
    }
   ],
   "source": [
    "letters_2 = [letter for w in words for letter in w]\n",
    "print(letters_2)"
   ]
  },
  {
   "cell_type": "markdown",
   "metadata": {
    "colab_type": "text",
    "id": "Blar0BAVl6uH"
   },
   "source": [
    "Bonus way to get the same output:"
   ]
  },
  {
   "cell_type": "code",
   "execution_count": 39,
   "metadata": {
    "colab": {
     "base_uri": "https://localhost:8080/",
     "height": 34
    },
    "colab_type": "code",
    "id": "qrVawT89l6uI",
    "outputId": "eda599b1-a88c-49d5-ea94-7ecda89bbec2",
    "scrolled": true
   },
   "outputs": [
    {
     "name": "stdout",
     "output_type": "stream",
     "text": [
      "['b', 'i', 'r', 'd', 'l', 'a', 'p', 't', 'o', 'p', 'p', 'u', 'p', 'p', 'y', 'h', 'o', 'u', 's', 'e', 's', 'e', 'e', 'd', 'P', 'y', 't', 'h', 'o', 'n']\n"
     ]
    }
   ],
   "source": [
    "letters_3 = list(\"\".join(words))\n",
    "print(letters_3)"
   ]
  },
  {
   "cell_type": "code",
   "execution_count": 40,
   "metadata": {
    "colab": {
     "base_uri": "https://localhost:8080/",
     "height": 34
    },
    "colab_type": "code",
    "id": "NnPyh1rGtEF1",
    "outputId": "85245b56-8b1c-46b5-f2f0-6a6f0ab11073"
   },
   "outputs": [
    {
     "name": "stdout",
     "output_type": "stream",
     "text": [
      "['h', 'e', 'l', 'l', 'o', 'w', 'o', 'r', 'l', 'd']\n"
     ]
    }
   ],
   "source": [
    "words=[\"hello\",\"world\"]\n",
    "print(list(\"\".join(words)))"
   ]
  },
  {
   "cell_type": "markdown",
   "metadata": {
    "colab_type": "text",
    "id": "24t7QxU5l6uL"
   },
   "source": [
    "## Dictionaries\n",
    "\n",
    "So far we know one way to uniquely identify an item within an object: _by index_. In order to be able to access something by index, objects need to be ordered.\n",
    "\n",
    "When the objects are not ordered, we can uniquely identify the values by their name, or _by key_. **Dictionary** is a data type (`dict`) that accociates every _value_ with its _key_.\n",
    "\n",
    "    dictionary = {key_1:value_1, key_2:value_2, ..., key_n:value_n}\n",
    "    \n",
    "### Requirements for keys and values\n",
    "\n",
    "The **keys** must be unique (of course, because they are used _instead_ of indicies). The data type of the key must be _immutable_. **Immutable** objects cannot be modified directly after they are created. Remember how difficult it is to modify a string and how easy it is to modify a list? Strings are _immutable objects_, and lists are _mutable_.\n",
    "\n",
    "The **values** can be anything, and they can be repeated as well."
   ]
  },
  {
   "cell_type": "code",
   "execution_count": 41,
   "metadata": {
    "colab": {
     "base_uri": "https://localhost:8080/",
     "height": 34
    },
    "colab_type": "code",
    "id": "7vm7qkEDl6uM",
    "outputId": "fbf737a7-88b2-40b7-d344-b6eb5b81b0d4"
   },
   "outputs": [
    {
     "name": "stdout",
     "output_type": "stream",
     "text": [
      "{48.2: 'hello', 3.0: 'world'}\n"
     ]
    }
   ],
   "source": [
    "int_keys = {37: \"hello\", 9: \"world\"}\n",
    "float_keys = {48.2: \"hello\", 3.0: \"world\"}\n",
    "string_keys = {\"hello\": \"world\", \"goodbye\": \"earth\"}\n",
    "bool_keys = {True: \"hello\", False: \"world\"}\n",
    "print(float_keys)"
   ]
  },
  {
   "cell_type": "markdown",
   "metadata": {
    "colab_type": "text",
    "id": "xLHxvhTml6uO"
   },
   "source": [
    "However, lists are mutable, and therefore they cannot be used as keys. (Mutable objects are _unhashable_, or \"changeable\".)"
   ]
  },
  {
   "cell_type": "code",
   "execution_count": 0,
   "metadata": {
    "colab": {
     "base_uri": "https://localhost:8080/",
     "height": 168
    },
    "colab_type": "code",
    "id": "hTeFrjvDl6uP",
    "outputId": "c3cf9ddb-c3a8-44bc-adb0-72b9720f9422"
   },
   "outputs": [
    {
     "ename": "TypeError",
     "evalue": "ignored",
     "output_type": "error",
     "traceback": [
      "\u001b[0;31m---------------------------------------------------------------------------\u001b[0m",
      "\u001b[0;31mTypeError\u001b[0m                                 Traceback (most recent call last)",
      "\u001b[0;32m<ipython-input-47-120b23818804>\u001b[0m in \u001b[0;36m<module>\u001b[0;34m()\u001b[0m\n\u001b[0;32m----> 1\u001b[0;31m \u001b[0mlist_keys\u001b[0m \u001b[0;34m=\u001b[0m \u001b[0;34m{\u001b[0m\u001b[0;34m[\u001b[0m\u001b[0;36m1\u001b[0m\u001b[0;34m,\u001b[0m \u001b[0;36m2\u001b[0m\u001b[0;34m]\u001b[0m\u001b[0;34m:\u001b[0m \u001b[0;34m\"Hello\"\u001b[0m\u001b[0;34m}\u001b[0m\u001b[0;34m\u001b[0m\u001b[0;34m\u001b[0m\u001b[0m\n\u001b[0m",
      "\u001b[0;31mTypeError\u001b[0m: unhashable type: 'list'"
     ]
    }
   ],
   "source": [
    "list_keys = {[1, 2]: \"Hello\"}"
   ]
  },
  {
   "cell_type": "markdown",
   "metadata": {
    "colab_type": "text",
    "id": "GOw046fhl6uR"
   },
   "source": [
    "As we learned earlier, keys must be _unique_. If several different dictionary items are defined with the same key, only the item that was mentioned the last will be included in the dictionary."
   ]
  },
  {
   "cell_type": "code",
   "execution_count": 0,
   "metadata": {
    "colab": {
     "base_uri": "https://localhost:8080/",
     "height": 34
    },
    "colab_type": "code",
    "id": "TYrwQEVSl6uR",
    "outputId": "b1de54b6-a0d4-4c30-9d5d-2b5594f89d89"
   },
   "outputs": [
    {
     "name": "stdout",
     "output_type": "stream",
     "text": [
      "{42: 'again', 0: 'world'}\n"
     ]
    }
   ],
   "source": [
    "int_keys = {42: \"hello\", 0: \"world\", 42: \"again\"}\n",
    "print(int_keys)"
   ]
  },
  {
   "cell_type": "markdown",
   "metadata": {
    "colab_type": "text",
    "id": "Brgp_7iEl6uT"
   },
   "source": [
    "**Queston:** what is the maximal size of a dictionary where all the keys are of the type `bool`?"
   ]
  },
  {
   "cell_type": "markdown",
   "metadata": {
    "colab_type": "text",
    "id": "ATJ0lVX0l6uT"
   },
   "source": [
    "**Dictionary with ISO 639 language codes**\n",
    "\n",
    "For example, consider the following dictionary with some of the [ISO 639](https://en.wikipedia.org/wiki/List_of_ISO_639-1_codes) codes of languages."
   ]
  },
  {
   "cell_type": "code",
   "execution_count": 0,
   "metadata": {
    "colab": {},
    "colab_type": "code",
    "id": "xVFD6be9l6uU"
   },
   "outputs": [],
   "source": [
    "iso_639 = {'ny': ['Chichewa', 'Chewa', 'Nyanja'], \n",
    "           'zh': ['Chinese'], \n",
    "           'cs': ['Czech'], \n",
    "           'da': ['Danish'], \n",
    "           'dv': ['Divehi', 'Maldivian']}"
   ]
  },
  {
   "cell_type": "markdown",
   "metadata": {
    "colab_type": "text",
    "id": "Hj0ZxL5Wl6uW"
   },
   "source": [
    "Values can be accessed by keys in the same way as we were accessing them by indecies before:"
   ]
  },
  {
   "cell_type": "code",
   "execution_count": 0,
   "metadata": {
    "colab": {
     "base_uri": "https://localhost:8080/",
     "height": 85
    },
    "colab_type": "code",
    "id": "BuSnksC0l6uX",
    "outputId": "00a7b43b-2b21-4e94-fa0b-b23f9cb59a92"
   },
   "outputs": [
    {
     "name": "stdout",
     "output_type": "stream",
     "text": [
      "The value of \"ny\" is ['Chichewa', 'Chewa', 'Nyanja']\n",
      "The value of \"da\" is ['Danish'] \n",
      "\n",
      "Chewa\n"
     ]
    }
   ],
   "source": [
    "print(\"The value of \\\"ny\\\" is\", iso_639[\"ny\"])\n",
    "print(\"The value of \\\"da\\\" is\", iso_639[\"da\"],\"\\n\")\n",
    "\n",
    "print(iso_639[\"ny\"][1])"
   ]
  },
  {
   "cell_type": "code",
   "execution_count": 0,
   "metadata": {
    "colab": {},
    "colab_type": "code",
    "id": "kZdpAHiZ1hbA"
   },
   "outputs": [],
   "source": []
  },
  {
   "cell_type": "markdown",
   "metadata": {
    "colab_type": "text",
    "id": "W1raLQCBl6uZ"
   },
   "source": [
    "**Question.** How to access the string \"Catalan\"?\n",
    "\n",
    "Adding a new item to the dictionary is extremely easy.\n",
    "    \n",
    "    dictionary[new_key] = new_value"
   ]
  },
  {
   "cell_type": "code",
   "execution_count": 0,
   "metadata": {
    "colab": {
     "base_uri": "https://localhost:8080/",
     "height": 34
    },
    "colab_type": "code",
    "id": "juoBuD-Al6uZ",
    "outputId": "e65e3628-dacd-4331-e428-7ee1fe3f20d1"
   },
   "outputs": [
    {
     "name": "stdout",
     "output_type": "stream",
     "text": [
      "{'ny': ['Chichewa', 'Chewa', 'Nyanja'], 'zh': ['Chinese'], 'cs': ['Czech'], 'da': ['Danish'], 'dv': ['Divehi', 'Maldivian'], 'ru': ['Russian']}\n"
     ]
    }
   ],
   "source": [
    "iso_639[\"ru\"] = [\"Russian\"]\n",
    "print(iso_639)"
   ]
  },
  {
   "cell_type": "code",
   "execution_count": 43,
   "metadata": {
    "colab": {
     "base_uri": "https://localhost:8080/",
     "height": 34
    },
    "colab_type": "code",
    "id": "NrAqg2vNqo9T",
    "outputId": "de4c0b77-f668-4b35-99b4-c203b038bdc0"
   },
   "outputs": [
    {
     "name": "stdout",
     "output_type": "stream",
     "text": [
      "{'ny': ['Chichewa', 'Chewa', 'Nyanja'], 'zh': ['Chinese'], 'cs': ['Czech'], 'da': ['Danish'], 'dv': ['Divehi', 'Maldivian'], 'ab': ['ABC']}\n"
     ]
    }
   ],
   "source": [
    "iso_639[\"ab\"]=[\"ABC\"]\n",
    "print(iso_639)"
   ]
  },
  {
   "cell_type": "markdown",
   "metadata": {
    "colab_type": "text",
    "id": "U28fPd5Wl6ud"
   },
   "source": [
    "### Iterating over dictionaries\n",
    "\n",
    "One thing to be beware of is that iterating over the dictionary actually iterates over the keys."
   ]
  },
  {
   "cell_type": "code",
   "execution_count": 0,
   "metadata": {
    "colab": {
     "base_uri": "https://localhost:8080/",
     "height": 34
    },
    "colab_type": "code",
    "id": "3XXOzagMl6ue",
    "outputId": "466db3e7-c945-4f45-cce9-bea8c052ac2a"
   },
   "outputs": [
    {
     "name": "stdout",
     "output_type": "stream",
     "text": [
      "ny zh cs da dv ru "
     ]
    }
   ],
   "source": [
    "for language in iso_639:\n",
    "    print(language, end=\" \")"
   ]
  },
  {
   "cell_type": "markdown",
   "metadata": {
    "colab_type": "text",
    "id": "xJuS6wSFl6uf"
   },
   "source": [
    "**Practice.** Modify a for loop that produces the following output:\n",
    "\n",
    "    ny -> ['Chichewa', 'Chewa', 'Nyanja']\n",
    "    zh -> ['Chinese']\n",
    "    cs -> ['Czech']\n",
    "    da -> ['Danish']\n",
    "    dv -> ['Divehi', 'Maldivian']\n",
    "    ru -> ['Russian']"
   ]
  },
  {
   "cell_type": "code",
   "execution_count": 45,
   "metadata": {
    "colab": {
     "base_uri": "https://localhost:8080/",
     "height": 119
    },
    "colab_type": "code",
    "id": "CcmAMNJYl6ug",
    "outputId": "66a65f9f-70b9-4473-d772-cced32046bfd"
   },
   "outputs": [
    {
     "name": "stdout",
     "output_type": "stream",
     "text": [
      "ny -> ['Chichewa', 'Chewa', 'Nyanja']\n",
      "zh -> ['Chinese']\n",
      "cs -> ['Czech']\n",
      "da -> ['Danish']\n",
      "dv -> ['Divehi', 'Maldivian']\n",
      "ab -> ['ABC']\n"
     ]
    }
   ],
   "source": [
    "for language in iso_639:\n",
    "    print(language,\"->\",iso_639[language])"
   ]
  },
  {
   "cell_type": "markdown",
   "metadata": {
    "colab_type": "text",
    "id": "gOVevigOl6ui"
   },
   "source": [
    "One way to iterate over the `key:value` pairs is to apply `.items()` method to the dictionary. It turns the key and the value into a _tuple_. (Remember `zip` and `enumerate`? Tuples are basically _immutable_ versions of lists.)"
   ]
  },
  {
   "cell_type": "code",
   "execution_count": 46,
   "metadata": {
    "colab": {
     "base_uri": "https://localhost:8080/",
     "height": 425
    },
    "colab_type": "code",
    "id": "opWQlS9Vl6uj",
    "outputId": "0f54d88c-bd4e-443d-a5bf-45fc70c93bbd"
   },
   "outputs": [
    {
     "name": "stdout",
     "output_type": "stream",
     "text": [
      "Pair: ('ny', ['Chichewa', 'Chewa', 'Nyanja'])\n",
      "Key: ny\n",
      "Value: ['Chichewa', 'Chewa', 'Nyanja'] \n",
      "\n",
      "Pair: ('zh', ['Chinese'])\n",
      "Key: zh\n",
      "Value: ['Chinese'] \n",
      "\n",
      "Pair: ('cs', ['Czech'])\n",
      "Key: cs\n",
      "Value: ['Czech'] \n",
      "\n",
      "Pair: ('da', ['Danish'])\n",
      "Key: da\n",
      "Value: ['Danish'] \n",
      "\n",
      "Pair: ('dv', ['Divehi', 'Maldivian'])\n",
      "Key: dv\n",
      "Value: ['Divehi', 'Maldivian'] \n",
      "\n",
      "Pair: ('ab', ['ABC'])\n",
      "Key: ab\n",
      "Value: ['ABC'] \n",
      "\n"
     ]
    }
   ],
   "source": [
    "for pair in iso_639.items():\n",
    "    print(\"Pair:\", pair)\n",
    "    print(\"Key:\", pair[0])\n",
    "    print(\"Value:\", pair[1], \"\\n\")"
   ]
  },
  {
   "cell_type": "markdown",
   "metadata": {
    "colab_type": "text",
    "id": "_jVrxGual6um"
   },
   "source": [
    "### Methods defined for dictionaries\n",
    "\n",
    "I exemplify here the following dictionary methods:\n",
    "  * method `.keys()` returns a collection of keys;\n",
    "  * method `.values()` returns a collection of values;\n",
    "  * method `.clear()` removes all items from a dictionary;\n",
    "  * operator `del` deletes an item by its key.\n",
    "  \n",
    "Click on [this link](https://www.programiz.com/python-programming/methods/dictionary) if you want to learn more.\n",
    "\n",
    "First of all, it is possible to separate a dictionary into independent collections of keys and list of values."
   ]
  },
  {
   "cell_type": "code",
   "execution_count": 0,
   "metadata": {
    "colab": {},
    "colab_type": "code",
    "id": "FJrRY5nTl6un"
   },
   "outputs": [],
   "source": [
    "zip_codes = {\"Stony Brook\": [11733, 11790, 11794],\n",
    "             \"Port Jefferson\": [11777],\n",
    "             \"Lake Grove\": [11755, 11790]\n",
    "            }"
   ]
  },
  {
   "cell_type": "markdown",
   "metadata": {
    "colab_type": "text",
    "id": "RyFblzcLl6up"
   },
   "source": [
    "Method `.keys()` returns a collection of keys from a dictionary, and it can easily be typecasted into a list."
   ]
  },
  {
   "cell_type": "code",
   "execution_count": 0,
   "metadata": {
    "colab": {
     "base_uri": "https://localhost:8080/",
     "height": 51
    },
    "colab_type": "code",
    "id": "bD5S6Te1l6uq",
    "outputId": "0a5cac35-4169-4d23-bfa1-29b42916d5ed"
   },
   "outputs": [
    {
     "name": "stdout",
     "output_type": "stream",
     "text": [
      "Keys:             dict_keys(['Stony Brook', 'Port Jefferson', 'Lake Grove'])\n",
      "Keys (as a list): ['Stony Brook', 'Port Jefferson', 'Lake Grove']\n"
     ]
    }
   ],
   "source": [
    "print(\"Keys:            \", zip_codes.keys())\n",
    "print(\"Keys (as a list):\", list(zip_codes.keys()))"
   ]
  },
  {
   "cell_type": "markdown",
   "metadata": {
    "colab_type": "text",
    "id": "RejPyPyrl6ur"
   },
   "source": [
    "Method `.values()` returns a collection of values, and it also can easily be typecasted into a list."
   ]
  },
  {
   "cell_type": "code",
   "execution_count": 0,
   "metadata": {
    "colab": {
     "base_uri": "https://localhost:8080/",
     "height": 51
    },
    "colab_type": "code",
    "id": "wraeZBiDl6ur",
    "outputId": "aa392c0f-d1d7-45ec-888b-6d8a5330313e"
   },
   "outputs": [
    {
     "name": "stdout",
     "output_type": "stream",
     "text": [
      "Values:             dict_values([[11733, 11790, 11794], [11777], [11755, 11790]])\n",
      "Values (as a list): [[11733, 11790, 11794], [11777], [11755, 11790]]\n"
     ]
    }
   ],
   "source": [
    "print(\"Values:            \", zip_codes.values())\n",
    "print(\"Values (as a list):\", list(zip_codes.values()))"
   ]
  },
  {
   "cell_type": "markdown",
   "metadata": {
    "colab_type": "text",
    "id": "kGkMCYV6l6uu"
   },
   "source": [
    "**Practice 1.** Create a list of keys in `zip_codes` using a list comprehension."
   ]
  },
  {
   "cell_type": "code",
   "execution_count": 49,
   "metadata": {
    "colab": {
     "base_uri": "https://localhost:8080/",
     "height": 185
    },
    "colab_type": "code",
    "id": "CynZ1Xk3l6uu",
    "outputId": "b49d2f0e-da4c-4952-d423-88f13855e1b8"
   },
   "outputs": [
    {
     "ename": "NameError",
     "evalue": "ignored",
     "output_type": "error",
     "traceback": [
      "\u001b[0;31m---------------------------------------------------------------------------\u001b[0m",
      "\u001b[0;31mNameError\u001b[0m                                 Traceback (most recent call last)",
      "\u001b[0;32m<ipython-input-49-76beba47ce45>\u001b[0m in \u001b[0;36m<module>\u001b[0;34m()\u001b[0m\n\u001b[0;32m----> 1\u001b[0;31m \u001b[0mnew_list\u001b[0m\u001b[0;34m=\u001b[0m\u001b[0;34m[\u001b[0m\u001b[0mzip_codes\u001b[0m \u001b[0;32mfor\u001b[0m \u001b[0mkeys\u001b[0m \u001b[0;32min\u001b[0m \u001b[0mzip_codes\u001b[0m\u001b[0;34m[\u001b[0m\u001b[0mkeys\u001b[0m\u001b[0;34m]\u001b[0m\u001b[0;34m]\u001b[0m\u001b[0;34m\u001b[0m\u001b[0;34m\u001b[0m\u001b[0m\n\u001b[0m\u001b[1;32m      2\u001b[0m \u001b[0mprint\u001b[0m\u001b[0;34m(\u001b[0m\u001b[0mnew_list\u001b[0m\u001b[0;34m)\u001b[0m\u001b[0;34m\u001b[0m\u001b[0;34m\u001b[0m\u001b[0m\n",
      "\u001b[0;31mNameError\u001b[0m: name 'keys' is not defined"
     ]
    }
   ],
   "source": [
    "new_list=[zip_codes for keys in zip_codes[keys]]\n",
    "print(new_list)\n"
   ]
  },
  {
   "cell_type": "code",
   "execution_count": 50,
   "metadata": {
    "colab": {
     "base_uri": "https://localhost:8080/",
     "height": 34
    },
    "colab_type": "code",
    "id": "h6QImbAt4Rpv",
    "outputId": "23018632-b929-4623-eac5-f322bc506066"
   },
   "outputs": [
    {
     "name": "stdout",
     "output_type": "stream",
     "text": [
      "['Stony Brook', 'Port Jefferson', 'Lake Grove']\n"
     ]
    }
   ],
   "source": [
    "keys_in_zip_codes=[k for k in zip_codes]\n",
    "print(keys_in_zip_codes)"
   ]
  },
  {
   "cell_type": "markdown",
   "metadata": {
    "colab_type": "text",
    "id": "Iup5XDCPl6uy"
   },
   "source": [
    "**Practice 2.** Now create a list of values in `zip_codes` using a list comprehension."
   ]
  },
  {
   "cell_type": "code",
   "execution_count": 51,
   "metadata": {
    "colab": {
     "base_uri": "https://localhost:8080/",
     "height": 34
    },
    "colab_type": "code",
    "id": "-goBE_LBl6uy",
    "outputId": "b5c280d6-0bb9-4c5c-a405-c70db02e4794"
   },
   "outputs": [
    {
     "name": "stdout",
     "output_type": "stream",
     "text": [
      "[[11733, 11790, 11794], [11777], [11755, 11790]]\n"
     ]
    }
   ],
   "source": [
    "values_in_zip_codes=[zip_codes[k] for k in zip_codes]\n",
    "print(values_in_zip_codes)"
   ]
  },
  {
   "cell_type": "markdown",
   "metadata": {
    "colab_type": "text",
    "id": "QrrB1WZgl6uz"
   },
   "source": [
    "The operator `del` removes an item from a dictionary. When we were looking at the list methods, we saw the `del` deletes an item by its index. Dictionary items do not have indecies, but they have keys, so `del` deletes an object from a dictionary _by key_."
   ]
  },
  {
   "cell_type": "code",
   "execution_count": 52,
   "metadata": {
    "colab": {
     "base_uri": "https://localhost:8080/",
     "height": 34
    },
    "colab_type": "code",
    "id": "zYyB0hq4l6u0",
    "outputId": "f36d36db-7fa2-4212-f271-53dc5983e72d"
   },
   "outputs": [
    {
     "name": "stdout",
     "output_type": "stream",
     "text": [
      "{'Port Jefferson': [11777], 'Lake Grove': [11755, 11790]}\n"
     ]
    }
   ],
   "source": [
    "del zip_codes[\"Stony Brook\"]\n",
    "print(zip_codes)"
   ]
  },
  {
   "cell_type": "markdown",
   "metadata": {
    "colab_type": "text",
    "id": "SvKmGu_9l6u1"
   },
   "source": [
    "Finally, method `.clear()` wipes the dictionary:"
   ]
  },
  {
   "cell_type": "code",
   "execution_count": 53,
   "metadata": {
    "colab": {
     "base_uri": "https://localhost:8080/",
     "height": 34
    },
    "colab_type": "code",
    "id": "XQVoTkXGl6u1",
    "outputId": "8a47bb8d-240b-4014-f022-91d9148c4a95",
    "scrolled": true
   },
   "outputs": [
    {
     "name": "stdout",
     "output_type": "stream",
     "text": [
      "{}\n"
     ]
    }
   ],
   "source": [
    "zip_codes.clear()\n",
    "print(zip_codes)"
   ]
  },
  {
   "cell_type": "code",
   "execution_count": 0,
   "metadata": {
    "colab": {},
    "colab_type": "code",
    "id": "Ux3UuJy66ipD"
   },
   "outputs": [],
   "source": []
  },
  {
   "cell_type": "markdown",
   "metadata": {
    "colab_type": "text",
    "id": "GjPKEAV9l6u2"
   },
   "source": [
    "**Example.** We are given lists `fruits` and `prices`."
   ]
  },
  {
   "cell_type": "code",
   "execution_count": 0,
   "metadata": {
    "colab": {},
    "colab_type": "code",
    "id": "yrdZgdNIl6u3"
   },
   "outputs": [],
   "source": [
    "fruits = [\"banana\", \"apple\", \"apple\", \"peach\", \"kiwi\", \"kiwi\", \"kiwi\"]\n",
    "prices = [\"$1.20\", \"$0.87\", \"$0.48\", \"$2.9\", \"$0.93\", \"$1.48\", \"$1.05\"]"
   ]
  },
  {
   "cell_type": "markdown",
   "metadata": {
    "colab_type": "text",
    "id": "6nLeOwjdl6u4"
   },
   "source": [
    "It means that the only observed price of a banana is $\\$1.20$. In different stores, apples cost $\\$0.87$ and $\\$0.48$, and so on. We want to create a dictionary that will store all the prices in the following way:\n",
    "\n",
    "    {'banana': ['$1.20'], 'apple': ['$0.87', '$0.48'], 'peach': ['$2.9'], 'kiwi': ['$0.93', '$1.48', '$1.05']}"
   ]
  },
  {
   "cell_type": "code",
   "execution_count": 0,
   "metadata": {
    "colab": {
     "base_uri": "https://localhost:8080/",
     "height": 34
    },
    "colab_type": "code",
    "id": "hLZCprtFl6u4",
    "outputId": "cc987fae-08a1-4d6b-b4b2-7e0a55e261d2"
   },
   "outputs": [
    {
     "name": "stdout",
     "output_type": "stream",
     "text": [
      "{'banana': ['$1.20'], 'apple': ['$0.87', '$0.48'], 'peach': ['$2.9'], 'kiwi': ['$0.93', '$1.48', '$1.05']}\n"
     ]
    }
   ],
   "source": [
    "fruit_prices = {}\n",
    "for i in range(len(fruits)):\n",
    "    if fruits[i] not in fruit_prices:\n",
    "        fruit_prices[fruits[i]] = [prices[i]]\n",
    "    else:\n",
    "        fruit_prices[fruits[i]].append(prices[i])\n",
    "print(fruit_prices)"
   ]
  },
  {
   "cell_type": "code",
   "execution_count": 0,
   "metadata": {
    "colab": {},
    "colab_type": "code",
    "id": "7xrN2rQ06jvc"
   },
   "outputs": [],
   "source": [
    "fruit_prices=dict "
   ]
  },
  {
   "cell_type": "markdown",
   "metadata": {
    "colab_type": "text",
    "id": "MlMjT6Lbl6u8"
   },
   "source": [
    "**Practice.** An easy way to calculate a sum of all numbers before a certain integer (excluding that integer) is the following one:"
   ]
  },
  {
   "cell_type": "code",
   "execution_count": 0,
   "metadata": {
    "colab": {
     "base_uri": "https://localhost:8080/",
     "height": 51
    },
    "colab_type": "code",
    "id": "HYhDmlF5l6u9",
    "outputId": "b940c402-0191-4109-faf2-758ad3c1ab70"
   },
   "outputs": [
    {
     "name": "stdout",
     "output_type": "stream",
     "text": [
      "1 + 2 + 3 + 4 + 5 + 6 + 7 = 28\n",
      "1 + 2 + 3 + ... + 14 + 15 = 120\n"
     ]
    }
   ],
   "source": [
    "a = 8\n",
    "print(\"1 + 2 + 3 + 4 + 5 + 6 + 7 =\", sum(range(a)))\n",
    "\n",
    "b = 16\n",
    "print(\"1 + 2 + 3 + ... + 14 + 15 =\", sum(range(b)))"
   ]
  },
  {
   "cell_type": "markdown",
   "metadata": {
    "colab_type": "text",
    "id": "_QbYQWK19bo9"
   },
   "source": []
  },
  {
   "cell_type": "markdown",
   "metadata": {
    "colab_type": "text",
    "id": "ZkVDJj90l6vA"
   },
   "source": [
    "Create a dictionary where keys will be natural numbers from $1$ to $10$. For every key $n$, its value is the sum of all numbers from $0$ up to $n-1$.\n",
    "\n",
    "    sums = {1: 0, 2: 1, 3: 3, 4: 6, 5: 10, 6: 15, 7: 21, 8: 28, 9: 36, 10: 45}"
   ]
  },
  {
   "cell_type": "code",
   "execution_count": 0,
   "metadata": {
    "colab": {},
    "colab_type": "code",
    "id": "m0IVlekcl6vA"
   },
   "outputs": [],
   "source": []
  },
  {
   "cell_type": "code",
   "execution_count": 54,
   "metadata": {
    "colab": {
     "base_uri": "https://localhost:8080/",
     "height": 34
    },
    "colab_type": "code",
    "id": "MTiVg_F49_EK",
    "outputId": "17908d72-449a-41e4-a6eb-2535c73eb932"
   },
   "outputs": [
    {
     "name": "stdout",
     "output_type": "stream",
     "text": [
      "{1: 0, 2: 1, 3: 3, 4: 6, 5: 10, 6: 15, 7: 21, 8: 28, 9: 36, 10: 45}\n"
     ]
    }
   ],
   "source": [
    "sums = {}\n",
    "for i in range(1,11):\n",
    "  sums[i]=sum(range(i))\n",
    "print(sums)"
   ]
  },
  {
   "cell_type": "markdown",
   "metadata": {
    "colab_type": "text",
    "id": "5OCQyrHJl6vB"
   },
   "source": [
    "## Advanced section: `map`\n",
    "\n",
    "There is a way to \"map\" every single item of a given iterable to a new value using `map`. \n",
    "    \n",
    "    new_iterable = map(function, old_iterable)\n",
    "    \n",
    "The parameter `function` represents any function such as `len`, `sum`, `range`, or others. `map` creates a _map_ object that can be easily converted to a list. (You can also use a function name that you will define by yourself, and we will learn how to do it soon!)"
   ]
  },
  {
   "cell_type": "code",
   "execution_count": 55,
   "metadata": {
    "colab": {
     "base_uri": "https://localhost:8080/",
     "height": 51
    },
    "colab_type": "code",
    "id": "vTJYoRH7l6vC",
    "outputId": "ec3004ca-d378-49d9-e3d8-f0f6130b4d54"
   },
   "outputs": [
    {
     "name": "stdout",
     "output_type": "stream",
     "text": [
      "Map object: <map object at 0x7f3f00862550>\n",
      "Map object: [5, 5]\n"
     ]
    }
   ],
   "source": [
    "lengths = map(len, words)\n",
    "print(\"Map object:\", lengths)\n",
    "print(\"Map object:\", list(lengths))"
   ]
  },
  {
   "cell_type": "code",
   "execution_count": 0,
   "metadata": {
    "colab": {},
    "colab_type": "code",
    "id": "tKqRdvS__crq"
   },
   "outputs": [],
   "source": []
  },
  {
   "cell_type": "markdown",
   "metadata": {
    "colab_type": "text",
    "id": "WReiznX6l6vD"
   },
   "source": [
    "**A very advanced question:** You are given the `initial_range`."
   ]
  },
  {
   "cell_type": "code",
   "execution_count": 56,
   "metadata": {
    "colab": {
     "base_uri": "https://localhost:8080/",
     "height": 34
    },
    "colab_type": "code",
    "id": "BYhwjWAQl6vD",
    "outputId": "e32d99b4-a8fb-40c8-f20a-ff777f08a2e9"
   },
   "outputs": [
    {
     "name": "stdout",
     "output_type": "stream",
     "text": [
      "[0, 1, 2, 3, 4, 5, 6, 7, 8, 9, 10, 11]\n"
     ]
    }
   ],
   "source": [
    "initial_range = list(range(12))\n",
    "print(initial_range)"
   ]
  },
  {
   "cell_type": "markdown",
   "metadata": {
    "colab_type": "text",
    "id": "fThqAk2Sl6vG"
   },
   "source": [
    "Find a way to create the following list (the shape of the representation doesn't matter):\n",
    "\n",
    "        [[],\n",
    "         [0],\n",
    "         [0, 1],\n",
    "         [0, 1, 2],\n",
    "         [0, 1, 2, 3],\n",
    "         [0, 1, 2, 3, 4],\n",
    "         [0, 1, 2, 3, 4, 5],\n",
    "         [0, 1, 2, 3, 4, 5, 6],\n",
    "         [0, 1, 2, 3, 4, 5, 6, 7],\n",
    "         [0, 1, 2, 3, 4, 5, 6, 7, 8],\n",
    "         [0, 1, 2, 3, 4, 5, 6, 7, 8, 9],\n",
    "         [0, 1, 2, 3, 4, 5, 6, 7, 8, 9, 10]]\n",
    "         \n",
    "You might need to use `map` twice!"
   ]
  },
  {
   "cell_type": "code",
   "execution_count": 57,
   "metadata": {
    "colab": {
     "base_uri": "https://localhost:8080/",
     "height": 54
    },
    "colab_type": "code",
    "id": "noS46NHnl6vG",
    "outputId": "e1b9f1eb-b6b3-43c0-94de-ebe4ea9009ee"
   },
   "outputs": [
    {
     "name": "stdout",
     "output_type": "stream",
     "text": [
      "[[], [0], [0, 1], [0, 1, 2], [0, 1, 2, 3], [0, 1, 2, 3, 4], [0, 1, 2, 3, 4, 5], [0, 1, 2, 3, 4, 5, 6], [0, 1, 2, 3, 4, 5, 6, 7], [0, 1, 2, 3, 4, 5, 6, 7, 8], [0, 1, 2, 3, 4, 5, 6, 7, 8, 9]]\n"
     ]
    }
   ],
   "source": [
    "res=[]\n",
    "for i in range(11):\n",
    "  res.append([j for j in range(i)])\n",
    "print(res)"
   ]
  },
  {
   "cell_type": "markdown",
   "metadata": {
    "colab_type": "text",
    "id": "xoFW9pT4l6vJ"
   },
   "source": [
    "# Homework 5\n",
    "\n",
    "**Due on Sunday, October 6th, 11.59pm**\n",
    "\n",
    "Send your notebook (don't forget to save your solutions!) to <alena.aksenova@stonybrook.edu> with the subject **\\[CompLing1\\] Homework 5**."
   ]
  },
  {
   "cell_type": "markdown",
   "metadata": {
    "colab_type": "text",
    "id": "TT5wD74tl6vK"
   },
   "source": [
    "**Problem 1.** Below you will find several codes that build lists. Rewrite these codes using list comprehensions.\n",
    "\n",
    "**Subproblem A.** No list comprehension:"
   ]
  },
  {
   "cell_type": "code",
   "execution_count": 140,
   "metadata": {
    "colab": {
     "base_uri": "https://localhost:8080/",
     "height": 34
    },
    "colab_type": "code",
    "id": "Xoy64dQ_l6vK",
    "outputId": "8376801c-069f-449a-a0fa-460656743632"
   },
   "outputs": [
    {
     "name": "stdout",
     "output_type": "stream",
     "text": [
      "['UNK', 'UNK', 'UNK', 'UNK']\n"
     ]
    }
   ],
   "source": [
    "words = [\"apple\", \"banana\", \"kiwi\", \"orange\"]\n",
    "masked_words = []\n",
    "\n",
    "for w in words:\n",
    "    masked_words.append(\"UNK\")\n",
    "    \n",
    "print(masked_words)"
   ]
  },
  {
   "cell_type": "markdown",
   "metadata": {
    "colab_type": "text",
    "id": "07jvk_0bl6vN"
   },
   "source": [
    "List comprehension:"
   ]
  },
  {
   "cell_type": "code",
   "execution_count": 141,
   "metadata": {
    "colab": {
     "base_uri": "https://localhost:8080/",
     "height": 34
    },
    "colab_type": "code",
    "id": "WzdacmXG1cTo",
    "outputId": "f6e93e9c-2ba9-4eaf-b236-bd5af550b56a"
   },
   "outputs": [
    {
     "name": "stdout",
     "output_type": "stream",
     "text": [
      "['UNK', 'UNK', 'UNK', 'UNK']\n"
     ]
    }
   ],
   "source": [
    "# your code\n",
    "masked_words=[\"UNK\" for w in words]\n",
    "print(masked_words)"
   ]
  },
  {
   "cell_type": "markdown",
   "metadata": {
    "colab_type": "text",
    "id": "XkPk_unul6vP"
   },
   "source": [
    "**Subproblem B.** No list comprehension:"
   ]
  },
  {
   "cell_type": "code",
   "execution_count": 143,
   "metadata": {
    "colab": {
     "base_uri": "https://localhost:8080/",
     "height": 34
    },
    "colab_type": "code",
    "id": "qDNSLDrLl6vP",
    "outputId": "e4c1850b-849a-4231-db1d-11ccc8d2a48e"
   },
   "outputs": [
    {
     "name": "stdout",
     "output_type": "stream",
     "text": [
      "['Mary', 'Noam']\n"
     ]
    }
   ],
   "source": [
    "names = [\"andrew\", \"Mary\", \"jimmy\", \"Noam\"]\n",
    "title_names = []\n",
    "\n",
    "for name in names:\n",
    "    if name.istitle():\n",
    "        title_names.append(name)\n",
    "        \n",
    "print(title_names)"
   ]
  },
  {
   "cell_type": "markdown",
   "metadata": {
    "colab_type": "text",
    "id": "zBTvY8Kxl6vQ"
   },
   "source": [
    "List comprehension:"
   ]
  },
  {
   "cell_type": "code",
   "execution_count": 144,
   "metadata": {
    "colab": {
     "base_uri": "https://localhost:8080/",
     "height": 34
    },
    "colab_type": "code",
    "id": "2OIcqMz1l6vR",
    "outputId": "c6a6c1e9-46a2-448f-9050-e2c2a03631b9"
   },
   "outputs": [
    {
     "name": "stdout",
     "output_type": "stream",
     "text": [
      "['Mary', 'Noam']\n"
     ]
    }
   ],
   "source": [
    "# your code\n",
    "title_names=[w for w in names if w.istitle()]\n",
    "print(title_names)"
   ]
  },
  {
   "cell_type": "markdown",
   "metadata": {
    "colab_type": "text",
    "id": "rrcmAaRYl6vS"
   },
   "source": [
    "**Subproblem C.** No list comprehension:"
   ]
  },
  {
   "cell_type": "code",
   "execution_count": 63,
   "metadata": {
    "colab": {
     "base_uri": "https://localhost:8080/",
     "height": 34
    },
    "colab_type": "code",
    "id": "Fhf6Q5P_l6vS",
    "outputId": "5a4f7f0c-edd4-4e9c-ddbd-016a27a11e2d"
   },
   "outputs": [
    {
     "name": "stdout",
     "output_type": "stream",
     "text": [
      "[0, 2, 4, 6, 8, 10, 12, 14, 16, 18, 20, 22, 24, 26, 28]\n"
     ]
    }
   ],
   "source": [
    "numbers = range(30)\n",
    "even = []\n",
    "\n",
    "for i in numbers:\n",
    "    if i % 2 == 0:\n",
    "        even.append(i)\n",
    "        \n",
    "print(even)"
   ]
  },
  {
   "cell_type": "markdown",
   "metadata": {
    "colab_type": "text",
    "id": "97jYLu-Cl6vV"
   },
   "source": [
    "List comprenension:"
   ]
  },
  {
   "cell_type": "code",
   "execution_count": 65,
   "metadata": {
    "colab": {
     "base_uri": "https://localhost:8080/",
     "height": 34
    },
    "colab_type": "code",
    "id": "F8FihUUpl6vV",
    "outputId": "c2c8ce1a-4b9b-4958-9ac6-75f581d7c702"
   },
   "outputs": [
    {
     "name": "stdout",
     "output_type": "stream",
     "text": [
      "[0, 2, 4, 6, 8, 10, 12, 14, 16, 18, 20, 22, 24, 26, 28]\n"
     ]
    }
   ],
   "source": [
    "# your code\n",
    "even=[i for i in numbers if i%2==0]\n",
    "print(even)"
   ]
  },
  {
   "cell_type": "markdown",
   "metadata": {
    "colab_type": "text",
    "id": "Xe3Pnc4ol6vX"
   },
   "source": [
    "**Problem 2.** You are given the following lists: `text` and `words`."
   ]
  },
  {
   "cell_type": "code",
   "execution_count": 0,
   "metadata": {
    "colab": {},
    "colab_type": "code",
    "id": "Is-ZRhtNl6vY"
   },
   "outputs": [],
   "source": [
    "text = ['a', 'infinity', 'reflection', 'with', 'like', 'big', 'briefly', 'into', 'children', 'which', \n",
    "        'fruit', 'picking', 'there', 'try', 'little', 'around', 'appearances', 'appeared', 'all', \n",
    "        'crossed', 'basis', 'improbability', 'their', 'discworld', 'black', 'to', 'death', 'future', \n",
    "        'only', 'my', 'robe', 'things', 'for', 'it', 'existed', 'said', 'sake', 'sometimes', 'right', \n",
    "        'way', 'that', 'country', 'chessboard', 'quoth', 'well', 'domestic', 'skull', 'wonderful', \n",
    "        'hooded', 'or', 'empty', 'bottom', 'mirror', 'himself', 'rather', 'over', 'every', 'triangle', \n",
    "        'roses', 'border', 'orbiting', 'was', 'from', 'show', 'be', 'pecked', 'bones', 'just', 'universe', \n",
    "        'me', 'triangular', 'gets', 'worth', 'have', 'climbed', 'service', 'fluttered', 'top', 'but', \n",
    "        'grey', 'claws', 'at', 'rats', 'creep', 'own', 'pattern', 'point', 'white', 'than', 'dark', \n",
    "        'therefore', 'frame', 'this', 'not', 'the', 'could', 'mind', 'turtle', 'scrabble', 'better', \n",
    "        'industries', 'looked', 'an', 'cherubs', 'life', 'anything', 'more', 'small', 'and', 'of', 'his', \n",
    "        'on', 'skulls', 'elephants', 'in', 'thoughts', 'seen', 'nearest', 'expectantly', 'other', 'side', \n",
    "        'shape', 'total', 'so', 'world', 'look', 'sun']\n",
    "\n",
    "words = [\"shape\", \"lingusitics\", \"every\", \"even\", \"world\", \"chessboard\", \"water\", \"sake\"]"
   ]
  },
  {
   "cell_type": "markdown",
   "metadata": {
    "colab_type": "text",
    "id": "K-Pdbm6ml6vZ"
   },
   "source": [
    "Create a dicionary where words from the list `words` are the keys, and their values are `True` or `False` depending on these words being present in `text` or not. Expected output:\n",
    "    \n",
    "    {'shape': True, 'lingusitics': False, 'every': True, 'even': False, 'world': True, \n",
    "     'chessboard': True, 'water': False, 'sake': True}"
   ]
  },
  {
   "cell_type": "code",
   "execution_count": 147,
   "metadata": {
    "colab": {
     "base_uri": "https://localhost:8080/",
     "height": 34
    },
    "colab_type": "code",
    "id": "wJNeKgP8l6vZ",
    "outputId": "ca220b40-9442-4821-b2de-7d3628d1425d"
   },
   "outputs": [
    {
     "name": "stdout",
     "output_type": "stream",
     "text": [
      "{'shape': True, 'lingusitics': False, 'every': True, 'even': False, 'world': True, 'chessboard': True, 'water': False, 'sake': True}\n"
     ]
    }
   ],
   "source": [
    "#your code\n",
    "new_words={}\n",
    "for i in range(len(words)):\n",
    "  if words[i] in text:\n",
    "    new_words[words[i]]=True\n",
    "  else:\n",
    "    new_words[words[i]]=False\n",
    "print(new_words)"
   ]
  },
  {
   "cell_type": "markdown",
   "metadata": {
    "colab_type": "text",
    "id": "UZ7GJ-odl6va"
   },
   "source": [
    "**Problem 3. (optional)** You are given the following list of numbers:"
   ]
  },
  {
   "cell_type": "code",
   "execution_count": 0,
   "metadata": {
    "colab": {},
    "colab_type": "code",
    "id": "UV9of5Pol6vb"
   },
   "outputs": [],
   "source": [
    "numbers = [1, 2, 3, 4, 5]"
   ]
  },
  {
   "cell_type": "markdown",
   "metadata": {
    "colab_type": "text",
    "id": "Aun5tfC2l6vf"
   },
   "source": [
    "Find a way to get the following output:\n",
    "\n",
    "    [2.0, 1.5, 1.3333333333333333, 1.25]\n",
    "    \n",
    "Notice, that $2 / 1 = 2$, $3 / 2 = 1.5$, and so on. Use a list comprehension if you can."
   ]
  },
  {
   "cell_type": "code",
   "execution_count": 148,
   "metadata": {
    "colab": {
     "base_uri": "https://localhost:8080/",
     "height": 34
    },
    "colab_type": "code",
    "id": "buXfw-t-l6vf",
    "outputId": "002343c1-6eaf-45e1-88eb-00e4cd57e7b3"
   },
   "outputs": [
    {
     "name": "stdout",
     "output_type": "stream",
     "text": [
      "[2.0, 1.5, 1.3333333333333333, 1.25]\n"
     ]
    }
   ],
   "source": [
    "#not with comprehension\n",
    "new_numbers=[]\n",
    "for i in range(0,4):\n",
    "  answer=numbers[i+1]/numbers[i]\n",
    "  new_numbers.append(answer)\n",
    "print(new_numbers)\n",
    "\n",
    "\n",
    "\n",
    "  "
   ]
  },
  {
   "cell_type": "code",
   "execution_count": 151,
   "metadata": {
    "colab": {
     "base_uri": "https://localhost:8080/",
     "height": 34
    },
    "colab_type": "code",
    "id": "bch_PyYvzzzI",
    "outputId": "b277c9f6-98c2-4257-f54a-50779ab8bb68"
   },
   "outputs": [
    {
     "name": "stdout",
     "output_type": "stream",
     "text": [
      "[2.0, 1.5, 1.3333333333333333, 1.25]\n"
     ]
    }
   ],
   "source": [
    "#List comprehension\n",
    "new_numbers=[numbers[i+1]/numbers[i] for i in range(0,4)]\n",
    "print(new_numbers)"
   ]
  }
 ],
 "metadata": {
  "colab": {
   "name": "[CompLing1]HW5_Karina Hu.ipynb",
   "provenance": []
  },
  "kernelspec": {
   "display_name": "Python 3",
   "language": "python",
   "name": "python3"
  },
  "language_info": {
   "codemirror_mode": {
    "name": "ipython",
    "version": 3
   },
   "file_extension": ".py",
   "mimetype": "text/x-python",
   "name": "python",
   "nbconvert_exporter": "python",
   "pygments_lexer": "ipython3",
   "version": "3.8.0"
  }
 },
 "nbformat": 4,
 "nbformat_minor": 1
}
