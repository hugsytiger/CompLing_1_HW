{
 "cells": [
  {
   "cell_type": "markdown",
   "metadata": {
    "colab_type": "text",
    "id": "Gx0-4Zdu-Tzg"
   },
   "source": [
    "<div style=\"text-align: right\">\n",
    "    <i>\n",
    "        LIN 537: Computational Lingusitics 1 <br>\n",
    "        Fall 2019 <br>\n",
    "        Alëna Aksënova\n",
    "    </i>\n",
    "</div>\n",
    "\n",
    "# Notebook 11: finite state automata\n",
    "\n",
    "In this notebook, we will learn a concept of **finite state automata** -- an abstract computational model corresponding in its complexity to regular languages. We will discuss deterministic and non-deterministic versions of these automata, implement it, and learn how to accept or reject a string using it.\n",
    "\n",
    "On the Pythonic side, I will demonstrate how to raise customly defined errors using the `raise` keyword, and how to define the default values of the arguments in functions."
   ]
  },
  {
   "cell_type": "markdown",
   "metadata": {
    "colab_type": "text",
    "id": "mYy756VG-Tzh"
   },
   "source": [
    "## Structure of finite state automata\n",
    "\n",
    "**Finite state automata** are abstract computational models defined by a finite number of states. \n",
    "\n",
    "  * Temperature changes have _infinite number of states:_ it is always possible to potentially observe a temperature increase or decrease to a value that was never observed before;\n",
    "  * The screen of an electronic thermometer has _finite number of states,_ i.e. all the values that that thermometer can measure. For example, medical sub-lingual thermometer can measure values from 90F to 110F (35C to 42C). Given the finite number of digits that its screen can fit, the range of the temperatures expressed by the thermometer is finite.\n",
    "  \n",
    "Finite state automata (FSA) have a finite list of possible **states** in which that machine can be, and these states have **transitions** defined in-between them. For example, we can observe a transition $A\\xrightarrow{\\text{x}}B$.\n",
    "It will mean that it is possible to get from state $A$ to the state $B$ by reading (\"accepting\") an \"x\".\n",
    "One state is **initial**, i.e. reading a string will always start from that state, and there is also a list of **final**, or **accepting** states, meaning that if the final state is activated when we are done reading the string, that string is accepted.\n",
    "If reading the string did not lead to the accepting state, the string is rejected."
   ]
  },
  {
   "cell_type": "markdown",
   "metadata": {
    "colab_type": "text",
    "id": "-8g-RIwr-Tzi"
   },
   "source": [
    "For example, consider the following FSA.\n",
    "\n",
    "<img src=\"images/11_1.png\" width=\"230\">\n",
    "<center>\n",
    "    <i> FSA 1 </i>\n",
    "</center>\n",
    "\n",
    "The states are the circles, and the arrows in-between them denote the possible transitions.\n",
    "\n",
    "  * **States** In this machine, there are two states: $1$ and $2$. Usually states are denoted as $q$, and therefore we can refer to them as $q_1$ and $q_2$.\n",
    "  * **Initial state** The initial state is shown by an arrow pointing to that state, whereas the source of the arrow is not given. In this case, the initial state is $q_1$.\n",
    "  * **Final state** The accepting state is indicated by a bold circle around the state. In this case, the accepting state is also $q_1$. The notation differs, and frequently the final state is denoted by a double circle around the state.\n",
    "  * **Transitions** There are transitions defined between the states $q_1$ and $q_2$. It is possible to get from $q_1$ to $q_2$ by reading \"a\" ($q_1\\xrightarrow{\\text{a}}q_2$), and to go from $q_2$ to $q_1$ by reading \"b\" ($q_2\\xrightarrow{\\text{b}}q_1$)."
   ]
  },
  {
   "cell_type": "markdown",
   "metadata": {
    "colab_type": "text",
    "id": "i984p_f3-Tzj"
   },
   "source": [
    "## Accepting strings with FSAs\n",
    "\n",
    "Finite state automata have transitions between states defined in form of symbols, and therefore a string can be accepted or rejected depending on the state in which it leads within the FSA. In the strings below, I will denote using a vertical bar | what part of the string is currently accepted.\n",
    "\n",
    "**Example 1: abab** \n",
    "\n",
    "  * Step 1. The initial state of the machine above is activated: $q_1$. String: **|**abab.\n",
    "  * Step 2. It is possible to get from $q_1$ to $q_2$ by reading an \"a\", and therefore we can read \"a\" and activate the state $q_2$ instead of $q_1$. String: **a|**bab.\n",
    "  * Step 3. Now we can come back to $q_1$ by reading a \"b\". String: **ab|**ab.\n",
    "  * Step 4. We read another \"a\" and go to $q_2$ again. String: **aba|**b.\n",
    "  * Step 5. We read the final \"b\" and move to $q_1$. The string is now fully processed (**abab|**) and the current state $q_1$ is accepting, and therefore the string \"abab\" is **accepted**.\n",
    "  \n",
    "**Example 2: aba** \n",
    "\n",
    "  * Step 1. The initial state of the machine is activated: $q_1$. String: **|**aba.\n",
    "  * Step 2. We read the initial \"a\" and move to the state $q_2$. String: **a|**ba.\n",
    "  * Step 3. We come back to $q_1$ by reading a \"b\". String: **ab|**a.\n",
    "  * Step 4. We read another \"a\" and go to $q_2$ again. String: **aba|**. The string is fully read, however, $q_2$ is not a final state, therefore the string is **rejected**.\n",
    "  \n",
    "    \n",
    "**Example 3: aabab** \n",
    "\n",
    "  * Step 1. The initial state of the machine is activated: $q_1$. String: **|**aabab.\n",
    "  * Step 2. We read the initial \"a\" and move to $q_2$. String: **a|**abab.\n",
    "  * Step 3. There is no transition reading \"a\" from $q_2$, and therefore the next step is not possible. The string is **rejected**."
   ]
  },
  {
   "cell_type": "markdown",
   "metadata": {
    "colab_type": "text",
    "id": "srQND2yG-Tzk"
   },
   "source": [
    "However, reading symbols does not always lead to _another_ state. Consider the FSA below.\n",
    "\n",
    "<img src=\"images/11_2.png\" width=\"250\">\n",
    "<center>\n",
    "    <i> FSA 2 </i>\n",
    "</center>\n",
    "\n",
    "Here, observing the first \"a\" moves the machine from $q_1$ to $q_2$. However, seeing additional \"a\" will simply leave the same state activated until \"b\" is observed, because the transition $q_2\\xrightarrow{\\text{a}}q_2$ is a **loop**.\n",
    "\n",
    "There can be more than a single accepting state.\n",
    "\n",
    "<img src=\"images/11_3.png\" width=\"235\">\n",
    "<center>\n",
    "    <i> FSA 3 </i>\n",
    "</center>\n",
    "\n",
    "For example, in the machine above, both states $q_1$ and $q_2$ are accepting."
   ]
  },
  {
   "cell_type": "markdown",
   "metadata": {
    "colab_type": "text",
    "id": "gyjBynEX-Tzl"
   },
   "source": [
    "### Deterministic and non-deterministic FSAs\n",
    "\n",
    "So far, there was never a confusion in the machines above about the state in which one moves when observing a certain symbol. Indeed, it was the case because those machines were **deterministic**. In deterministic FSAs (**DFA**), in arcs coming out of a certain state, every symbol can occur only once. For a visualisation, see the figure below.\n",
    "\n",
    "<img src=\"images/11_4.png\" width=\"235\">\n",
    "<center>\n",
    "    <i> Transitions coming out of the state $q_0$ </i>\n",
    "</center>\n",
    "\n",
    "In other words, if arcs reading $a_0$, $a_1$ ... $a_n$ are coming out of the same state, and we know in advance that the FSA is deterministic, all those symbols are different: `a_0 != a_2 != ... != a_n`.\n",
    "\n",
    "For example, the FSA below in **non-deterministic** (**NDFA**).\n",
    "\n",
    "<img src=\"images/11_5.png\" width=\"300\">\n",
    "<center>\n",
    "    <i> FSA 4 </i>\n",
    "</center>\n",
    "\n",
    "**Example: ab**\n",
    "\n",
    "  * Step 1. The initial state $q_1$ is activated. String: **|**ab.\n",
    "  * Step 2. Reading \"a\" moves us to the state $q_2$. String: **a|**b.\n",
    "  * Step 3. Now, there are two transitions that accept \"b\" from the state $q_2$, and therefore **this machine is non-deterministic**.\n",
    "  \n",
    "**Every NDFA can be determinized**, i.e. for every NDFA, there exists a DFA accepting the same set of strings as the original DFA. (You will discuss the procedure of DFA determinization in CompLing 1.)\n",
    "\n",
    "Below there is a DFA corresponding to the NDFA above.\n",
    "\n",
    "<img src=\"images/11_6.png\" width=\"400\">\n",
    "<center>\n",
    "    <i> FSA 5 </i>\n",
    "</center>"
   ]
  },
  {
   "cell_type": "markdown",
   "metadata": {
    "colab_type": "text",
    "id": "fXevbf5c-Tzm"
   },
   "source": [
    "Now, there is no such configuration when the machine can follow different transitions from the same state when reading the same symbol. The machine is now deterministic.\n",
    "\n",
    "**Practice.** Does the following machine accept the same set of strings as the machines above?\n",
    "\n",
    "<img src=\"images/11_7.png\" width=\"370\">\n",
    "<center>\n",
    "    <i> FSA 6 </i>\n",
    "</center>"
   ]
  },
  {
   "cell_type": "markdown",
   "metadata": {
    "colab_type": "text",
    "id": "HkwZzOim-Tzn"
   },
   "source": [
    "### Equivalence of FSA and regex\n",
    "\n",
    "As one can see, every FSA defines a set of strings that it can accept. In the previous notebook, we learned that language is a set of strings that are considered well-formed with respect to some grammar. Therefore, **FSA can be viewed as a grammar** that generates a potentially infinite set of strings that can be accepted by this automaton.\n",
    "\n",
    "Moreover, **the complexity of FSAs and regular expressions is the same**, i.e. for every FSA, there is a regex that describes it, and for every regex, there exists a FSA capable of accepting all strings generated by that regex.\n",
    "\n",
    "  * FSA 1 corresponds to a regular expression $(ab)^{*}$.\n",
    "  * FSA 2 corresponds to $b^{*}(a^{+}b^{+})^{*}$.\n",
    "  * FSA 3 corresponds to $(a^{+}(b))^{*}$.\n",
    "  * FSA 4 and 5 correspond to $(ab)^{*}b^{*}$.\n",
    "  \n",
    "**Practice 1.** What is the regular expression corresponding to FSA 6?\n",
    "\n",
    "**Practice 2.** Draw DFAs corresponding to regular expressions $(a^{+}b^{*}c^{+})^{*}$ and $(a^{*}b^{+}c^{*})^{*}$.\n",
    "What change do we need to implement to accept the langiage of the regular expressions $(a^{+}b^{*}c^{+})^{+}$ and $(a^{*}b^{+}c^{*})^{+}$ instead?"
   ]
  },
  {
   "cell_type": "markdown",
   "metadata": {
    "colab_type": "text",
    "id": "7Hc_KRin-Tzn"
   },
   "source": [
    "## Simple implementation of FSA\n",
    "\n",
    "It is possible to represent a FSA as a set of states, set of finite states, initial state, and a list of transitions defined among them. For example, we can do so using several variables: `states` (list), `final_states` (list), `initial_state` (int, name of the state), `transitions` (list).\n",
    "\n",
    "Let us encode the FSA 1 repeated here below.\n",
    "\n",
    "\n",
    "<img src=\"images/11_1.png\" width=\"230\">\n",
    "<center>\n",
    "    <i> FSA 1 </i>\n",
    "</center>\n",
    "\n",
    "First, let us encode the states."
   ]
  },
  {
   "cell_type": "code",
   "execution_count": 0,
   "metadata": {
    "colab": {},
    "colab_type": "code",
    "id": "nyoEwafw-Tzo"
   },
   "outputs": [],
   "source": [
    "states = [1, 2]\n",
    "final_states = [1]\n",
    "initial = 1"
   ]
  },
  {
   "cell_type": "markdown",
   "metadata": {
    "colab_type": "text",
    "id": "pa6H_Ket-Tzr"
   },
   "source": [
    "Now, let us encode the state. For example, the transition $q_1\\xrightarrow{\\text{a}}q_2$ can be represented as the following list: `[1, \"a\", 2]`."
   ]
  },
  {
   "cell_type": "code",
   "execution_count": 0,
   "metadata": {
    "colab": {},
    "colab_type": "code",
    "id": "zC7gCQwi-Tzs"
   },
   "outputs": [],
   "source": [
    "transitions = [\n",
    "    [1, \"a\", 2],\n",
    "    [2, \"b\", 1]\n",
    "]"
   ]
  },
  {
   "cell_type": "markdown",
   "metadata": {
    "colab_type": "text",
    "id": "P7FqzVUU-Tzv"
   },
   "source": [
    "Alternatively, we can represent this as a dictionary."
   ]
  },
  {
   "cell_type": "code",
   "execution_count": 0,
   "metadata": {
    "colab": {},
    "colab_type": "code",
    "id": "5RUuBzhB-Tzw"
   },
   "outputs": [],
   "source": [
    "fsa = {\"states\":states, \"final_states\":final_states, \"initial\":initial, \"transitions\":transitions}"
   ]
  },
  {
   "cell_type": "markdown",
   "metadata": {
    "colab_type": "text",
    "id": "syU3A-ki-Tzy"
   },
   "source": [
    "Now, let us encode reading a string `abab` and check if it will get accepted (as expected) or rejected."
   ]
  },
  {
   "cell_type": "code",
   "execution_count": 0,
   "metadata": {
    "colab": {},
    "colab_type": "code",
    "id": "ir_CsLH5-Tzz"
   },
   "outputs": [],
   "source": [
    "string = \"abab\""
   ]
  },
  {
   "cell_type": "markdown",
   "metadata": {
    "colab_type": "text",
    "id": "jb9klN4H-Tz1"
   },
   "source": [
    "**Practice.** Now, let us write a function that accepts the string with respect to the given FSA."
   ]
  },
  {
   "cell_type": "code",
   "execution_count": 30,
   "metadata": {
    "colab": {
     "base_uri": "https://localhost:8080/",
     "height": 134
    },
    "colab_type": "code",
    "id": "GGIa3f1H-Tz2",
    "outputId": "792f2db2-8c39-42e1-82b5-b7b1a1b09d9e"
   },
   "outputs": [
    {
     "ename": "IndentationError",
     "evalue": "ignored",
     "output_type": "error",
     "traceback": [
      "\u001b[0;36m  File \u001b[0;32m\"<ipython-input-30-be69a301745e>\"\u001b[0;36m, line \u001b[0;32m16\u001b[0m\n\u001b[0;31m    current_state=fsa[\"initial\"]\u001b[0m\n\u001b[0m    ^\u001b[0m\n\u001b[0;31mIndentationError\u001b[0m\u001b[0;31m:\u001b[0m unexpected indent\n"
     ]
    }
   ],
   "source": [
    "def accept_string(fsa, string):\n",
    "    \"\"\"\n",
    "    A function returning the well-formedness value of the string\n",
    "    with respect to the given FSA.\n",
    "    \n",
    "    Arguments:\n",
    "      * fsa (dict): the encoded FSA;\n",
    "      * string (str): a string that needs to be evaluated.\n",
    "      \n",
    "    Returns:\n",
    "      * bool: the well-formedness value of the string with respect\n",
    "              to the fsa. (Or None if the fsa is discovered to be\n",
    "              non-deterministic.)\n",
    "    \"\"\"\n",
    " #def accept_string(fsa,string):\n",
    "      current_state=fsa[\"initial\"]\n",
    "      for s in string:\n",
    "       poss_trans=[t[2] for t in fsa[\"transitions\"] if t[0]==curent_state and t[1]==s]\n",
    "        if not poss_trans:\n",
    "         return False\n",
    "       if len(poss_trans)>1:\n",
    "         print(\"The machine is non-deterministic\")\n",
    "         return None\n",
    "       current_state=poss_trans[0]\n",
    "      return current_state in fsa[\"final states\"]\n",
    "  "
   ]
  },
  {
   "cell_type": "markdown",
   "metadata": {
    "colab_type": "text",
    "id": "ZXb9m0De-Tz4"
   },
   "source": [
    "Let us test the function in the cell below. We should expect to get the following evaluations:\n",
    "\n",
    "            \"\" True\n",
    "             a False\n",
    "             b False\n",
    "            ab True\n",
    "           aba False\n",
    "           abb False\n",
    "          abab True\n",
    "      abababab True"
   ]
  },
  {
   "cell_type": "code",
   "execution_count": 0,
   "metadata": {
    "colab": {},
    "colab_type": "code",
    "id": "lCvZnvwJ-Tz5"
   },
   "outputs": [],
   "source": [
    "strings = [\"\", \"a\", \"b\", \"ab\", \"aba\", \"abb\", \"abab\", \"abababab\"]\n",
    "# for s in strings:\n",
    "#     print(s.rjust(10), accept_string(fsa, s))"
   ]
  },
  {
   "cell_type": "markdown",
   "metadata": {
    "colab_type": "text",
    "id": "fWeubAGS-Tz8"
   },
   "source": [
    "## Python: raising errors and setting default values of arguments\n",
    "\n",
    "For the other way to implement FSA and the accepting function as a class, we can make use of the following two Python functionalities:\n",
    "\n",
    "  * **Raising errors:** we can raise customly-defined errors if needed;\n",
    "  * **Setting the default values of arguments:** in a function definition, we can provide default values of its arguments.\n",
    "  \n",
    "### Raising errors\n",
    "\n",
    "It is possible to define in the code when the errors need to be raised.\n",
    "For this, we will be using `raise`.\n",
    "\n",
    "The errors can be of very [different types](https://www.tutorialsteacher.com/python/error-types-in-python):\n",
    "  * **IndexError**: an issue is coming from the unexpected indexation, or unavailable index;\n",
    "  * **TypeError**: some operation is applied to an object of a wrong type;\n",
    "  * **ValueError**: an operation is given a value it cannot process, etc.\n",
    "\n",
    "It is up to you to decide which one describes the problem the best."
   ]
  },
  {
   "cell_type": "code",
   "execution_count": 10,
   "metadata": {
    "colab": {
     "base_uri": "https://localhost:8080/",
     "height": 34
    },
    "colab_type": "code",
    "id": "UN4fADv_-Tz9",
    "outputId": "f913083c-7caf-4db3-eb8c-197d550f1c6f"
   },
   "outputs": [
    {
     "name": "stdout",
     "output_type": "stream",
     "text": [
      "200\n"
     ]
    }
   ],
   "source": [
    "number = 2\n",
    "if type(number) == int:\n",
    "    print(number * 100)\n",
    "else:\n",
    "    raise TypeError(\"A number should be an integer!\")"
   ]
  },
  {
   "cell_type": "code",
   "execution_count": 12,
   "metadata": {
    "colab": {
     "base_uri": "https://localhost:8080/",
     "height": 34
    },
    "colab_type": "code",
    "id": "_iylLcyZ-T0A",
    "outputId": "66146ed0-dbd2-4b55-e612-11ff2215cd3c"
   },
   "outputs": [
    {
     "name": "stdout",
     "output_type": "stream",
     "text": [
      "banana\n"
     ]
    }
   ],
   "source": [
    "array = [\"apple\", \"kiwi\", \"banana\"]\n",
    "index = 2\n",
    "\n",
    "if index < len(array):\n",
    "    print(array[index])\n",
    "else:\n",
    "    raise IndexError(\"An item with this index does not exist.\")"
   ]
  },
  {
   "cell_type": "markdown",
   "metadata": {
    "colab_type": "text",
    "id": "qlLKi9_Y-T0G"
   },
   "source": [
    "### Default value of arguments\n",
    "\n",
    "When we are defining a function, we can also define a default value of its arguments in the following way:\n",
    "\n",
    "    def function_name(arg = default_value):\n",
    "        # body of the function\n",
    "        \n",
    "If the default value of the argument is given, that argument is optional when calling the function."
   ]
  },
  {
   "cell_type": "code",
   "execution_count": 14,
   "metadata": {
    "colab": {
     "base_uri": "https://localhost:8080/",
     "height": 51
    },
    "colab_type": "code",
    "id": "MkJRbz3p-T0H",
    "outputId": "17014398-3189-48ff-f746-977657893e84"
   },
   "outputs": [
    {
     "name": "stdout",
     "output_type": "stream",
     "text": [
      "5 ---> 25\n",
      "? ---> 100\n"
     ]
    }
   ],
   "source": [
    "def square(number = 10):\n",
    "    return number ** 2\n",
    "\n",
    "print(5, \"--->\", square(5))\n",
    "print(\"? --->\", square())"
   ]
  },
  {
   "cell_type": "markdown",
   "metadata": {
    "colab_type": "text",
    "id": "ju8wI3Ni-T0J"
   },
   "source": [
    "Some arguments can be optional, and some of them can have default values provided."
   ]
  },
  {
   "cell_type": "code",
   "execution_count": 16,
   "metadata": {
    "colab": {
     "base_uri": "https://localhost:8080/",
     "height": 51
    },
    "colab_type": "code",
    "id": "Ef4Wckfg-T0K",
    "outputId": "b681ff9a-5462-46e0-89b5-2de862279648"
   },
   "outputs": [
    {
     "name": "stdout",
     "output_type": "stream",
     "text": [
      "5 ** 3 = 125\n",
      "5 ** ? = 25\n"
     ]
    }
   ],
   "source": [
    "def power(number, p = 2):\n",
    "    return number ** p\n",
    "\n",
    "print(\"5 ** 3 =\", power(5, 3))\n",
    "print(\"5 ** ? =\", power(5))"
   ]
  },
  {
   "cell_type": "markdown",
   "metadata": {
    "colab_type": "text",
    "id": "yeNyZBQ5-T0M"
   },
   "source": [
    "**First all obligatory arguments need to be listed, and only after those the ones that have their default values specified.**"
   ]
  },
  {
   "cell_type": "code",
   "execution_count": 17,
   "metadata": {
    "colab": {
     "base_uri": "https://localhost:8080/",
     "height": 134
    },
    "colab_type": "code",
    "id": "ZLrIoFFL-T0N",
    "outputId": "e2e9c3a7-2d4b-4389-be18-507b9b7fdd50"
   },
   "outputs": [
    {
     "ename": "SyntaxError",
     "evalue": "ignored",
     "output_type": "error",
     "traceback": [
      "\u001b[0;36m  File \u001b[0;32m\"<ipython-input-17-70a2940adfe6>\"\u001b[0;36m, line \u001b[0;32m1\u001b[0m\n\u001b[0;31m    def power(p = 2, number):\u001b[0m\n\u001b[0m             ^\u001b[0m\n\u001b[0;31mSyntaxError\u001b[0m\u001b[0;31m:\u001b[0m non-default argument follows default argument\n"
     ]
    }
   ],
   "source": [
    "# THIS CODE WILL NOT COMPILE\n",
    "def power(p = 2, number):\n",
    "    return number ** p"
   ]
  },
  {
   "cell_type": "markdown",
   "metadata": {
    "colab_type": "text",
    "id": "EAplfqvD-T0Q"
   },
   "source": [
    "## Alternative FSA implementation\n",
    "\n",
    "Consider the following class implementing FSAs and the `evaluate` method.\n",
    "\n",
    "The class is defined via the following four attributes: `states`, `initial`, `final`, `transitions`.\n",
    "\n",
    "The method `evaluate` relies on the `string` that needs to be evaluated, but also recursively keeps track of the current state that is activated in the machine at a certain time (`state`), and also remembers the current position of string that is being read (`index`)."
   ]
  },
  {
   "cell_type": "code",
   "execution_count": 0,
   "metadata": {
    "colab": {},
    "colab_type": "code",
    "id": "GzNhBAiq-T0R"
   },
   "outputs": [],
   "source": [
    "class FSA(object):\n",
    "    \"\"\" A class implementing finite state acceptors (FSAs). \"\"\"\n",
    "    \n",
    "    def __init__(self, states, initial, final, transitions):\n",
    "        \"\"\" Initializes attributes of FSA. \"\"\"\n",
    "        self.states = states\n",
    "        self.initial = initial\n",
    "        self.final = final\n",
    "        self.transitions = transitions\n",
    "        \n",
    "    def evaluate(self, string, state = None, index = 0):\n",
    "        \"\"\"\n",
    "        Evaluates `string` with respect to the rules of the given fsa.\n",
    "        \n",
    "        Arguments:\n",
    "          * string (str): a string that needs to be evaluated;\n",
    "          * state (int=self.initial): the current state of the fsa;\n",
    "          * index (int=0): the current index in the string.\n",
    "        \"\"\"\n",
    "        \n",
    "        # the default values cannot be initialized to the attributes\n",
    "        # of the same class\n",
    "        if state is None:\n",
    "            state = self.initial\n",
    "        \n",
    "        # if we read the whole string and now we are in the final \n",
    "        # state, this string needs to be accepted\n",
    "        if index == len(string) and state in self.final:\n",
    "            return True\n",
    "        # if we finished in a non-final state, reject the string\n",
    "        elif index == len(string):\n",
    "            return False\n",
    "        \n",
    "        # collect a list of possible next states\n",
    "        next_states = [t[2] for t in self.transitions if t[0] == state and string[index] == t[1]]\n",
    "        \n",
    "        # if no such state detected, we cannot read the symbol\n",
    "        if not next_states:\n",
    "            return False\n",
    "        # if there are multiple states like this, the machine\n",
    "        # is non-deterministic, we'll raise an error\n",
    "        elif len(next_states) > 1:\n",
    "            raise TypeError(\"The provided FSA is non-deterministic.\")\n",
    "            \n",
    "        # move on to the next index having the next state as \n",
    "        # the new current state\n",
    "        return self.evaluate(string, next_states[0], index + 1)"
   ]
  },
  {
   "cell_type": "markdown",
   "metadata": {
    "colab_type": "text",
    "id": "83NLmuz2-T0T"
   },
   "source": [
    "Now, let us define a FSA for a language $(ab)^{*}$ and test its performance."
   ]
  },
  {
   "cell_type": "code",
   "execution_count": 47,
   "metadata": {
    "colab": {
     "base_uri": "https://localhost:8080/",
     "height": 153
    },
    "colab_type": "code",
    "id": "ZyzWmXpe-T0U",
    "outputId": "fc93a291-baca-436b-c74a-de9c0c16c8d4"
   },
   "outputs": [
    {
     "name": "stdout",
     "output_type": "stream",
     "text": [
      "           True\n",
      "         a False\n",
      "         b False\n",
      "        ab True\n",
      "       aba False\n",
      "       abb False\n",
      "      abab True\n",
      "  abababab True\n"
     ]
    }
   ],
   "source": [
    "states = [1, 2]\n",
    "final = [1]\n",
    "initial = 1\n",
    "transitions = [[1, \"a\", 2], [2, \"b\", 1]]\n",
    "\n",
    "fsa = FSA(states, initial, final, transitions)\n",
    "\n",
    "strings_to_test = [\"\", \"a\", \"b\", \"ab\", \"aba\", \"abb\", \"abab\", \"abababab\"]\n",
    "for s in strings:\n",
    "    print(s.rjust(10), fsa.evaluate(s))"
   ]
  },
  {
   "cell_type": "markdown",
   "metadata": {
    "colab_type": "text",
    "id": "r8YWeHfs-T0W"
   },
   "source": [
    "**Practice.** Initialize an object of the class FSA encoding the regular expression $(a^{+}b^{+}a^{+})^{*}$."
   ]
  },
  {
   "cell_type": "code",
   "execution_count": 49,
   "metadata": {
    "colab": {
     "base_uri": "https://localhost:8080/",
     "height": 136
    },
    "colab_type": "code",
    "id": "rzUvikru-T0X",
    "outputId": "f7b78fc9-ebd2-49f6-e596-30202a98c955"
   },
   "outputs": [
    {
     "name": "stdout",
     "output_type": "stream",
     "text": [
      "        aa False\n",
      "       aba True\n",
      "   abaaaab False\n",
      "aaababbbababbbbabba True\n",
      "     abbbb False\n",
      "      bbba False\n",
      "           True\n"
     ]
    }
   ],
   "source": [
    "states=[0,1,2,3]\n",
    "final=[0,3]\n",
    "initial=0\n",
    "transitions=[[0,\"a\",1],[1,\"a\",1],[1,\"b\",2],[2,\"b\",2],[2,\"a\",3],[3,\"a\",3],[3,\"b\",2]]\n",
    "fsa = FSA(states, initial, final, transitions)\n",
    "strings_to_test = [\"aa\", \"aba\", \"abaaaab\", \"aaababbbababbbbabba\", \"abbbb\", \"bbba\", \"\"]\n",
    "for s in strings_to_test:\n",
    "    print(s.rjust(10), fsa.evaluate(s))\n"
   ]
  },
  {
   "cell_type": "markdown",
   "metadata": {
    "colab_type": "text",
    "id": "Dav5pxMj-T0a"
   },
   "source": [
    "Test it using the strings listed in `strings_to_test`. Expect the following output:\n",
    "\n",
    "                     aa False\n",
    "                    aba True\n",
    "                abaaaab False\n",
    "    aaababbbababbbbabba True\n",
    "                  abbbb False\n",
    "                   bbba False\n",
    "                     \"\" True"
   ]
  },
  {
   "cell_type": "code",
   "execution_count": 0,
   "metadata": {
    "colab": {},
    "colab_type": "code",
    "id": "zWge0C-T-T0a"
   },
   "outputs": [],
   "source": [
    "strings_to_test = [\"aa\", \"aba\", \"abaaaab\", \"aaababbbababbbbabba\", \"abbbb\", \"bbba\", \"\"]\n",
    "\n",
    "# test your code here"
   ]
  },
  {
   "cell_type": "markdown",
   "metadata": {
    "colab_type": "text",
    "id": "GeS2Cno1-T0g"
   },
   "source": [
    "# Homework 11\n",
    "\n",
    "**Due on Thursday, November 14th, 11.59pm**\n",
    "\n",
    "Send your notebook (don't forget to save your solutions!) to <alena.aksenova@stonybrook.edu> with the subject **\\[CompLing1\\] Homework 11**.\n",
    "\n",
    "**Question.** Instantiate the FSA object encoding the following regular expression:  $(a^{+}b^{+})^{*}$."
   ]
  },
  {
   "cell_type": "code",
   "execution_count": 0,
   "metadata": {
    "colab": {},
    "colab_type": "code",
    "id": "GXYEFnii-T0h"
   },
   "outputs": [],
   "source": []
  },
  {
   "cell_type": "markdown",
   "metadata": {
    "colab_type": "text",
    "id": "Rr8J1ql1-T0j"
   },
   "source": [
    "Test the performance of the FSA given the following list of strings. Expect the following output:\n",
    "\n",
    "       \"\" True\n",
    "        a False\n",
    "        b False\n",
    "       ab True\n",
    "      aba False\n",
    "      abb True\n",
    "     abab True\n",
    "    ababb True\n",
    "    babab False\n",
    "     abbb True\n",
    "    abbba False"
   ]
  },
  {
   "cell_type": "code",
   "execution_count": 58,
   "metadata": {
    "colab": {
     "base_uri": "https://localhost:8080/",
     "height": 204
    },
    "colab_type": "code",
    "id": "XC3gduLU-T0j",
    "outputId": "bc7c7ec3-7075-4a73-86e3-0a0eec673ae4"
   },
   "outputs": [
    {
     "name": "stdout",
     "output_type": "stream",
     "text": [
      "           True\n",
      "         a False\n",
      "         b False\n",
      "        ab True\n",
      "       aba False\n",
      "       abb True\n",
      "      abab True\n",
      "     ababb True\n",
      "     babab False\n",
      "      abbb True\n",
      "     abbba False\n"
     ]
    }
   ],
   "source": [
    "strings_to_test = [\"\", \"a\", \"b\", \"ab\", \"aba\", \"abb\", \"abab\", \"ababb\", \"babab\", \"abbb\", \"abbba\"]\n",
    "\n",
    "# test your code here\n",
    "states=[0,1,2]\n",
    "final=[0,2]\n",
    "initial=0\n",
    "transtitions=[[0,\"a\",1],[1,\"a\",1],[1,\"b\",2],[2,\"b\",2],[2,\"a\",1]]\n",
    "fsa=FSA(states,initial,final,transitions)\n",
    "strings_to_test=[\"\", \"a\", \"b\", \"ab\", \"aba\", \"abb\", \"abab\", \"ababb\", \"babab\", \"abbb\", \"abbba\"]\n",
    "for s in strings_to_test:\n",
    "  print(s.rjust(10),fsa.evaluate(s))"
   ]
  }
 ],
 "metadata": {
  "colab": {
   "name": "[CompLing1] Homework11.ipynb",
   "provenance": []
  },
  "kernelspec": {
   "display_name": "Python 3",
   "language": "python",
   "name": "python3"
  },
  "language_info": {
   "codemirror_mode": {
    "name": "ipython",
    "version": 3
   },
   "file_extension": ".py",
   "mimetype": "text/x-python",
   "name": "python",
   "nbconvert_exporter": "python",
   "pygments_lexer": "ipython3",
   "version": "3.8.0"
  }
 },
 "nbformat": 4,
 "nbformat_minor": 1
}
