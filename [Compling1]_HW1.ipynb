{
 "cells": [
  {
   "cell_type": "markdown",
   "metadata": {
    "colab_type": "text",
    "id": "7-Pb1icHUegG"
   },
   "source": [
    "<div style=\"text-align: right\">\n",
    "    <i>\n",
    "        LIN 537: Computational Lingusitics 1 <br>\n",
    "        Fall 2019 <br>\n",
    "        Alëna Aksënova\n",
    "    </i>\n",
    "</div>\n",
    "\n",
    "# Notebook 1: Basic IO, variables, boolean expressions\n",
    "\n",
    "This notebook introduces the basic programming terminology such as *funcitons*, *arguments*, *variables*, *IO* etc. It shows how to implement basic input-output operations using `print` and `input`. Then it explains such fundamental data types as `str`, `int`, `float` and `bool`. Finally, it demonstrates how to create and evaluate Boolean expressions."
   ]
  },
  {
   "cell_type": "code",
   "execution_count": 0,
   "metadata": {
    "colab": {
     "base_uri": "https://localhost:8080/",
     "height": 374
    },
    "colab_type": "code",
    "id": "E8Co1IrQq4sO",
    "outputId": "fe466191-2c3b-4e62-b691-ba1c6239e704"
   },
   "outputs": [
    {
     "name": "stdout",
     "output_type": "stream",
     "text": [
      "The Zen of Python, by Tim Peters\n",
      "\n",
      "Beautiful is better than ugly.\n",
      "Explicit is better than implicit.\n",
      "Simple is better than complex.\n",
      "Complex is better than complicated.\n",
      "Flat is better than nested.\n",
      "Sparse is better than dense.\n",
      "Readability counts.\n",
      "Special cases aren't special enough to break the rules.\n",
      "Although practicality beats purity.\n",
      "Errors should never pass silently.\n",
      "Unless explicitly silenced.\n",
      "In the face of ambiguity, refuse the temptation to guess.\n",
      "There should be one-- and preferably only one --obvious way to do it.\n",
      "Although that way may not be obvious at first unless you're Dutch.\n",
      "Now is better than never.\n",
      "Although never is often better than *right* now.\n",
      "If the implementation is hard to explain, it's a bad idea.\n",
      "If the implementation is easy to explain, it may be a good idea.\n",
      "Namespaces are one honking great idea -- let's do more of those!\n"
     ]
    }
   ],
   "source": [
    "import this\n"
   ]
  },
  {
   "cell_type": "markdown",
   "metadata": {
    "colab_type": "text",
    "id": "wPHEQWXoUegH"
   },
   "source": [
    "## 1. The Jupyter environment\n",
    "\n",
    "In this class we are going to use Jupyter notebooks for coding. They are minimalistic, easy to read, they make it easy to write explanation in Markdown, and it is very convenient to work with the code in separate cells.\n",
    "\n",
    "In order to avoid the hussle of installing Jupyter notebooks locally, we will be using [Colaboratory](https://colab.research.google.com/notebooks/welcome.ipynb) that makes it easy to upload and work with the notebooks."
   ]
  },
  {
   "cell_type": "markdown",
   "metadata": {
    "colab_type": "text",
    "id": "w_eExafPUegI"
   },
   "source": [
    "## 2. Functions and their arguments\n",
    "\n",
    "The notion of functions and arguments is probably not new to you, especially if you took formal semantics classes. Roughly, _John sleeps_ can be expressed as a function `sleep` getting `John` as an argument and therefore yielding `sleep(John)`.\n",
    "\n",
    "In Python, and in programming in general, **functions** can be thought of as descriptions of actions. They always return some value. For example,\n",
    " * function that reverses strings returns another string;\n",
    " * function that adds two numbers together returns their sum;\n",
    " * function that calculates number of symbols in a sentence returns that number.\n",
    " \n",
    "However, sometimes it might seem that a function is not returning anything. Spoiler: it returns something, and this something is *nothing*, or `None`.\n",
    "\n",
    "In order to perform the intended chain of action, a function needs zero or more **arguments**, or objects that are required in advance by that function. For example,\n",
    " * function that reverses strings needs to have 1 argument: a string to reverse;\n",
    " * function that removes first _n_ words from a sentence needs 2 arguments: the number of words to remove, and the sentence itself;\n",
    " * function that prints \"Hello world!\" needs 0 arguments: we know exactly what we are printing.\n",
    "\n",
    "\n",
    "**Question:** what arguments can a function that draws a circle have?\n",
    "\n",
    "The simplest function in Python is `print`. It simply displays on the screen its argument(s):"
   ]
  },
  {
   "cell_type": "code",
   "execution_count": 0,
   "metadata": {
    "colab": {
     "base_uri": "https://localhost:8080/",
     "height": 34
    },
    "colab_type": "code",
    "id": "OdAlBJlkUegI",
    "outputId": "7646b8ff-9677-4413-c4c3-029016647530"
   },
   "outputs": [
    {
     "name": "stdout",
     "output_type": "stream",
     "text": [
      "Hello world!\n"
     ]
    }
   ],
   "source": [
    "print(\"Hello world!\")"
   ]
  },
  {
   "cell_type": "code",
   "execution_count": 0,
   "metadata": {
    "colab": {
     "base_uri": "https://localhost:8080/",
     "height": 34
    },
    "colab_type": "code",
    "id": "cWnT5esmUegL",
    "outputId": "966db276-8f9a-446c-a9d5-46155387d32f"
   },
   "outputs": [
    {
     "name": "stdout",
     "output_type": "stream",
     "text": [
      "Mary John\n"
     ]
    }
   ],
   "source": [
    "print(\"Mary\", \"John\")"
   ]
  },
  {
   "cell_type": "code",
   "execution_count": 0,
   "metadata": {
    "colab": {
     "base_uri": "https://localhost:8080/",
     "height": 34
    },
    "colab_type": "code",
    "id": "sRE_CuohUegN",
    "outputId": "6c07783a-2334-44f4-aa2b-d89f0adfecd0"
   },
   "outputs": [
    {
     "name": "stdout",
     "output_type": "stream",
     "text": [
      "\n"
     ]
    }
   ],
   "source": [
    "print()"
   ]
  },
  {
   "cell_type": "code",
   "execution_count": 0,
   "metadata": {
    "colab": {
     "base_uri": "https://localhost:8080/",
     "height": 34
    },
    "colab_type": "code",
    "id": "OSsLqZKXUegP",
    "outputId": "6fedbabd-6286-47a7-a385-8c1ecbaa077d"
   },
   "outputs": [
    {
     "name": "stdout",
     "output_type": "stream",
     "text": [
      "September 9\n"
     ]
    }
   ],
   "source": [
    "print(\"September\", 9)"
   ]
  },
  {
   "cell_type": "markdown",
   "metadata": {
    "colab_type": "text",
    "id": "bjKrNChFUegR"
   },
   "source": [
    "In simple words, the `print` function simply prints on the screen whatever it has in the parenthesis. But in the previous cell, we see that the two arguments of `print` are colored in different colors. The reason for it that the Python syntax highlighting shows that they belong to _different data types_."
   ]
  },
  {
   "cell_type": "markdown",
   "metadata": {
    "colab_type": "text",
    "id": "jBQOp-NDUegR"
   },
   "source": [
    "## 3. Basic data types: int, float, str, bool\n",
    "\n",
    "We will start exploting Python data types by looking at integers, floats, strings, and booleans.\n",
    "\n",
    "**Integers** (`int`) are numbers without fractional component. For example, `8`, `0`, `-1` and `-9248` are integers, whereas `3.14` or `-1.333` are not. \n",
    "\n",
    "\n",
    "**Floating point numbers** (`float`) are numbers with the fractional component, i.e. `9.8`, `4.3958` or `-8.000001`.  \n",
    "\n",
    "This is a very important distinction, since integers and floating point numbers are stored differently in the memory of the computer. A function that conveniently shows the type of its argument is `type`. Like this, we can ensure that `8` is an integer, whereas `8.5` is not:"
   ]
  },
  {
   "cell_type": "code",
   "execution_count": 0,
   "metadata": {
    "colab": {
     "base_uri": "https://localhost:8080/",
     "height": 34
    },
    "colab_type": "code",
    "id": "d21E4zwMUegS",
    "outputId": "9a8e04fd-a7b9-43ad-d062-257b9c0c8f7f"
   },
   "outputs": [
    {
     "data": {
      "text/plain": [
       "int"
      ]
     },
     "execution_count": 6,
     "metadata": {
      "tags": []
     },
     "output_type": "execute_result"
    }
   ],
   "source": [
    "type(8)"
   ]
  },
  {
   "cell_type": "code",
   "execution_count": 0,
   "metadata": {
    "colab": {
     "base_uri": "https://localhost:8080/",
     "height": 34
    },
    "colab_type": "code",
    "id": "eUBdxNy3UegT",
    "outputId": "376501ad-c592-4d21-d000-17e6eb737913"
   },
   "outputs": [
    {
     "data": {
      "text/plain": [
       "float"
      ]
     },
     "execution_count": 7,
     "metadata": {
      "tags": []
     },
     "output_type": "execute_result"
    }
   ],
   "source": [
    "type(8.5)"
   ]
  },
  {
   "cell_type": "markdown",
   "metadata": {
    "colab_type": "text",
    "id": "HOGfckS3UegV"
   },
   "source": [
    "Note, that when `8` is written as `8.0`, it is a `float` and not an integer!"
   ]
  },
  {
   "cell_type": "code",
   "execution_count": 0,
   "metadata": {
    "colab": {
     "base_uri": "https://localhost:8080/",
     "height": 34
    },
    "colab_type": "code",
    "id": "iRn53vrMUegW",
    "outputId": "bd18a3e7-f4df-4d3c-d0ba-8aa5d4d280e7"
   },
   "outputs": [
    {
     "data": {
      "text/plain": [
       "float"
      ]
     },
     "execution_count": 8,
     "metadata": {
      "tags": []
     },
     "output_type": "execute_result"
    }
   ],
   "source": [
    "type(8.0)"
   ]
  },
  {
   "cell_type": "markdown",
   "metadata": {
    "colab_type": "text",
    "id": "ChdNMKbdUegY"
   },
   "source": [
    "We can perform arithmetic operations with integers and floats."
   ]
  },
  {
   "cell_type": "code",
   "execution_count": 0,
   "metadata": {
    "colab": {
     "base_uri": "https://localhost:8080/",
     "height": 34
    },
    "colab_type": "code",
    "id": "gZvmKhx2UegZ",
    "outputId": "e1ff88e3-e4e5-4215-db7c-16b0d4a10d6b"
   },
   "outputs": [
    {
     "data": {
      "text/plain": [
       "15"
      ]
     },
     "execution_count": 9,
     "metadata": {
      "tags": []
     },
     "output_type": "execute_result"
    }
   ],
   "source": [
    "# addition\n",
    "6 + 9"
   ]
  },
  {
   "cell_type": "code",
   "execution_count": 0,
   "metadata": {
    "colab": {
     "base_uri": "https://localhost:8080/",
     "height": 34
    },
    "colab_type": "code",
    "id": "bLuhu9PrUegd",
    "outputId": "074aa9a6-4f29-4c85-dddf-c85984ee432e"
   },
   "outputs": [
    {
     "data": {
      "text/plain": [
       "98.5"
      ]
     },
     "execution_count": 10,
     "metadata": {
      "tags": []
     },
     "output_type": "execute_result"
    }
   ],
   "source": [
    "# substraction\n",
    "99 - 0.5"
   ]
  },
  {
   "cell_type": "code",
   "execution_count": 0,
   "metadata": {
    "colab": {
     "base_uri": "https://localhost:8080/",
     "height": 34
    },
    "colab_type": "code",
    "id": "7rIXyClmUegg",
    "outputId": "7bd5188c-136c-40d9-8a8a-48937c217042"
   },
   "outputs": [
    {
     "data": {
      "text/plain": [
       "10"
      ]
     },
     "execution_count": 11,
     "metadata": {
      "tags": []
     },
     "output_type": "execute_result"
    }
   ],
   "source": [
    "# multiplication\n",
    "5 * 2"
   ]
  },
  {
   "cell_type": "code",
   "execution_count": 0,
   "metadata": {
    "colab": {
     "base_uri": "https://localhost:8080/",
     "height": 34
    },
    "colab_type": "code",
    "id": "co5kXJPqUegi",
    "outputId": "caa6b9b7-07d8-4e61-8ba2-d49eb33c0efc"
   },
   "outputs": [
    {
     "data": {
      "text/plain": [
       "57.5"
      ]
     },
     "execution_count": 12,
     "metadata": {
      "tags": []
     },
     "output_type": "execute_result"
    }
   ],
   "source": [
    "# division that returns a floating point number (\"classic division\")\n",
    "115 / 2"
   ]
  },
  {
   "cell_type": "code",
   "execution_count": 0,
   "metadata": {
    "colab": {
     "base_uri": "https://localhost:8080/",
     "height": 34
    },
    "colab_type": "code",
    "id": "zzN1HtZDUegk",
    "outputId": "738a95d8-167b-4a15-8669-d92e65758192"
   },
   "outputs": [
    {
     "data": {
      "text/plain": [
       "57"
      ]
     },
     "execution_count": 13,
     "metadata": {
      "tags": []
     },
     "output_type": "execute_result"
    }
   ],
   "source": [
    "# division that rounds down the result to a nearest integer (\"floor division\")\n",
    "115 // 2"
   ]
  },
  {
   "cell_type": "code",
   "execution_count": 0,
   "metadata": {
    "colab": {
     "base_uri": "https://localhost:8080/",
     "height": 34
    },
    "colab_type": "code",
    "id": "LB-byWwHUegm",
    "outputId": "0f1f7f53-8a39-492f-94dc-028c91b6ba23"
   },
   "outputs": [
    {
     "data": {
      "text/plain": [
       "1024"
      ]
     },
     "execution_count": 14,
     "metadata": {
      "tags": []
     },
     "output_type": "execute_result"
    }
   ],
   "source": [
    "# exponentiation\n",
    "2 ** 10"
   ]
  },
  {
   "cell_type": "markdown",
   "metadata": {
    "colab_type": "text",
    "id": "u4iYO2obUegn"
   },
   "source": [
    "**Practice:** how to calculate the square root of `1024` using Python knowledge that we already have?"
   ]
  },
  {
   "cell_type": "code",
   "execution_count": 0,
   "metadata": {
    "colab": {
     "base_uri": "https://localhost:8080/",
     "height": 34
    },
    "colab_type": "code",
    "id": "i8NE-YEyUego",
    "outputId": "ab4fbd32-face-43f7-8a13-2cdeccc82289"
   },
   "outputs": [
    {
     "data": {
      "text/plain": [
       "32.0"
      ]
     },
     "execution_count": 17,
     "metadata": {
      "tags": []
     },
     "output_type": "execute_result"
    }
   ],
   "source": [
    "1024 ** 0.5"
   ]
  },
  {
   "cell_type": "markdown",
   "metadata": {
    "colab_type": "text",
    "id": "57zymr73Uegr"
   },
   "source": [
    "On a separate note, notice two things:\n",
    " * there is an orange _Out\\[number\\]_ right next to the outputs of every cell, and\n",
    " * we didn't use `print`, and still saw the results of the operations!\n",
    " \n",
    "This happens because when we ran a cell, the output of the last operation is being displayed on the screen. How can we check that it's only the last operation that is displayed and not all of them?"
   ]
  },
  {
   "cell_type": "code",
   "execution_count": 0,
   "metadata": {
    "colab": {
     "base_uri": "https://localhost:8080/",
     "height": 34
    },
    "colab_type": "code",
    "id": "D5tq2H--Uegs",
    "outputId": "972fdf27-0c0e-4d23-ed10-ad5eab137d6c"
   },
   "outputs": [
    {
     "data": {
      "text/plain": [
       "11"
      ]
     },
     "execution_count": 2,
     "metadata": {
      "tags": []
     },
     "output_type": "execute_result"
    }
   ],
   "source": [
    "5 + 8   # 13\n",
    "9 + 2   # 11"
   ]
  },
  {
   "cell_type": "markdown",
   "metadata": {
    "colab_type": "text",
    "id": "NU8eJurIUegt"
   },
   "source": [
    "If we want to make sure that every output is displayed, one should use the `print` function."
   ]
  },
  {
   "cell_type": "code",
   "execution_count": 0,
   "metadata": {
    "colab": {
     "base_uri": "https://localhost:8080/",
     "height": 51
    },
    "colab_type": "code",
    "id": "o6FV1CcWUegu",
    "outputId": "caaeb87e-0fe1-44a5-f9b7-05e322d1eee1"
   },
   "outputs": [
    {
     "name": "stdout",
     "output_type": "stream",
     "text": [
      "13\n",
      "11\n"
     ]
    }
   ],
   "source": [
    "print(5 + 8)   # 13\n",
    "print(9 + 2)   # 11"
   ]
  },
  {
   "cell_type": "markdown",
   "metadata": {
    "colab_type": "text",
    "id": "aIdP5dC4Uegv"
   },
   "source": [
    "**Strings** (`str`) are sequences of characters: `\"apple\"`, `'Hello world!'` or `\"My phone number is 123.\"`. **Strings are always surrounded by quotes!** These quotes can be either single or double, just use them consistently."
   ]
  },
  {
   "cell_type": "code",
   "execution_count": 0,
   "metadata": {
    "colab": {},
    "colab_type": "code",
    "id": "J5EzeJkfUegw"
   },
   "outputs": [],
   "source": [
    "type(\"My phone number is 123.\")"
   ]
  },
  {
   "cell_type": "markdown",
   "metadata": {
    "colab_type": "text",
    "id": "ROiK6JsHUegz"
   },
   "source": [
    "When a number is surrounded by quotes, it is not an integer or a float, but it is a string!"
   ]
  },
  {
   "cell_type": "code",
   "execution_count": 0,
   "metadata": {
    "colab": {
     "base_uri": "https://localhost:8080/",
     "height": 51
    },
    "colab_type": "code",
    "id": "qFudNgtVUeg0",
    "outputId": "b64e272e-c30b-4a68-f612-b562c6a8e2a2"
   },
   "outputs": [
    {
     "name": "stdout",
     "output_type": "stream",
     "text": [
      "<class 'int'>\n",
      "<class 'str'>\n"
     ]
    }
   ],
   "source": [
    "print(type(5))\n",
    "print(type(\"5\"))"
   ]
  },
  {
   "cell_type": "markdown",
   "metadata": {
    "colab_type": "text",
    "id": "SxP__lpBUeg4"
   },
   "source": [
    "In the previous code cell, we see the following line: `print(type(5))`. It simply means that the output of `type(5)` is passed to the `print` function as an argument, i.e. `type(5)` tells that the type of `5` is an integer, and the `print` function catches that output and displays it on the screen."
   ]
  },
  {
   "cell_type": "markdown",
   "metadata": {
    "colab_type": "text",
    "id": "nSiEHoUXUeg4"
   },
   "source": [
    "For strings, `+` operator defines concatenation."
   ]
  },
  {
   "cell_type": "code",
   "execution_count": 0,
   "metadata": {
    "colab": {
     "base_uri": "https://localhost:8080/",
     "height": 34
    },
    "colab_type": "code",
    "id": "Mz4Z9avlUeg5",
    "outputId": "cd74aa91-42b4-4073-fb11-12433168a2fe"
   },
   "outputs": [
    {
     "data": {
      "text/plain": [
       "'artificially'"
      ]
     },
     "execution_count": 21,
     "metadata": {
      "tags": []
     },
     "output_type": "execute_result"
    }
   ],
   "source": [
    "\"artificial\" + \"ly\""
   ]
  },
  {
   "cell_type": "code",
   "execution_count": 0,
   "metadata": {
    "colab": {
     "base_uri": "https://localhost:8080/",
     "height": 34
    },
    "colab_type": "code",
    "id": "VExtsPTFUeg7",
    "outputId": "d0a765ec-2338-46f5-c880-bea07267392b"
   },
   "outputs": [
    {
     "data": {
      "text/plain": [
       "'151'"
      ]
     },
     "execution_count": 22,
     "metadata": {
      "tags": []
     },
     "output_type": "execute_result"
    }
   ],
   "source": [
    "# \"15\" and \"1\" are strings, not integers!\n",
    "\"15\" + \"1\""
   ]
  },
  {
   "cell_type": "markdown",
   "metadata": {
    "colab_type": "text",
    "id": "egBOFaFfUeg9"
   },
   "source": [
    "**Practice:** what will happen if we add string \"15\" and integer 1?"
   ]
  },
  {
   "cell_type": "code",
   "execution_count": 0,
   "metadata": {
    "colab": {
     "base_uri": "https://localhost:8080/",
     "height": 168
    },
    "colab_type": "code",
    "id": "T8C2QAKnUeg9",
    "outputId": "7b573c4b-1aa0-4302-9621-161e6e583d0c"
   },
   "outputs": [
    {
     "ename": "TypeError",
     "evalue": "ignored",
     "output_type": "error",
     "traceback": [
      "\u001b[0;31m---------------------------------------------------------------------------\u001b[0m",
      "\u001b[0;31mTypeError\u001b[0m                                 Traceback (most recent call last)",
      "\u001b[0;32m<ipython-input-23-3504fd31bde9>\u001b[0m in \u001b[0;36m<module>\u001b[0;34m()\u001b[0m\n\u001b[0;32m----> 1\u001b[0;31m \u001b[0;34m'15'\u001b[0m\u001b[0;34m+\u001b[0m\u001b[0;36m1\u001b[0m\u001b[0;34m\u001b[0m\u001b[0;34m\u001b[0m\u001b[0m\n\u001b[0m",
      "\u001b[0;31mTypeError\u001b[0m: must be str, not int"
     ]
    }
   ],
   "source": [
    "# your code\n",
    "'15'+1\n"
   ]
  },
  {
   "cell_type": "markdown",
   "metadata": {
    "colab_type": "text",
    "id": "NxwQcEaVUehA"
   },
   "source": [
    "A frequent tast is to conver a variable from one type to another, or to perform _typecasting_. If we want to change the type of a string to an integer, for example, to be able to preform arithmetics with a number that was represented as a string, we can use the `int` or `float` functions."
   ]
  },
  {
   "cell_type": "markdown",
   "metadata": {
    "colab_type": "text",
    "id": "SMdxPdvQUehC"
   },
   "source": [
    "A value can be converted from another type to a string by using the `str` function."
   ]
  },
  {
   "cell_type": "code",
   "execution_count": 0,
   "metadata": {
    "colab": {
     "base_uri": "https://localhost:8080/",
     "height": 51
    },
    "colab_type": "code",
    "id": "cWHAhZvOUehB",
    "outputId": "1f3f0be6-4ff3-4db9-ce65-d7c058770978"
   },
   "outputs": [
    {
     "name": "stdout",
     "output_type": "stream",
     "text": [
      "Old type: <class 'str'>\n",
      "New type: <class 'int'>\n"
     ]
    }
   ],
   "source": [
    "number = \"55\"\n",
    "print(\"Old type:\", type(number))\n",
    "number = int(number)\n",
    "print(\"New type:\", type(number))"
   ]
  },
  {
   "cell_type": "code",
   "execution_count": 0,
   "metadata": {
    "colab": {
     "base_uri": "https://localhost:8080/",
     "height": 51
    },
    "colab_type": "code",
    "id": "fWfsOZQMUehD",
    "outputId": "cc023cf8-8fe9-4bcd-db5a-8626c9f1036b"
   },
   "outputs": [
    {
     "name": "stdout",
     "output_type": "stream",
     "text": [
      "Old type: <class 'float'>\n",
      "New type: <class 'str'>\n"
     ]
    }
   ],
   "source": [
    "number2 = 4.7\n",
    "print(\"Old type:\", type(number2))\n",
    "number2 = str(number2)\n",
    "print(\"New type:\", type(number2))"
   ]
  },
  {
   "cell_type": "code",
   "execution_count": 0,
   "metadata": {
    "colab": {},
    "colab_type": "code",
    "id": "cuze9lKmeS04"
   },
   "outputs": [],
   "source": []
  },
  {
   "cell_type": "code",
   "execution_count": 0,
   "metadata": {
    "colab": {},
    "colab_type": "code",
    "id": "FjSySIUJeSx8"
   },
   "outputs": [],
   "source": []
  },
  {
   "cell_type": "markdown",
   "metadata": {
    "colab_type": "text",
    "id": "aCXv7YWyUehF"
   },
   "source": [
    "Finally, **booleans** (`bool`) are `True` and `False`, or simply `1` and `0`."
   ]
  },
  {
   "cell_type": "code",
   "execution_count": 0,
   "metadata": {
    "colab": {
     "base_uri": "https://localhost:8080/",
     "height": 68
    },
    "colab_type": "code",
    "id": "DrvX5uDQUehF",
    "outputId": "e324ef48-553d-4228-b385-4bf228eee29c"
   },
   "outputs": [
    {
     "name": "stdout",
     "output_type": "stream",
     "text": [
      "<class 'bool'>\n",
      "<class 'bool'>\n",
      "<class 'str'>\n"
     ]
    }
   ],
   "source": [
    "print(type(True))\n",
    "print(type(False))\n",
    "print(type(\"False\"))"
   ]
  },
  {
   "cell_type": "markdown",
   "metadata": {
    "colab_type": "text",
    "id": "KiZEAj3BUehH"
   },
   "source": [
    "Booleans are the \"answers\" to such questions like the following ones.\n",
    " * Does this phrase contain the word \"linguistics\"?\n",
    " * Is the sum of those two number bigger than 17?\n",
    " * Have we already seen this sentence before?\n",
    " \n",
    "We will see very soon how extremely useful booleans are."
   ]
  },
  {
   "cell_type": "markdown",
   "metadata": {
    "colab_type": "text",
    "id": "fENOYScNUehI"
   },
   "source": [
    "## 4. Variables\n",
    "\n",
    "The way to store some value in the memory of the computer is to define a _variable_ that refers to that value. In some sense, the variable is the name of the value. As soon as we _declare_ that variable, we can use it to refer to its value.\n",
    "\n",
    "For example, we can define a variable `name` and then use it if we want to greet someone:"
   ]
  },
  {
   "cell_type": "code",
   "execution_count": 0,
   "metadata": {
    "colab": {
     "base_uri": "https://localhost:8080/",
     "height": 34
    },
    "colab_type": "code",
    "id": "VKGbyNsBUehJ",
    "outputId": "7ddf1b79-d313-4501-812c-4c9fe16be49d"
   },
   "outputs": [
    {
     "name": "stdout",
     "output_type": "stream",
     "text": [
      "Hello, John\n"
     ]
    }
   ],
   "source": [
    "name = \"John\"\n",
    "print(\"Hello,\", name)"
   ]
  },
  {
   "cell_type": "markdown",
   "metadata": {
    "colab_type": "text",
    "id": "VDNbjdP7UehK"
   },
   "source": [
    "The value of the variable can be of any data type."
   ]
  },
  {
   "cell_type": "code",
   "execution_count": 0,
   "metadata": {
    "colab": {
     "base_uri": "https://localhost:8080/",
     "height": 85
    },
    "colab_type": "code",
    "id": "aOZNMy-zUehL",
    "outputId": "e7018c9d-bf82-4044-9673-d0d884fec2ae"
   },
   "outputs": [
    {
     "name": "stdout",
     "output_type": "stream",
     "text": [
      "The type of var1 is <class 'str'>\n",
      "The type of var2 is <class 'int'>\n",
      "The type of var3 is <class 'float'>\n",
      "The type of var4 is <class 'bool'>\n"
     ]
    }
   ],
   "source": [
    "var1 = \"banana\"\n",
    "var2 = 9\n",
    "var3 = 0.2\n",
    "var4 = True\n",
    "\n",
    "print(\"The type of var1 is\", type(var1))\n",
    "print(\"The type of var2 is\", type(var2))\n",
    "print(\"The type of var3 is\", type(var3))\n",
    "print(\"The type of var4 is\", type(var4))"
   ]
  },
  {
   "cell_type": "markdown",
   "metadata": {
    "colab_type": "text",
    "id": "lE3czoopUehM"
   },
   "source": [
    "If there are several lines where the same variable name is defined, only the last definition matters."
   ]
  },
  {
   "cell_type": "code",
   "execution_count": 0,
   "metadata": {
    "colab": {
     "base_uri": "https://localhost:8080/",
     "height": 34
    },
    "colab_type": "code",
    "id": "s51894G5UehN",
    "outputId": "56cacb30-5e12-40ee-8101-d962f4e9e85f"
   },
   "outputs": [
    {
     "name": "stdout",
     "output_type": "stream",
     "text": [
      "Alice\n"
     ]
    }
   ],
   "source": [
    "name = \"John\"\n",
    "name = \"Alice\"\n",
    "print(name)"
   ]
  },
  {
   "cell_type": "markdown",
   "metadata": {
    "colab_type": "text",
    "id": "M81iOpv2UehO"
   },
   "source": [
    "**Laws of variable names**\n",
    " * Variable names are not strings: they are not surrounded by quotes!\n",
    " * They cannot start with a digit.\n",
    " * They cannot contain spaces or special symbols such as $, !, ~, etc. (The underscore is fine though!)\n",
    "\n",
    "**Warning:** never (unless you are doing it on purpose!) define a variable using the term that already means something for python (`print`, `int`, `type`, etc.) It is possible, but it will break _a lot_ of things.\n",
    "\n",
    "We can store a result of an operation in a variable."
   ]
  },
  {
   "cell_type": "code",
   "execution_count": 0,
   "metadata": {
    "colab": {
     "base_uri": "https://localhost:8080/",
     "height": 34
    },
    "colab_type": "code",
    "id": "ct5iZkWMUehQ",
    "outputId": "c3b5028d-beab-41c1-9112-b40fa8d23023"
   },
   "outputs": [
    {
     "name": "stdout",
     "output_type": "stream",
     "text": [
      "<class 'str'>\n"
     ]
    }
   ],
   "source": [
    "hello = type(\"Hello!\")\n",
    "print(hello)"
   ]
  },
  {
   "cell_type": "code",
   "execution_count": 0,
   "metadata": {
    "colab": {
     "base_uri": "https://localhost:8080/",
     "height": 34
    },
    "colab_type": "code",
    "id": "uj3oIxjpUehR",
    "outputId": "afe8ea58-9377-4315-9072-80198b9ed15c"
   },
   "outputs": [
    {
     "name": "stdout",
     "output_type": "stream",
     "text": [
      "32725938\n"
     ]
    }
   ],
   "source": [
    "large_number = 193425 + 32532513\n",
    "print(large_number)"
   ]
  },
  {
   "cell_type": "code",
   "execution_count": 0,
   "metadata": {
    "colab": {
     "base_uri": "https://localhost:8080/",
     "height": 34
    },
    "colab_type": "code",
    "id": "3_8J0o76UehS",
    "outputId": "677dabbc-c012-4afd-8e7f-bce09ea43399"
   },
   "outputs": [
    {
     "name": "stdout",
     "output_type": "stream",
     "text": [
      "Mary and John\n"
     ]
    }
   ],
   "source": [
    "parent1 = \"Mary\"\n",
    "parent2 = \"John\"\n",
    "parents = parent1 + \" and \" + parent2\n",
    "print(parents)"
   ]
  },
  {
   "cell_type": "markdown",
   "metadata": {
    "colab_type": "text",
    "id": "lYmTLIN0UehU"
   },
   "source": [
    "If the variable value needs to be updated with respect to its old value, we can use the following operators:\n",
    " * `var += some_value` (same as `var = var + some_value`);\n",
    " * `var -= some_value` (same as `var = var - some_value`);\n",
    " * `var *= some_value` (same as `var = var * some_value`);\n",
    " * `var /= some_value` (same as `var = var / some_value`)."
   ]
  },
  {
   "cell_type": "code",
   "execution_count": 0,
   "metadata": {
    "colab": {
     "base_uri": "https://localhost:8080/",
     "height": 51
    },
    "colab_type": "code",
    "id": "5fqwS1MDUehU",
    "outputId": "1492da1c-0014-4d32-f36a-f10fe171868f"
   },
   "outputs": [
    {
     "name": "stdout",
     "output_type": "stream",
     "text": [
      "Old value: 15\n",
      "New value: 16\n"
     ]
    }
   ],
   "source": [
    "var1 = 15\n",
    "print(\"Old value:\", var1)\n",
    "var1 += 1  #var1=var+1\n",
    "print(\"New value:\", var1)"
   ]
  },
  {
   "cell_type": "code",
   "execution_count": 0,
   "metadata": {
    "colab": {
     "base_uri": "https://localhost:8080/",
     "height": 51
    },
    "colab_type": "code",
    "id": "2ErPWtlcUehV",
    "outputId": "312db54e-cbdf-4a18-b494-5684d13a0c28"
   },
   "outputs": [
    {
     "name": "stdout",
     "output_type": "stream",
     "text": [
      "Old value: mild\n",
      "New value: mildly\n"
     ]
    }
   ],
   "source": [
    "var2 = \"mild\"\n",
    "print(\"Old value:\", var2)\n",
    "var2 += \"ly\"\n",
    "print(\"New value:\", var2)"
   ]
  },
  {
   "cell_type": "code",
   "execution_count": 0,
   "metadata": {
    "colab": {
     "base_uri": "https://localhost:8080/",
     "height": 51
    },
    "colab_type": "code",
    "id": "__FsAD-oUehX",
    "outputId": "d1d1b14b-5c2c-48c7-970a-2bb19c7ba46b"
   },
   "outputs": [
    {
     "name": "stdout",
     "output_type": "stream",
     "text": [
      "Old value: 19\n",
      "New value: 9.5\n"
     ]
    }
   ],
   "source": [
    "var3 = 19\n",
    "print(\"Old value:\", var3)\n",
    "var3 /= 2\n",
    "print(\"New value:\", var3)"
   ]
  },
  {
   "cell_type": "markdown",
   "metadata": {
    "colab_type": "text",
    "id": "67ab5jbJUehZ"
   },
   "source": [
    "## 5. Basic IO\n",
    "\n",
    "We already know that the way to display values on the screen is to `print` them. However, many tasks, especially the chatbots, rely on the input from a user. In Python, `input` takes care of it!\n",
    "\n",
    "The `input` function asks user to enter the information and returns the string containing the user input, so in most of the cases, it is useful to save the results of the input into some variable.\n",
    "\n",
    "If `input` is called without any arguments (i.e. as `input()`, don't forget the parenthesis!), it simply waits for the user to type in some information."
   ]
  },
  {
   "cell_type": "code",
   "execution_count": 0,
   "metadata": {
    "colab": {
     "base_uri": "https://localhost:8080/",
     "height": 51
    },
    "colab_type": "code",
    "id": "oVlBASzMUehZ",
    "outputId": "7d538bcc-3413-497e-dded-7aaf2462085f"
   },
   "outputs": [
    {
     "name": "stdout",
     "output_type": "stream",
     "text": [
      "hi\n",
      "The user input is: hi\n"
     ]
    }
   ],
   "source": [
    "user_input = input()\n",
    "print(\"The user input is:\", user_input)"
   ]
  },
  {
   "cell_type": "markdown",
   "metadata": {
    "colab_type": "text",
    "id": "pwUroBNvUehb"
   },
   "source": [
    "However, if `input` is called with an argument, this argument is displayed next to the input window."
   ]
  },
  {
   "cell_type": "code",
   "execution_count": 0,
   "metadata": {
    "colab": {
     "base_uri": "https://localhost:8080/",
     "height": 51
    },
    "colab_type": "code",
    "id": "hxdkSUx_Uehc",
    "outputId": "4f2e868d-d36a-4b02-8eb5-12ac3050a340"
   },
   "outputs": [
    {
     "name": "stdout",
     "output_type": "stream",
     "text": [
      "What is your name? Karina\n",
      "My name is Karina\n"
     ]
    }
   ],
   "source": [
    "name = input(\"What is your name? \")\n",
    "print(\"My name is\", name)"
   ]
  },
  {
   "cell_type": "markdown",
   "metadata": {
    "colab_type": "text",
    "id": "FeVu-GWfUehe"
   },
   "source": [
    "## 6. Boolean expressions\n",
    "\n",
    "Booleans expressions are expressions that can be evaluated to `True` or `False`. There are multiple logical operators that help us to form them.\n",
    "\n",
    "The operator `==` checks for the equality of its left and the right sides."
   ]
  },
  {
   "cell_type": "code",
   "execution_count": 0,
   "metadata": {
    "colab": {
     "base_uri": "https://localhost:8080/",
     "height": 34
    },
    "colab_type": "code",
    "id": "wAKsQRGhUehf",
    "outputId": "50738c9a-ecc6-4f64-caa1-c3c91b011374"
   },
   "outputs": [
    {
     "data": {
      "text/plain": [
       "True"
      ]
     },
     "execution_count": 33,
     "metadata": {
      "tags": []
     },
     "output_type": "execute_result"
    }
   ],
   "source": [
    "10 + 5 == 15"
   ]
  },
  {
   "cell_type": "code",
   "execution_count": 0,
   "metadata": {
    "colab": {
     "base_uri": "https://localhost:8080/",
     "height": 34
    },
    "colab_type": "code",
    "id": "mf9h1DKFUehj",
    "outputId": "e4782225-9d0d-44b3-d1c1-734e7629484b"
   },
   "outputs": [
    {
     "data": {
      "text/plain": [
       "False"
      ]
     },
     "execution_count": 34,
     "metadata": {
      "tags": []
     },
     "output_type": "execute_result"
    }
   ],
   "source": [
    "10 == 15  #check for equality"
   ]
  },
  {
   "cell_type": "code",
   "execution_count": 0,
   "metadata": {
    "colab": {
     "base_uri": "https://localhost:8080/",
     "height": 34
    },
    "colab_type": "code",
    "id": "2-PoR7jQUehm",
    "outputId": "02cc65df-7d34-42bf-df37-c0759183d9b5"
   },
   "outputs": [
    {
     "data": {
      "text/plain": [
       "False"
      ]
     },
     "execution_count": 35,
     "metadata": {
      "tags": []
     },
     "output_type": "execute_result"
    }
   ],
   "source": [
    "\"Apple\" == \"apple\""
   ]
  },
  {
   "cell_type": "code",
   "execution_count": 0,
   "metadata": {
    "colab": {
     "base_uri": "https://localhost:8080/",
     "height": 34
    },
    "colab_type": "code",
    "id": "Lcizi1apUeho",
    "outputId": "1c0b395f-2f18-49c3-8b2f-4a9500c4c60f"
   },
   "outputs": [
    {
     "data": {
      "text/plain": [
       "True"
      ]
     },
     "execution_count": 2,
     "metadata": {
      "tags": []
     },
     "output_type": "execute_result"
    }
   ],
   "source": [
    "(10 + 5 == 20) == False"
   ]
  },
  {
   "cell_type": "markdown",
   "metadata": {
    "colab_type": "text",
    "id": "01w4XZ8XUehr"
   },
   "source": [
    "The opposite operator to `==` is `!=`, it checks for non-equality:"
   ]
  },
  {
   "cell_type": "code",
   "execution_count": 0,
   "metadata": {
    "colab": {
     "base_uri": "https://localhost:8080/",
     "height": 34
    },
    "colab_type": "code",
    "id": "Se-njkXbUehs",
    "outputId": "4ae85835-776c-4d61-9e5a-fe5aa2eb68d6"
   },
   "outputs": [
    {
     "data": {
      "text/plain": [
       "True"
      ]
     },
     "execution_count": 36,
     "metadata": {
      "tags": []
     },
     "output_type": "execute_result"
    }
   ],
   "source": [
    "1 != 10"
   ]
  },
  {
   "cell_type": "markdown",
   "metadata": {
    "colab_type": "text",
    "id": "5SfK3MtIUehw"
   },
   "source": [
    "Operators `>`, `>=`, `<` and `<=` are defined as well."
   ]
  },
  {
   "cell_type": "code",
   "execution_count": 0,
   "metadata": {
    "colab": {
     "base_uri": "https://localhost:8080/",
     "height": 34
    },
    "colab_type": "code",
    "id": "GS-iKLZOUehw",
    "outputId": "dc9e0287-6164-48fa-f8c4-ef01a8c7abb0"
   },
   "outputs": [
    {
     "data": {
      "text/plain": [
       "True"
      ]
     },
     "execution_count": 37,
     "metadata": {
      "tags": []
     },
     "output_type": "execute_result"
    }
   ],
   "source": [
    "7 < 9"
   ]
  },
  {
   "cell_type": "code",
   "execution_count": 0,
   "metadata": {
    "colab": {
     "base_uri": "https://localhost:8080/",
     "height": 34
    },
    "colab_type": "code",
    "id": "DX7yHlt9Uehy",
    "outputId": "1fa492ef-8c58-430c-885e-d04fd5f9faee"
   },
   "outputs": [
    {
     "data": {
      "text/plain": [
       "True"
      ]
     },
     "execution_count": 38,
     "metadata": {
      "tags": []
     },
     "output_type": "execute_result"
    }
   ],
   "source": [
    "8 >= 8"
   ]
  },
  {
   "cell_type": "markdown",
   "metadata": {
    "colab_type": "text",
    "id": "AJ453J4yUehz"
   },
   "source": [
    "The operator `in` checks if the left-hand side object is contained within the right-hand side one."
   ]
  },
  {
   "cell_type": "code",
   "execution_count": 0,
   "metadata": {
    "colab": {
     "base_uri": "https://localhost:8080/",
     "height": 34
    },
    "colab_type": "code",
    "id": "Jgwd03XOUehz",
    "outputId": "2e6633a6-69f9-475a-c79c-35b9e91f30f4"
   },
   "outputs": [
    {
     "data": {
      "text/plain": [
       "True"
      ]
     },
     "execution_count": 39,
     "metadata": {
      "tags": []
     },
     "output_type": "execute_result"
    }
   ],
   "source": [
    "\"world\" in \"Hello world!\""
   ]
  },
  {
   "cell_type": "code",
   "execution_count": 0,
   "metadata": {
    "colab": {
     "base_uri": "https://localhost:8080/",
     "height": 34
    },
    "colab_type": "code",
    "id": "qpUMALUPUeh1",
    "outputId": "b0689f87-8b15-48bc-d2b9-6058c60f9511"
   },
   "outputs": [
    {
     "data": {
      "text/plain": [
       "False"
      ]
     },
     "execution_count": 40,
     "metadata": {
      "tags": []
     },
     "output_type": "execute_result"
    }
   ],
   "source": [
    "\"Apple\" in \"I love apples\""
   ]
  },
  {
   "cell_type": "markdown",
   "metadata": {
    "colab_type": "text",
    "id": "Il_4xyxTUeh3"
   },
   "source": [
    "The operator `not` reverses the truth value to the opposite one."
   ]
  },
  {
   "cell_type": "code",
   "execution_count": 0,
   "metadata": {
    "colab": {
     "base_uri": "https://localhost:8080/",
     "height": 34
    },
    "colab_type": "code",
    "id": "RO5Jr-r0Ueh3",
    "outputId": "3a3163af-8889-44d0-ed7b-9a3b8a1e2b8d"
   },
   "outputs": [
    {
     "data": {
      "text/plain": [
       "False"
      ]
     },
     "execution_count": 41,
     "metadata": {
      "tags": []
     },
     "output_type": "execute_result"
    }
   ],
   "source": [
    "not True"
   ]
  },
  {
   "cell_type": "code",
   "execution_count": 0,
   "metadata": {
    "colab": {
     "base_uri": "https://localhost:8080/",
     "height": 34
    },
    "colab_type": "code",
    "id": "1wIfN1xyUeh5",
    "outputId": "be72f57d-72b5-495c-fee3-b5f31b655a8c"
   },
   "outputs": [
    {
     "data": {
      "text/plain": [
       "True"
      ]
     },
     "execution_count": 42,
     "metadata": {
      "tags": []
     },
     "output_type": "execute_result"
    }
   ],
   "source": [
    "not False"
   ]
  },
  {
   "cell_type": "code",
   "execution_count": 0,
   "metadata": {
    "colab": {
     "base_uri": "https://localhost:8080/",
     "height": 34
    },
    "colab_type": "code",
    "id": "Jp1R6mzBUeh6",
    "outputId": "3a9ab53a-1a39-4853-bcec-24908fa186fc"
   },
   "outputs": [
    {
     "data": {
      "text/plain": [
       "True"
      ]
     },
     "execution_count": 43,
     "metadata": {
      "tags": []
     },
     "output_type": "execute_result"
    }
   ],
   "source": [
    "\"peach\" not in \"I love apples\""
   ]
  },
  {
   "cell_type": "code",
   "execution_count": 0,
   "metadata": {
    "colab": {
     "base_uri": "https://localhost:8080/",
     "height": 34
    },
    "colab_type": "code",
    "id": "BiuSM-xeUeh9",
    "outputId": "e7f1f20e-f460-433a-affa-9d3a1a9e9b5b"
   },
   "outputs": [
    {
     "data": {
      "text/plain": [
       "False"
      ]
     },
     "execution_count": 44,
     "metadata": {
      "tags": []
     },
     "output_type": "execute_result"
    }
   ],
   "source": [
    "not (10 + 5 == 15)"
   ]
  },
  {
   "cell_type": "markdown",
   "metadata": {
    "colab_type": "text",
    "id": "t93ByinFUeiA"
   },
   "source": [
    "Apart from the above listed operators, there are _complex operators_ `and` and `or`. Boolean expressions can be combined using these operators.\n",
    "* **`and`** returns true if it combines two expressions, and both of them evaluate to True;\n",
    "* **`or`** returns true if at least one of the expressions it combines evaluates to True.\n",
    "\n",
    "_Beware of the scope_: `(A and B) or C` is not the same thing as `A and (B or C)`!"
   ]
  },
  {
   "cell_type": "code",
   "execution_count": 0,
   "metadata": {
    "colab": {
     "base_uri": "https://localhost:8080/",
     "height": 34
    },
    "colab_type": "code",
    "id": "wmFK8XowUeiB",
    "outputId": "4885b34d-3b20-4464-a5bc-c9ed31580f66"
   },
   "outputs": [
    {
     "data": {
      "text/plain": [
       "True"
      ]
     },
     "execution_count": 52,
     "metadata": {
      "tags": []
     },
     "output_type": "execute_result"
    }
   ],
   "source": [
    "True and True"
   ]
  },
  {
   "cell_type": "code",
   "execution_count": 0,
   "metadata": {
    "colab": {
     "base_uri": "https://localhost:8080/",
     "height": 34
    },
    "colab_type": "code",
    "id": "-IfcTzGtUeiC",
    "outputId": "441ef2f5-edac-4962-ed9b-22177aad5a31"
   },
   "outputs": [
    {
     "data": {
      "text/plain": [
       "False"
      ]
     },
     "execution_count": 46,
     "metadata": {
      "tags": []
     },
     "output_type": "execute_result"
    }
   ],
   "source": [
    "True and False"
   ]
  },
  {
   "cell_type": "code",
   "execution_count": 0,
   "metadata": {
    "colab": {
     "base_uri": "https://localhost:8080/",
     "height": 34
    },
    "colab_type": "code",
    "id": "EFkJ7kGwUeiD",
    "outputId": "1ed98dd6-90c7-4780-ef3a-671e333e3f62"
   },
   "outputs": [
    {
     "data": {
      "text/plain": [
       "True"
      ]
     },
     "execution_count": 47,
     "metadata": {
      "tags": []
     },
     "output_type": "execute_result"
    }
   ],
   "source": [
    "False or True"
   ]
  },
  {
   "cell_type": "code",
   "execution_count": 0,
   "metadata": {
    "colab": {
     "base_uri": "https://localhost:8080/",
     "height": 34
    },
    "colab_type": "code",
    "id": "pu1j2scmUeiG",
    "outputId": "08c875f8-7013-4ffd-c4f5-4d4744f4ce31"
   },
   "outputs": [
    {
     "data": {
      "text/plain": [
       "True"
      ]
     },
     "execution_count": 48,
     "metadata": {
      "tags": []
     },
     "output_type": "execute_result"
    }
   ],
   "source": [
    "(False and True) or True"
   ]
  },
  {
   "cell_type": "code",
   "execution_count": 0,
   "metadata": {
    "colab": {
     "base_uri": "https://localhost:8080/",
     "height": 34
    },
    "colab_type": "code",
    "id": "sIYGlD4eUeiH",
    "outputId": "75a32904-216b-4f6e-d21a-514542b4478c"
   },
   "outputs": [
    {
     "data": {
      "text/plain": [
       "False"
      ]
     },
     "execution_count": 49,
     "metadata": {
      "tags": []
     },
     "output_type": "execute_result"
    }
   ],
   "source": [
    "False and (True or True)"
   ]
  },
  {
   "cell_type": "code",
   "execution_count": 0,
   "metadata": {
    "colab": {
     "base_uri": "https://localhost:8080/",
     "height": 34
    },
    "colab_type": "code",
    "id": "nhZiFDWJUeiJ",
    "outputId": "23aafdc8-4ff0-403b-e371-e6ec0774b0f0"
   },
   "outputs": [
    {
     "data": {
      "text/plain": [
       "True"
      ]
     },
     "execution_count": 50,
     "metadata": {
      "tags": []
     },
     "output_type": "execute_result"
    }
   ],
   "source": [
    "(\"apple\" in \"apples\") and (1 + 1 == 2)"
   ]
  },
  {
   "cell_type": "code",
   "execution_count": 0,
   "metadata": {
    "colab": {
     "base_uri": "https://localhost:8080/",
     "height": 34
    },
    "colab_type": "code",
    "id": "kD9jIG80UeiM",
    "outputId": "37e7765f-98e8-4f15-9ae7-43ae0dff45c6"
   },
   "outputs": [
    {
     "data": {
      "text/plain": [
       "True"
      ]
     },
     "execution_count": 3,
     "metadata": {
      "tags": []
     },
     "output_type": "execute_result"
    }
   ],
   "source": [
    "(\"apple\" in \"apples\") or (1 + 1 == 5)"
   ]
  },
  {
   "cell_type": "code",
   "execution_count": 0,
   "metadata": {
    "colab": {
     "base_uri": "https://localhost:8080/",
     "height": 34
    },
    "colab_type": "code",
    "id": "nNQu1IYFUeiN",
    "outputId": "2df4ef1c-6f6c-4981-ad41-44e46eda4955",
    "scrolled": true
   },
   "outputs": [
    {
     "data": {
      "text/plain": [
       "True"
      ]
     },
     "execution_count": 51,
     "metadata": {
      "tags": []
     },
     "output_type": "execute_result"
    }
   ],
   "source": [
    "((\"apple\" in \"apples\") and (1 + 1 == 3)) or (5 < 10)"
   ]
  },
  {
   "cell_type": "markdown",
   "metadata": {
    "colab_type": "text",
    "id": "Yzyu7VXeUeiP"
   },
   "source": [
    "## 7. More magic with strings"
   ]
  },
  {
   "cell_type": "markdown",
   "metadata": {
    "colab_type": "text",
    "id": "DWNrtotIUeiP"
   },
   "source": [
    "**Bag-of-words** model of meaning assumes that the meaning of the text can be represented by all the words found in the text and their frequency. Indeed, if the text is about pets, we expect words such as \"cat\" and \"dog\" to be more frequent in it in, and if the text is about politics, words such as \"president\", \"market\",  and \"GDP\" will occure more often.\n",
    "\n",
    "However, there are words that are frequent in all types of texts: \"and\", \"of\", \"the\", \"a(n)\", \"there\", and so on. These words are called **stop words**, and since they are not informative for modeling the meaning of the text, they are frequently removed from it.\n",
    "\n",
    "For many linguistics tasks, capitalization of the words does not matter. For example, when the task is to get rid of the stop words, we want to get rid of them independently of the capitalization (\"THE\", \"the\", \"The\", etc.) However, for Python, \"the\" and \"The\" are completely different words."
   ]
  },
  {
   "cell_type": "code",
   "execution_count": 0,
   "metadata": {
    "colab": {
     "base_uri": "https://localhost:8080/",
     "height": 34
    },
    "colab_type": "code",
    "id": "O70n_onDUeiP",
    "outputId": "ed4a2682-53c3-468f-a840-639c81812525"
   },
   "outputs": [
    {
     "data": {
      "text/plain": [
       "False"
      ]
     },
     "execution_count": 1,
     "metadata": {
      "tags": []
     },
     "output_type": "execute_result"
    }
   ],
   "source": [
    "\"the\" == \"The\""
   ]
  },
  {
   "cell_type": "markdown",
   "metadata": {
    "colab_type": "text",
    "id": "W4lWfLYwUeiR"
   },
   "source": [
    "There is a way to map all the versions of \"the\" with different capitalizations to \"the\": `str.lower(\"ThE\")`."
   ]
  },
  {
   "cell_type": "code",
   "execution_count": 0,
   "metadata": {
    "colab": {
     "base_uri": "https://localhost:8080/",
     "height": 34
    },
    "colab_type": "code",
    "id": "EjO48LIfUeiT",
    "outputId": "a9227035-2d27-4fab-a83e-bf24a3b99354"
   },
   "outputs": [
    {
     "data": {
      "text/plain": [
       "'the'"
      ]
     },
     "execution_count": 4,
     "metadata": {
      "tags": []
     },
     "output_type": "execute_result"
    }
   ],
   "source": [
    "str.lower(\"ThE\")"
   ]
  },
  {
   "cell_type": "code",
   "execution_count": 0,
   "metadata": {
    "colab": {
     "base_uri": "https://localhost:8080/",
     "height": 34
    },
    "colab_type": "code",
    "id": "mFrL0NF8UeiU",
    "outputId": "17a9100e-0db9-4f66-9154-03bc58bbc9e5"
   },
   "outputs": [
    {
     "data": {
      "text/plain": [
       "True"
      ]
     },
     "execution_count": 3,
     "metadata": {
      "tags": []
     },
     "output_type": "execute_result"
    }
   ],
   "source": [
    "\"the\" == str.lower(\"ThE\")"
   ]
  },
  {
   "cell_type": "markdown",
   "metadata": {
    "colab_type": "text",
    "id": "GUGZs6fOUeiW"
   },
   "source": [
    "Similarily, there are functions `upper` and `title` that convert a string to uppercase or capitalize it."
   ]
  },
  {
   "cell_type": "code",
   "execution_count": 0,
   "metadata": {
    "colab": {
     "base_uri": "https://localhost:8080/",
     "height": 34
    },
    "colab_type": "code",
    "id": "wPLn_dtlUeiX",
    "outputId": "53725054-0463-459d-ec76-15b63d71b04c"
   },
   "outputs": [
    {
     "name": "stdout",
     "output_type": "stream",
     "text": [
      "The uppercase of 'the' is 'THE'.\n"
     ]
    }
   ],
   "source": [
    "print(\"The uppercase of 'the' is '\" + str.upper(\"the\") + \"'.\")"
   ]
  },
  {
   "cell_type": "code",
   "execution_count": 0,
   "metadata": {
    "colab": {
     "base_uri": "https://localhost:8080/",
     "height": 34
    },
    "colab_type": "code",
    "id": "AYgB-WFtUeiY",
    "outputId": "4f45798d-3632-4936-fcc1-83bbe65ed432"
   },
   "outputs": [
    {
     "name": "stdout",
     "output_type": "stream",
     "text": [
      "The title version of 'hello world' is 'Hello World'.\n"
     ]
    }
   ],
   "source": [
    "print(\"The title version of 'hello world' is '\" + str.title(\"hello world\") + \"'.\")"
   ]
  },
  {
   "cell_type": "markdown",
   "metadata": {
    "colab_type": "text",
    "id": "FWbO3eYgUeiZ"
   },
   "source": [
    "In the examples below, we are printing parenthesis inside of the other parenthesis by alternating their types (i.e. if double quotes are marking the string, the single quotes are used inside, or vice versa).\n",
    "\n",
    "However, the other way to do it is to use a special _escape symbol_ `/` before the quotation mark that we want to have as a part of the string."
   ]
  },
  {
   "cell_type": "code",
   "execution_count": 0,
   "metadata": {
    "colab": {
     "base_uri": "https://localhost:8080/",
     "height": 34
    },
    "colab_type": "code",
    "id": "2hFhHwt1Ueia",
    "outputId": "eb677dbd-d484-4f64-8b1e-b7f57bf1aced"
   },
   "outputs": [
    {
     "name": "stdout",
     "output_type": "stream",
     "text": [
      "Both single quotations ' and double quotations \" are interpreted literally this way.\n"
     ]
    }
   ],
   "source": [
    "print(\"Both single quotations \\' and double quotations \\\" are interpreted literally this way.\")"
   ]
  },
  {
   "cell_type": "markdown",
   "metadata": {
    "colab_type": "text",
    "id": "G0AqBp4lUeib"
   },
   "source": [
    "Another important special symbols are the `\\n` (new line) and `\\t` (tabulation)."
   ]
  },
  {
   "cell_type": "code",
   "execution_count": 0,
   "metadata": {
    "colab": {
     "base_uri": "https://localhost:8080/",
     "height": 51
    },
    "colab_type": "code",
    "id": "Bpz8YijPUeib",
    "outputId": "a6e47e4c-180d-4ed9-cfc8-15d8facf3adb"
   },
   "outputs": [
    {
     "name": "stdout",
     "output_type": "stream",
     "text": [
      "This line \n",
      "continues on the second line, and tabulation is here\tas well.\n"
     ]
    }
   ],
   "source": [
    "print(\"This line \\ncontinues on the second line, and tabulation is here\\tas well.\")"
   ]
  },
  {
   "cell_type": "markdown",
   "metadata": {
    "colab_type": "text",
    "id": "NTo4_BCQUeif"
   },
   "source": [
    "There are also functions that allow to check if the string is uppercase, lowercase, or title, and these functions are:\n",
    " * `str.isupper(\"Hello\")` checks if a string is uppercase;\n",
    " * `str.islower(\"Hello\")` checks if a string is lowercase;\n",
    " * `str.istitle(\"Hello\")` checks if a string is a title."
   ]
  },
  {
   "cell_type": "code",
   "execution_count": 0,
   "metadata": {
    "colab": {
     "base_uri": "https://localhost:8080/",
     "height": 34
    },
    "colab_type": "code",
    "id": "ZI5coicQUeig",
    "outputId": "7f73638c-7a8b-4159-c174-b508ff88c2da"
   },
   "outputs": [
    {
     "data": {
      "text/plain": [
       "True"
      ]
     },
     "execution_count": 5,
     "metadata": {
      "tags": []
     },
     "output_type": "execute_result"
    }
   ],
   "source": [
    "str.isupper(\"HELLO WORLD!\")"
   ]
  },
  {
   "cell_type": "code",
   "execution_count": 0,
   "metadata": {
    "colab": {
     "base_uri": "https://localhost:8080/",
     "height": 34
    },
    "colab_type": "code",
    "id": "hoahJ4RaUeih",
    "outputId": "32e3796d-2167-4b51-e9b7-5621ff546520"
   },
   "outputs": [
    {
     "data": {
      "text/plain": [
       "True"
      ]
     },
     "execution_count": 9,
     "metadata": {
      "tags": []
     },
     "output_type": "execute_result"
    }
   ],
   "source": [
    "str.islower(\"hello world!\")"
   ]
  },
  {
   "cell_type": "code",
   "execution_count": 0,
   "metadata": {
    "colab": {
     "base_uri": "https://localhost:8080/",
     "height": 34
    },
    "colab_type": "code",
    "id": "AMr4yjNGUeij",
    "outputId": "01e49bed-b532-4c1d-bd4c-1bbb5998307e"
   },
   "outputs": [
    {
     "data": {
      "text/plain": [
       "True"
      ]
     },
     "execution_count": 10,
     "metadata": {
      "tags": []
     },
     "output_type": "execute_result"
    }
   ],
   "source": [
    "str.istitle(\"Hello World!\")"
   ]
  },
  {
   "cell_type": "markdown",
   "metadata": {
    "colab_type": "text",
    "id": "33R-PKheUeik"
   },
   "source": [
    "Another very useful function is `len`. Can you guess what it does based on the outputs of the following cells?"
   ]
  },
  {
   "cell_type": "code",
   "execution_count": 0,
   "metadata": {
    "colab": {
     "base_uri": "https://localhost:8080/",
     "height": 34
    },
    "colab_type": "code",
    "id": "H-bw12vgUeik",
    "outputId": "e2f91a72-e29f-4e67-ed73-45bc4020814a"
   },
   "outputs": [
    {
     "data": {
      "text/plain": [
       "12"
      ]
     },
     "execution_count": 11,
     "metadata": {
      "tags": []
     },
     "output_type": "execute_result"
    }
   ],
   "source": [
    "len(\"Hello world!\")"
   ]
  },
  {
   "cell_type": "code",
   "execution_count": 0,
   "metadata": {
    "colab": {
     "base_uri": "https://localhost:8080/",
     "height": 34
    },
    "colab_type": "code",
    "id": "6jEnT-cYUeil",
    "outputId": "f506e679-477b-43dc-8843-acd015ff428b"
   },
   "outputs": [
    {
     "data": {
      "text/plain": [
       "25"
      ]
     },
     "execution_count": 12,
     "metadata": {
      "tags": []
     },
     "output_type": "execute_result"
    }
   ],
   "source": [
    "len(\"computational linguistics\")"
   ]
  },
  {
   "cell_type": "code",
   "execution_count": 0,
   "metadata": {
    "colab": {
     "base_uri": "https://localhost:8080/",
     "height": 168
    },
    "colab_type": "code",
    "id": "VcV-TNZhUeil",
    "outputId": "638f786c-8129-4b3e-fdc0-a80b0518f641"
   },
   "outputs": [
    {
     "ename": "TypeError",
     "evalue": "ignored",
     "output_type": "error",
     "traceback": [
      "\u001b[0;31m---------------------------------------------------------------------------\u001b[0m",
      "\u001b[0;31mTypeError\u001b[0m                                 Traceback (most recent call last)",
      "\u001b[0;32m<ipython-input-13-e6fbd954638d>\u001b[0m in \u001b[0;36m<module>\u001b[0;34m()\u001b[0m\n\u001b[0;32m----> 1\u001b[0;31m \u001b[0mlen\u001b[0m\u001b[0;34m(\u001b[0m\u001b[0;36m25\u001b[0m\u001b[0;34m)\u001b[0m\u001b[0;34m\u001b[0m\u001b[0;34m\u001b[0m\u001b[0m\n\u001b[0m",
      "\u001b[0;31mTypeError\u001b[0m: object of type 'int' has no len()"
     ]
    }
   ],
   "source": [
    "len(25)"
   ]
  },
  {
   "cell_type": "markdown",
   "metadata": {
    "colab_type": "text",
    "id": "uGp1KX2yUein"
   },
   "source": [
    "# Homework 1\n",
    "\n",
    "**Due on Saturday, September 14th, 11.59pm**\n",
    "\n",
    "Send your notebook (don't forget to save your solutions!) to <alena.aksenova@stonybrook.edu> with the subject **\\[CompLing1\\] Homework 1**."
   ]
  },
  {
   "cell_type": "markdown",
   "metadata": {
    "colab_type": "text",
    "id": "LYNOeaUHUeio"
   },
   "source": [
    "**Problem 1.** You are given the following paragraph."
   ]
  },
  {
   "cell_type": "code",
   "execution_count": 0,
   "metadata": {
    "colab": {},
    "colab_type": "code",
    "id": "07qgDzZnUeip"
   },
   "outputs": [],
   "source": [
    "text = \"A glance around her studio reveals some of the complexity. The place is packed chockablock \" \\\n",
    "       \"with clusters of objects grouped by type: alarm clocks (maybe two dozen), antique books, model \" \\\n",
    "       \"clipper ships, African masks, birdcages, globes, painted wood watermelon slices, the Mexican \" \\\n",
    "       \"healing charms known as milagros and so-called mammy dolls piled on a chair.\""
   ]
  },
  {
   "cell_type": "markdown",
   "metadata": {
    "colab_type": "text",
    "id": "H_55PUWHUeiq"
   },
   "source": [
    "Write a code that will ask user to enter a word. Then check is this word is contained in the text given above."
   ]
  },
  {
   "cell_type": "code",
   "execution_count": 0,
   "metadata": {
    "colab": {
     "base_uri": "https://localhost:8080/",
     "height": 68
    },
    "colab_type": "code",
    "id": "mV6KL31bUeiq",
    "outputId": "81d4ce1a-522e-447a-801d-456161560e02"
   },
   "outputs": [
    {
     "name": "stdout",
     "output_type": "stream",
     "text": [
      "Please enter a word:\n",
      "gherf\n",
      "The word is contained in the text: False\n"
     ]
    }
   ],
   "source": [
    "print('Please enter a word:')\n",
    "user_input=str(input())\n",
    "text=\"A glance around her studio reveals some of the complexity. The place is packed chockablock \" \\\n",
    "       \"with clusters of objects grouped by type: alarm clocks (maybe two dozen), antique books, model \" \\\n",
    "       \"clipper ships, African masks, birdcages, globes, painted wood watermelon slices, the Mexican \" \\\n",
    "       \"healing charms known as milagros and so-called mammy dolls piled on a chair.\"\n",
    "\n",
    "print('The word is contained in the text:', user_input in text)\n",
    "\n"
   ]
  },
  {
   "cell_type": "markdown",
   "metadata": {
    "colab_type": "text",
    "id": "2KUJz44EUeir"
   },
   "source": [
    "**Problem 2.** Write a condition that checks if the word \"idiot\" is present in the user input. Make sure that it works independently of the capitalization!"
   ]
  },
  {
   "cell_type": "code",
   "execution_count": 0,
   "metadata": {
    "colab": {
     "base_uri": "https://localhost:8080/",
     "height": 51
    },
    "colab_type": "code",
    "id": "h7QWAvtGUeir",
    "outputId": "42a107ab-e33c-4358-8102-137d4caee4cd"
   },
   "outputs": [
    {
     "name": "stdout",
     "output_type": "stream",
     "text": [
      "Input any condition about idiot:IDIOT\n",
      "idiot\n"
     ]
    }
   ],
   "source": [
    "var1=str(input(\"Input any condition about idiot:\"))\n",
    "var1=str.lower(\"IDIOT\")\n",
    "print(var1)"
   ]
  },
  {
   "cell_type": "markdown",
   "metadata": {
    "colab_type": "text",
    "id": "T_WDnh2mUeis"
   },
   "source": [
    "**Problem 3.** Ask user for the year in which they were born, and print the age of the user. (Assume that the user's birthday is always January 1 so that the calculation is simple.)\n",
    "\n",
    "_Hint:_ the `int` function might be useful here."
   ]
  },
  {
   "cell_type": "code",
   "execution_count": 0,
   "metadata": {
    "colab": {
     "base_uri": "https://localhost:8080/",
     "height": 51
    },
    "colab_type": "code",
    "id": "E__x8_W6Ueit",
    "outputId": "1a03a760-b545-47e3-96c7-5c44cc417d72"
   },
   "outputs": [
    {
     "name": "stdout",
     "output_type": "stream",
     "text": [
      "Which year were you born:2017\n",
      "You age is: 2\n"
     ]
    }
   ],
   "source": [
    "Age=int(input(\"Which year were you born:\"))\n",
    "Age1=2019-Age\n",
    "print(\"You age is:\", Age1)"
   ]
  },
  {
   "cell_type": "markdown",
   "metadata": {
    "colab_type": "text",
    "id": "6fJxis0-Ueiu"
   },
   "source": [
    "**Problem 4.** With string concatenation you can also play a round of *Mad Libs*.\n",
    "If you aren't familiar with the game, here's how it works: you have a predetermined text where certain words have been replaced by their part of speech, for example *verb*, *noun*, *adjective*.\n",
    "For each gap, you ask a friend to say a word of that part of speech.\n",
    "You then put those words in the gap and read out the text aloud.\n",
    "Ideally, hilarity ensues.\n",
    "\n",
    "Here's an example adapted from the very first Mad Libs book:\n",
    "\n",
    "~~~\n",
    "\"[exclamation]! He said [adverb] as he jumped into his convertible\n",
    "[noun] and drove off with his [adjective] friend.\"\n",
    "\n",
    "\"Ron! He said better as he jumped into his convertible\n",
    "Tesla and drove off with his irritating friend.\"\n",
    "~~~\n",
    "\n",
    "Write a program that allows the user to play a single round of Mad Libs with the computer."
   ]
  },
  {
   "cell_type": "code",
   "execution_count": 0,
   "metadata": {
    "colab": {
     "base_uri": "https://localhost:8080/",
     "height": 102
    },
    "colab_type": "code",
    "id": "uzArOa70Ueiu",
    "outputId": "c26a207f-0e97-4882-af02-cd12fc31473e"
   },
   "outputs": [
    {
     "name": "stdout",
     "output_type": "stream",
     "text": [
      "The exclmation is:Ron\n",
      "The adverb is:quickly\n",
      "The noun is:cat\n",
      "The adjective is:happy\n",
      "Ron! He said quickly as he jumped into his convertible cat and drove off with his happy friend\n"
     ]
    }
   ],
   "source": [
    "a=str(input(\"The exclmation is:\"))\n",
    "b=str(input(\"The adverb is:\"))\n",
    "c=str(input(\"The noun is:\"))\n",
    "d=str(input(\"The adjective is:\"))\n",
    "print(a+\"! He said \"+b+ \" as he jumped into his convertible \"+c+ \" and drove off with his \"+d+ \" friend\" )"
   ]
  },
  {
   "cell_type": "markdown",
   "metadata": {
    "colab_type": "text",
    "id": "QBQQ42wZUeiw"
   },
   "source": [
    "**Problem 5.** Ask user to define what is the minimal number of characters for a word to be considered long. Ask for another input, in this case, a word. Afterwards, write a boolean expression that checks if the word provided by a user is long or not."
   ]
  },
  {
   "cell_type": "code",
   "execution_count": 0,
   "metadata": {
    "colab": {
     "base_uri": "https://localhost:8080/",
     "height": 68
    },
    "colab_type": "code",
    "id": "J4C4RTGBUeix",
    "outputId": "2cfd02c3-2230-4d9c-b740-13daa6e0ebe3"
   },
   "outputs": [
    {
     "name": "stdout",
     "output_type": "stream",
     "text": [
      "What is the minimal number of characters for a word to be considered long?20\n",
      "Please enter a word:tkt\n",
      "The word is too long: False\n"
     ]
    }
   ],
   "source": [
    "var1=int(input(\"What is the minimal number of characters for a word to be considered long?\"))\n",
    "var2=str(input(\"Please enter a word:\"))\n",
    "var3=int(len(var2))\n",
    "print('The word is too long:', var3>var1)"
   ]
  }
 ],
 "metadata": {
  "colab": {
   "collapsed_sections": [],
   "name": "[Compling1] HW1.ipynb",
   "provenance": []
  },
  "kernelspec": {
   "display_name": "Python 3",
   "language": "python",
   "name": "python3"
  },
  "language_info": {
   "codemirror_mode": {
    "name": "ipython",
    "version": 3
   },
   "file_extension": ".py",
   "mimetype": "text/x-python",
   "name": "python",
   "nbconvert_exporter": "python",
   "pygments_lexer": "ipython3",
   "version": "3.8.0"
  }
 },
 "nbformat": 4,
 "nbformat_minor": 1
}
