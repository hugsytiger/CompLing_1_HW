{
  "nbformat": 4,
  "nbformat_minor": 0,
  "metadata": {
    "kernelspec": {
      "display_name": "Python 3",
      "language": "python",
      "name": "python3"
    },
    "language_info": {
      "codemirror_mode": {
        "name": "ipython",
        "version": 3
      },
      "file_extension": ".py",
      "mimetype": "text/x-python",
      "name": "python",
      "nbconvert_exporter": "python",
      "pygments_lexer": "ipython3",
      "version": "3.6.8"
    },
    "colab": {
      "name": "CompLing1 HW2_Karina Hu.ipynb",
      "provenance": [],
      "collapsed_sections": [
        "e_j5B_4Z323V"
      ]
    }
  },
  "cells": [
    {
      "cell_type": "markdown",
      "metadata": {
        "id": "1PaeO3xZ3219",
        "colab_type": "text"
      },
      "source": [
        "<div style=\"text-align: right\">\n",
        "    <i>\n",
        "        LIN 537: Computational Lingusitics 1 <br>\n",
        "        Fall 2019 <br>\n",
        "        Alëna Aksënova\n",
        "    </i>\n",
        "</div>\n",
        "\n",
        "# Notebook 2: flow control and indexing\n",
        "\n",
        "This notebook explains how to control the flow of the program using `if`, `elif` and `else` and boolean expressions. We will also discuss indexing and data types that can be indexed, negative indexing, slices and steps."
      ]
    },
    {
      "cell_type": "markdown",
      "metadata": {
        "id": "X8sLY6z6321-",
        "colab_type": "text"
      },
      "source": [
        "## Flow control\n",
        "\n",
        "In most of the cases, we want to be flexible and only execute some code if certain conditions are met. For example, voice assistaint gets triggered only after the triggering phrase was pronounced.\n",
        "\n",
        "### `if`-statement\n",
        "\n",
        "In Python, the conditional operator `if` introuces a block of code that is executed if some condition is met:\n",
        "\n",
        "```\n",
        "if condition:\n",
        "    code that is executed only if the condition is True\n",
        "```\n",
        "\n",
        "Notice, that indentation is crucial here: the indentation shows which code depends on the boolean expression in `if`."
      ]
    },
    {
      "cell_type": "code",
      "metadata": {
        "id": "dMCRdr9h321_",
        "colab_type": "code",
        "colab": {}
      },
      "source": [
        "user_1_age = 26\n",
        "user_2_age = 99\n",
        "\n",
        "if user_1_age > 90:\n",
        "    print(\"User 1, you are old!\")\n",
        "    \n",
        "if user_2_age > 90:\n",
        "    print(\"User 2, you are old!\")"
      ],
      "execution_count": 0,
      "outputs": []
    },
    {
      "cell_type": "markdown",
      "metadata": {
        "id": "JlCPTQGs322B",
        "colab_type": "text"
      },
      "source": [
        "The indented code is executed only when the corresponding condition is True, whereas non-indented code does not depend on that condition anyhow."
      ]
    },
    {
      "cell_type": "code",
      "metadata": {
        "id": "6KPY_JW5322C",
        "colab_type": "code",
        "colab": {}
      },
      "source": [
        "talkative = True\n",
        "#talkative = False\n",
        "\n",
        "if talkative:\n",
        "    print(\"Hey, let's chat then!\")\n",
        "print(\"Nice meeting you anyway.\")"
      ],
      "execution_count": 0,
      "outputs": []
    },
    {
      "cell_type": "markdown",
      "metadata": {
        "id": "8t7s6-ex322F",
        "colab_type": "text"
      },
      "source": [
        "In the example above, the variable _talkative_ is used as a *flag*. We can define the flag to be dependent on the user input, or on some other part of the code."
      ]
    },
    {
      "cell_type": "code",
      "metadata": {
        "id": "DdnvEcj3322F",
        "colab_type": "code",
        "colab": {}
      },
      "source": [
        "talkative = False\n",
        "\n",
        "print(\"Are you talkative?\")\n",
        "answer = input()\n",
        "\n",
        "if answer == \"yes\":\n",
        "    talkative = True\n",
        "\n",
        "if talkative:\n",
        "    print(\"Hey, let's chat then!\")\n",
        "print(\"Nice meeting you anyway.\")"
      ],
      "execution_count": 0,
      "outputs": []
    },
    {
      "cell_type": "markdown",
      "metadata": {
        "id": "dptEu6Vp322I",
        "colab_type": "text"
      },
      "source": [
        "The code above is slightly too complicated for what it does, but the general idea is clear.\n",
        "\n",
        "### `elif`-statement\n",
        "\n",
        "If the code requires different behavior depending on different boolean expressions, the 2nd and more conditions can be introduced using the `elif` statement. The `elif` code block is executed only if the one in `if` was not.\n",
        "\n",
        "```\n",
        "if condition1:\n",
        "    code that is executed only if condition1 is True\n",
        "    \n",
        "elif condition2:\n",
        "    code that is executed only if condition2 is True and condition1 is False\n",
        "    \n",
        "elif condition3:\n",
        "    code that is executed only if condition3 is True and condition1 and condition2 are False\n",
        "```"
      ]
    },
    {
      "cell_type": "code",
      "metadata": {
        "id": "QBlC5rYp322I",
        "colab_type": "code",
        "colab": {
          "base_uri": "https://localhost:8080/",
          "height": 68
        },
        "outputId": "10465e43-b115-438c-f0da-785431dbc3ce"
      },
      "source": [
        "sentence = \"colorless green ideas sleep furiously\"\n",
        "\n",
        "if \"green\" in sentence:\n",
        "    print(\"Green!\")\n",
        "    \n",
        "elif \"colorless\" in sentence:\n",
        "    print(\"Colorless!\")\n",
        "    \n",
        "print(\"-------\")\n",
        "\n",
        "if \"red\" in sentence:\n",
        "    print(\"Red!\")\n",
        "    \n",
        "elif \"colorless\" in sentence:\n",
        "    print(\"Colorless!\")"
      ],
      "execution_count": 76,
      "outputs": [
        {
          "output_type": "stream",
          "text": [
            "Green!\n",
            "-------\n",
            "Colorless!\n"
          ],
          "name": "stdout"
        }
      ]
    },
    {
      "cell_type": "markdown",
      "metadata": {
        "id": "qByRh_nD322K",
        "colab_type": "text"
      },
      "source": [
        "However, if we want to simply check if these words can be found in the sentence independently, we will need to use several `if`-statements."
      ]
    },
    {
      "cell_type": "code",
      "metadata": {
        "id": "JvGXoBw-322L",
        "colab_type": "code",
        "colab": {}
      },
      "source": [
        "sentence = \"colorless green ideas sleep furiously\"\n",
        "\n",
        "if \"green\" in sentence:\n",
        "    print(\"Green!\")\n",
        "    \n",
        "if \"colorless\" in sentence:\n",
        "    print(\"Colorless!\")\n",
        "    \n",
        "if \"sleep\" in sentence:\n",
        "    print(\"Sleep!\")"
      ],
      "execution_count": 0,
      "outputs": []
    },
    {
      "cell_type": "markdown",
      "metadata": {
        "id": "gHPoI1-4322N",
        "colab_type": "text"
      },
      "source": [
        "### `else`\n",
        "\n",
        "The `else` keyword is used if we want some code to be executed if the conditions listed above in `if` and `elif` did not evaluate to True. In linguistics, it reminds the most the phonological or morphological _elsewhere_ condition. Hence, `else` does not permit a condition after itself!\n",
        "\n",
        "\n",
        "```\n",
        "if condition1:\n",
        "    code that is executed only if condition1 is True\n",
        "    \n",
        "elif condition2:\n",
        "    code that is executed only if condition2 is True and condition1 is False\n",
        "    \n",
        "else:\n",
        "    code that is executed only if condition1 and condition2 are False\n",
        "```"
      ]
    },
    {
      "cell_type": "code",
      "metadata": {
        "id": "tKcKerk1322O",
        "colab_type": "code",
        "colab": {}
      },
      "source": [
        "sentence = \"colorless green ideas sleep furiously\"\n",
        "\n",
        "if \"red\" in sentence:\n",
        "    print(\"Red!\")\n",
        "    \n",
        "elif \"bright\" in sentence:\n",
        "    print(\"Bright!\")\n",
        "    \n",
        "else:\n",
        "    print(\"None of those words were found.\")"
      ],
      "execution_count": 0,
      "outputs": []
    },
    {
      "cell_type": "markdown",
      "metadata": {
        "id": "XsZDvpnU322Q",
        "colab_type": "text"
      },
      "source": [
        "### Nested conditions\n",
        "\n",
        "A block of `if`-`elif`-`else` statements can be embedded inside another block:\n",
        "\n",
        "```\n",
        "if condition1:\n",
        "\n",
        "    code that is executed if condition1 is True\n",
        "    \n",
        "    if condition2:\n",
        "        code that is executed if condition1 and condition2 are True\n",
        "    else:\n",
        "        code that is executed if condition1 is True and condition2 is False\n",
        "        \n",
        "else:\n",
        "    code that is executed if condition1 is False\n",
        "```"
      ]
    },
    {
      "cell_type": "code",
      "metadata": {
        "id": "O4U1HRPZ322Q",
        "colab_type": "code",
        "colab": {}
      },
      "source": [
        "user_mood = input(\"Enter your mood: \")\n",
        "\n",
        "if \"happy\" in user_mood:\n",
        "    print(\"Good that you are feeling happy!\")\n",
        "    if \"relaxed\" in user_mood:\n",
        "        print(\"And you are relaxed as well, it's nice.\")\n",
        "    else:\n",
        "        print(\"Try to relax!\")\n",
        "else:\n",
        "    print(\"Smile! :)\")"
      ],
      "execution_count": 0,
      "outputs": []
    },
    {
      "cell_type": "markdown",
      "metadata": {
        "id": "5szV3q87322S",
        "colab_type": "text"
      },
      "source": [
        "**Practice:** rewrite the code above using the `elif` statement and complex boolean expressions."
      ]
    },
    {
      "cell_type": "code",
      "metadata": {
        "id": "2AV2HGYR322U",
        "colab_type": "code",
        "colab": {}
      },
      "source": [
        ""
      ],
      "execution_count": 0,
      "outputs": []
    },
    {
      "cell_type": "markdown",
      "metadata": {
        "id": "ggF_TxFA322W",
        "colab_type": "text"
      },
      "source": [
        "**Warning:** be careful when combining boolean expressions."
      ]
    },
    {
      "cell_type": "code",
      "metadata": {
        "id": "EvE0-JIg322W",
        "colab_type": "code",
        "colab": {}
      },
      "source": [
        "sentence = \"bad and horrible\"\n",
        "if \"good\" or \"awesiome\" in sentence:\n",
        "    print(\"Happy to hear!\")"
      ],
      "execution_count": 0,
      "outputs": []
    },
    {
      "cell_type": "markdown",
      "metadata": {
        "id": "MV6jl7YM322Y",
        "colab_type": "text"
      },
      "source": [
        "Remember, that the operator `or` combines boolean expression together:\n",
        "\n",
        "            expression1 and expression2\n",
        "\n",
        "The `if`-statement above depends on two expressions: ``''good''`` and ``''awesome'' in sentence``. In fact, in Python, strings have truth values: non-empty string evaluates to True, whereas the empty one evaluates to False."
      ]
    },
    {
      "cell_type": "code",
      "metadata": {
        "id": "kNtJdALl322Z",
        "colab_type": "code",
        "colab": {}
      },
      "source": [
        "if \"string is non-empty\":\n",
        "    print(\"Non-empty strings evaluate to True.\")\n",
        "\n",
        "if \"\":\n",
        "    print(\"Nothing to be seen here.\")"
      ],
      "execution_count": 0,
      "outputs": []
    },
    {
      "cell_type": "markdown",
      "metadata": {
        "id": "Spm8YBun322b",
        "colab_type": "text"
      },
      "source": [
        "### Practice: a simple chatbot\n",
        "\n",
        "Ask user if they are in a chatty mood. If the user said something apart from \"yes\", wish them a good day. Otherwise ask them how they are doing. Have different responses for the cases when the sentence contains (1) \"nice\" or \"good\", (2) \"bad\" or \"horrible\", or (3) anything else."
      ]
    },
    {
      "cell_type": "code",
      "metadata": {
        "id": "v8s0a8GQ322b",
        "colab_type": "code",
        "colab": {}
      },
      "source": [
        ""
      ],
      "execution_count": 0,
      "outputs": []
    },
    {
      "cell_type": "markdown",
      "metadata": {
        "id": "8mJ7tqPt322d",
        "colab_type": "text"
      },
      "source": [
        "## Indexing\n",
        "\n",
        "Indexing is a way of assigning order to elements in some container. **Containers** are objects of data types that can contain arbitrary number of other objects within themselves. Strings are containers, because they can consist of any numbers of characters. However, the order of symbols matters (\"lived\" is not the same as \"devil\"), and therefore the symbols in strings are indexed.\n",
        "\n",
        "Indexing starts from $0$, and a symbol on the position $n$ can be accessed as ``string[n]``."
      ]
    },
    {
      "cell_type": "code",
      "metadata": {
        "id": "6vrcW-p-322e",
        "colab_type": "code",
        "outputId": "11dac27d-0079-4859-bd4f-b51de8ad69b7",
        "colab": {
          "base_uri": "https://localhost:8080/",
          "height": 34
        }
      },
      "source": [
        "\"happy\"[3]"
      ],
      "execution_count": 0,
      "outputs": [
        {
          "output_type": "execute_result",
          "data": {
            "text/plain": [
              "'p'"
            ]
          },
          "metadata": {
            "tags": []
          },
          "execution_count": 1
        }
      ]
    },
    {
      "cell_type": "markdown",
      "metadata": {
        "id": "uy4mVw52322g",
        "colab_type": "text"
      },
      "source": [
        "Integers, floats, and booleans are not indexed, and therefore they are not _subscriptable_, i.e. their sub-objects are not defined."
      ]
    },
    {
      "cell_type": "code",
      "metadata": {
        "id": "RZ-WAFnf322g",
        "colab_type": "code",
        "colab": {}
      },
      "source": [
        "1964[2]"
      ],
      "execution_count": 0,
      "outputs": []
    },
    {
      "cell_type": "markdown",
      "metadata": {
        "id": "KC-yuAb7322i",
        "colab_type": "text"
      },
      "source": [
        "### Slices\n",
        "\n",
        "A part of the string can be extracted by taking a **slice** of that string:\n",
        "\n",
        "            string[start:end]\n",
        "\n",
        "The ``start`` argument is the first index _included_ in the slice, and the ``end`` is the first index _not included_ in it."
      ]
    },
    {
      "cell_type": "code",
      "metadata": {
        "id": "V964nvwp322j",
        "colab_type": "code",
        "outputId": "22554c66-fe68-456b-8da8-a84b61b63254",
        "colab": {
          "base_uri": "https://localhost:8080/",
          "height": 34
        }
      },
      "source": [
        "\"wonderful\"[3:7]"
      ],
      "execution_count": 0,
      "outputs": [
        {
          "output_type": "execute_result",
          "data": {
            "text/plain": [
              "'derf'"
            ]
          },
          "metadata": {
            "tags": []
          },
          "execution_count": 2
        }
      ]
    },
    {
      "cell_type": "markdown",
      "metadata": {
        "id": "b1RGZ1UQ322k",
        "colab_type": "text"
      },
      "source": [
        "If the value of `start` is $0$, or if the value of `end` is larger then the last available index in the string, the corresponding argument can be ommitted."
      ]
    },
    {
      "cell_type": "code",
      "metadata": {
        "id": "ZMHjJvB1322l",
        "colab_type": "code",
        "outputId": "d9d38ebb-9b45-4924-fc6c-fdbaa0fbc6fd",
        "colab": {
          "base_uri": "https://localhost:8080/",
          "height": 34
        }
      },
      "source": [
        "\"wonderful\"[:7]"
      ],
      "execution_count": 0,
      "outputs": [
        {
          "output_type": "execute_result",
          "data": {
            "text/plain": [
              "'wonderf'"
            ]
          },
          "metadata": {
            "tags": []
          },
          "execution_count": 3
        }
      ]
    },
    {
      "cell_type": "code",
      "metadata": {
        "id": "pMdYVN--322n",
        "colab_type": "code",
        "outputId": "5eb0a777-56ff-47fc-c586-b47800253024",
        "colab": {
          "base_uri": "https://localhost:8080/",
          "height": 34
        }
      },
      "source": [
        "\"wonderful\"[3:]"
      ],
      "execution_count": 0,
      "outputs": [
        {
          "output_type": "execute_result",
          "data": {
            "text/plain": [
              "'derful'"
            ]
          },
          "metadata": {
            "tags": []
          },
          "execution_count": 4
        }
      ]
    },
    {
      "cell_type": "code",
      "metadata": {
        "id": "QMCFFb-o322s",
        "colab_type": "code",
        "outputId": "054c41ea-18f8-4b67-e9fc-c9db26a4ac84",
        "colab": {
          "base_uri": "https://localhost:8080/",
          "height": 34
        }
      },
      "source": [
        "\"wonderful\"[:]"
      ],
      "execution_count": 0,
      "outputs": [
        {
          "output_type": "execute_result",
          "data": {
            "text/plain": [
              "'wonderful'"
            ]
          },
          "metadata": {
            "tags": []
          },
          "execution_count": 5
        }
      ]
    },
    {
      "cell_type": "markdown",
      "metadata": {
        "id": "4Ve4I92I322w",
        "colab_type": "text"
      },
      "source": [
        "**Practice:** ask user for a word, and print the last available index in the string corresponding to that word."
      ]
    },
    {
      "cell_type": "code",
      "metadata": {
        "id": "cWUHJuhY322x",
        "colab_type": "code",
        "colab": {}
      },
      "source": [
        "word = input()\n",
        "index = \"TBD\"\n",
        "print(\"The last index is\", index)"
      ],
      "execution_count": 0,
      "outputs": []
    },
    {
      "cell_type": "markdown",
      "metadata": {
        "id": "UnAcXgF0322z",
        "colab_type": "text"
      },
      "source": [
        "Apart from the `start` and `end` parameters, there is an optional one: `step`. The **step** of the slice is the difference of the current and the following elements of the slice in the original string. This is useful if, for example, only every third item needs to be included in the slice."
      ]
    },
    {
      "cell_type": "code",
      "metadata": {
        "id": "PUzjw3lv3220",
        "colab_type": "code",
        "outputId": "d3e7af4a-27a0-4efb-f2d0-9b559a5d0792",
        "colab": {
          "base_uri": "https://localhost:8080/",
          "height": 34
        }
      },
      "source": [
        "\"wonderful\"[:5:2]"
      ],
      "execution_count": 0,
      "outputs": [
        {
          "output_type": "execute_result",
          "data": {
            "text/plain": [
              "'wne'"
            ]
          },
          "metadata": {
            "tags": []
          },
          "execution_count": 6
        }
      ]
    },
    {
      "cell_type": "code",
      "metadata": {
        "id": "tzsf-7k-3222",
        "colab_type": "code",
        "outputId": "de289a91-9fe8-40b2-e8ff-e19d3f61fe8b",
        "colab": {
          "base_uri": "https://localhost:8080/",
          "height": 34
        }
      },
      "source": [
        "\"wonderful\"[::2]"
      ],
      "execution_count": 0,
      "outputs": [
        {
          "output_type": "execute_result",
          "data": {
            "text/plain": [
              "'wnefl'"
            ]
          },
          "metadata": {
            "tags": []
          },
          "execution_count": 7
        }
      ]
    },
    {
      "cell_type": "markdown",
      "metadata": {
        "id": "ebAbsFBg3225",
        "colab_type": "text"
      },
      "source": [
        "The distance can be negative, and in this case, the selected positions start from the bigger indecies and go down to the smaller ones, therefore the `start` argument is bigger than the `end` one."
      ]
    },
    {
      "cell_type": "code",
      "metadata": {
        "id": "0Z482xEi3226",
        "colab_type": "code",
        "outputId": "c0d966fa-5f41-44b9-fade-83ec07d2502d",
        "colab": {
          "base_uri": "https://localhost:8080/",
          "height": 34
        }
      },
      "source": [
        "\"wonderful\"[8:2:-3]"
      ],
      "execution_count": 0,
      "outputs": [
        {
          "output_type": "execute_result",
          "data": {
            "text/plain": [
              "'lr'"
            ]
          },
          "metadata": {
            "tags": []
          },
          "execution_count": 8
        }
      ]
    },
    {
      "cell_type": "markdown",
      "metadata": {
        "id": "i33lxkpj3228",
        "colab_type": "text"
      },
      "source": [
        "**Practice:** how to reverse a string using slicing?"
      ]
    },
    {
      "cell_type": "code",
      "metadata": {
        "id": "zDMhrUHX3229",
        "colab_type": "code",
        "outputId": "4811b3a2-e50e-4fec-a208-a9985364dda9",
        "colab": {
          "base_uri": "https://localhost:8080/",
          "height": 34
        }
      },
      "source": [
        "\"wonderful\"[::-1]"
      ],
      "execution_count": 0,
      "outputs": [
        {
          "output_type": "execute_result",
          "data": {
            "text/plain": [
              "'lufrednow'"
            ]
          },
          "metadata": {
            "tags": []
          },
          "execution_count": 9
        }
      ]
    },
    {
      "cell_type": "markdown",
      "metadata": {
        "id": "FqUgopqZ323B",
        "colab_type": "text"
      },
      "source": [
        "### Negative indexing\n",
        "\n",
        "Python supports negative indexing. In this case, _the index of the final element_ is $-1$, pre-final one is $-2$, and so on."
      ]
    },
    {
      "cell_type": "code",
      "metadata": {
        "id": "sfRE-Ltp323B",
        "colab_type": "code",
        "outputId": "b0508e9e-a44b-47e9-f34c-a16b71c1eeef",
        "colab": {
          "base_uri": "https://localhost:8080/",
          "height": 34
        }
      },
      "source": [
        "\"apple\"[-1]"
      ],
      "execution_count": 0,
      "outputs": [
        {
          "output_type": "execute_result",
          "data": {
            "text/plain": [
              "'e'"
            ]
          },
          "metadata": {
            "tags": []
          },
          "execution_count": 10
        }
      ]
    },
    {
      "cell_type": "code",
      "metadata": {
        "id": "GY2m0qaH323D",
        "colab_type": "code",
        "outputId": "4b673bb1-e6a3-480b-ee1e-4b67051b6f2c",
        "colab": {
          "base_uri": "https://localhost:8080/",
          "height": 34
        }
      },
      "source": [
        "\"apple\"[-4:-1]"
      ],
      "execution_count": 0,
      "outputs": [
        {
          "output_type": "execute_result",
          "data": {
            "text/plain": [
              "'ppl'"
            ]
          },
          "metadata": {
            "tags": []
          },
          "execution_count": 11
        }
      ]
    },
    {
      "cell_type": "code",
      "metadata": {
        "id": "hauV2kEN323H",
        "colab_type": "code",
        "outputId": "06f116d6-3404-4fee-b599-ecdae90314f7",
        "colab": {
          "base_uri": "https://localhost:8080/",
          "height": 34
        }
      },
      "source": [
        "\"antidisestablishmentarianism\"[-3:-13:-3]"
      ],
      "execution_count": 0,
      "outputs": [
        {
          "output_type": "execute_result",
          "data": {
            "text/plain": [
              "'iitm'"
            ]
          },
          "metadata": {
            "tags": []
          },
          "execution_count": 12
        }
      ]
    },
    {
      "cell_type": "markdown",
      "metadata": {
        "id": "K_IbGvqs323K",
        "colab_type": "text"
      },
      "source": [
        "Here, the first included index is $-3$. The second is $-3-3$, or $-6$. Then $-9$ and $-12$, and $-15$ is not included because it is bigger than $-13$."
      ]
    },
    {
      "cell_type": "markdown",
      "metadata": {
        "id": "fL8z7wKm323K",
        "colab_type": "text"
      },
      "source": [
        "### The `find` method\n",
        "\n",
        "`str.find(string, substring)` returns the index of the string where the given substring starts, or `-1` if the substring is not found."
      ]
    },
    {
      "cell_type": "code",
      "metadata": {
        "id": "jkJiL0GT323L",
        "colab_type": "code",
        "colab": {}
      },
      "source": [
        "str.find(\"an apple\", \"pp\")"
      ],
      "execution_count": 0,
      "outputs": []
    },
    {
      "cell_type": "code",
      "metadata": {
        "id": "iPNwmpI6323M",
        "colab_type": "code",
        "colab": {}
      },
      "source": [
        "str.find(\"apple\", \"abc\")"
      ],
      "execution_count": 0,
      "outputs": []
    },
    {
      "cell_type": "markdown",
      "metadata": {
        "id": "S-8Zf6YO323O",
        "colab_type": "text"
      },
      "source": [
        "However, if the substring is found more then once, `find` returns the starting index only of its first occurrence."
      ]
    },
    {
      "cell_type": "code",
      "metadata": {
        "id": "kMZV-ptQ323O",
        "colab_type": "code",
        "colab": {}
      },
      "source": [
        "str.find(\"rock and roll\", \"ro\")"
      ],
      "execution_count": 0,
      "outputs": []
    },
    {
      "cell_type": "markdown",
      "metadata": {
        "id": "0G_41Rmh323P",
        "colab_type": "text"
      },
      "source": [
        "A more precise name for functions such as `find`, `upper`, `lower`, etc. are **methods**. Methods are defined for specific types of objects, and they can be called either by the full reference, as `str.upper(some_string)`, or by the short one as `some_string.upper()`.\n",
        "\n",
        "Intuitively, **methods** depend on the type of the object they operate with. For example, the definition of the object `str` includes the definition of the method `upper`.\n",
        "**Functions** operate with objects, but they are defined independently of those objects."
      ]
    },
    {
      "cell_type": "code",
      "metadata": {
        "id": "T5D4d51p323Q",
        "colab_type": "code",
        "colab": {}
      },
      "source": [
        "str.upper(\"heLLo wORld\") == \"heLLo wORld\".upper()"
      ],
      "execution_count": 0,
      "outputs": []
    },
    {
      "cell_type": "code",
      "metadata": {
        "id": "_gGy7877323S",
        "colab_type": "code",
        "colab": {}
      },
      "source": [
        "str.find(\"Hello\", \"ll\") == \"Hello\".find(\"ll\")"
      ],
      "execution_count": 0,
      "outputs": []
    },
    {
      "cell_type": "markdown",
      "metadata": {
        "id": "e_j5B_4Z323V",
        "colab_type": "text"
      },
      "source": [
        "### Practice: calculating initial and final indecies\n",
        "\n",
        "Write code that requires a string and its substring. It then prints the initial and final indecies of the substring in that string in positive and in negative representations. For example:\n",
        "\n",
        "    String: subsequential\n",
        "    Substring: quen\n",
        "    \n",
        "    The non-negative slice is [5:9].\n",
        "    The negative slice is [-8:-4]."
      ]
    },
    {
      "cell_type": "code",
      "metadata": {
        "id": "GmIWLK0a323X",
        "colab_type": "code",
        "colab": {}
      },
      "source": [
        ""
      ],
      "execution_count": 0,
      "outputs": []
    },
    {
      "cell_type": "markdown",
      "metadata": {
        "id": "cAhmBh-r323Y",
        "colab_type": "text"
      },
      "source": [
        "# Homework 2\n",
        "\n",
        "**Due on Saturday, September 21st, 11.59pm**\n",
        "\n",
        "Send your notebook (don't forget to save your solutions!) to <alena.aksenova@stonybrook.edu> with the subject **\\[CompLing1\\] Homework 2**."
      ]
    },
    {
      "cell_type": "markdown",
      "metadata": {
        "id": "_h0brFEm323Y",
        "colab_type": "text"
      },
      "source": [
        "**Peoblem 1.**\n",
        "You might have heard of *Dungeons & Dragons*, a pen-and-paper roleplaying game where the player creates their own fantasy character and then plays this character in a series of adventures.\n",
        "There are different types of characters to choose from, but they must satisfy certain requirements.\n",
        "\n",
        "_Alignment_ places the character's ethics and morals along two axes: lawful-neutral-chaotic, and good-neutral-evil. Here is a selection of alignments of the characters:\n",
        "\n",
        "- _Paladin:_ lawful-good\n",
        "- _Antipaladin:_ chaotic-evil\n",
        "- _Monk:_ any combination with lawful\n",
        "- _Rogue:_ any combination that's not lawful\n",
        "- _Druid:_ must not be lawful-good or chaotic-good\n",
        "- _Fighter:_ anything goes\n",
        "\n",
        "Ask user for their preferred position on these two axes, and pring on the screen possible characters for the user. The list should not contain any duplicates.\n",
        "If the user enters a choice that does not exist, tell them so and assume `neutral` instead.\n",
        "\n",
        "    Choose one from lawful-neutral-chaotic: chaotic\n",
        "    Choose one from good-neutral-evil: good\n",
        "    \n",
        "    You are chaotic-good. You can be:\n",
        "    - rogue\n",
        "    - fighter"
      ]
    },
    {
      "cell_type": "code",
      "metadata": {
        "id": "jC2VGWEB323Z",
        "colab_type": "code",
        "outputId": "b0b7cb44-1af0-4557-d014-75c88ce03eb3",
        "colab": {
          "base_uri": "https://localhost:8080/",
          "height": 119
        }
      },
      "source": [
        "ethic=input(\"Choose one from lawful-neutral-chaotic:\")\n",
        "moral=input(\"Choose one from good-neutral-evil:\")\n",
        "if ethic not in [\"lawful\",\"neutral\",\"chaotic\"]:\n",
        "  print(\"The ethic entered is not valid, using neutral as the ethic instead.\")\n",
        "  ethic=\"neutral\"\n",
        "if moral not in[\"good\",\"neutral\",\"evil\"]:\n",
        "  print(\"The moral entered is not valid,using neutral as the moral instead.\")\n",
        "  moral=\"neutral\"\n",
        "if ethic==\"lawful\":\n",
        "  if moral==\"good\":\n",
        "    print(\"You are lawful-good.You can be:\")\n",
        "    print(\"-Paladin\")\n",
        "    print(\"-Fighter\")\n",
        "  elif moral==\"neutral\":\n",
        "    print(\"You are lawful-neutral.You can be:\")\n",
        "    print(\"-Monk\")\n",
        "    print(\"-Druid\")\n",
        "    print(\"-Fighter\")\n",
        "  else:\n",
        "    print(\"You are lawful-evil.You can be:\")\n",
        "    print(\"-Monk\")\n",
        "    print(\"-Druid\")\n",
        "    print(\"-Fighter\")\n",
        "elif ethic==\"neutral\":\n",
        "  if moral==\"good\":\n",
        "    print(\"You are neutral-good.You can be:\")\n",
        "    print(\"-Rogue\")\n",
        "    print(\"-Druid\")\n",
        "    print(\"-Fighter\")\n",
        "  elif moral==\"neutral\":\n",
        "    print(\"You are neutral-neutral.You can be:\")\n",
        "    print(\"-Rogue\")\n",
        "    print(\"-Druid\")\n",
        "    print(\"-Fighter\")\n",
        "  else:\n",
        "    print(\"You are neutral-evil.You can be:\")\n",
        "    print(\"-Rogue\")\n",
        "    print(\"-Druid\")\n",
        "    print(\"-Fighter\")\n",
        "else:\n",
        "  if moral==\"good\":\n",
        "    print(\"You are chaotic-good.You can be:\")\n",
        "    print(\"-Rogue\")\n",
        "    print(\"-Fighter\")\n",
        "  elif moral==\"neutral\":\n",
        "    print(\"You are chaotic-neutral.You can be:\")\n",
        "    print(\"-Rogue\")\n",
        "    print(\"-Druid\")\n",
        "    print(\"-Fighter\")\n",
        "  else:\n",
        "    print(\"You are chaotic-evil.You can be:\")\n",
        "    print(\"-Antipaladin\")\n",
        "    print(\"-Rogue\")\n",
        "    print(\"-Druid\")\n",
        "    print(\"-Fighter\")\n",
        "    "
      ],
      "execution_count": 105,
      "outputs": [
        {
          "output_type": "stream",
          "text": [
            "Choose one from lawful-neutral-chaotic:lawful\n",
            "Choose one from good-neutral-evil:evil\n",
            "You are lawful-evil.You can be:\n",
            "-Monk\n",
            "-Druid\n",
            "-Fighter\n"
          ],
          "name": "stdout"
        }
      ]
    },
    {
      "cell_type": "markdown",
      "metadata": {
        "id": "3DXMnGX9323a",
        "colab_type": "text"
      },
      "source": [
        "**Problem 2.** You are given the following list of words whose reversals are words as well. There are [more](https://www.buzzfeed.com/kellyoakes/words-that-mean-something-different-backwards) of those!"
      ]
    },
    {
      "cell_type": "code",
      "metadata": {
        "id": "4zVhPah_323b",
        "colab_type": "code",
        "colab": {}
      },
      "source": [
        "reversal_words = [\"desserts\", \"stressed\", \"live\", \"evil\", \"knits\", \"stink\", \"sports\", \"strops\",\n",
        "                 \"regal\", \"lager\", \"pupils\", \"slipup\", \"raw\", \"war\", \"pals\", \"slap\"]"
      ],
      "execution_count": 0,
      "outputs": []
    },
    {
      "cell_type": "markdown",
      "metadata": {
        "id": "2cTnj-PX323c",
        "colab_type": "text"
      },
      "source": [
        "Remember, that if you ran the previous cell where the variable `reversal_words` was defined, you can refer to that list later in the notebook."
      ]
    },
    {
      "cell_type": "code",
      "metadata": {
        "id": "_1mequsV323d",
        "colab_type": "code",
        "outputId": "6317ee35-fbc2-4a5e-c7db-b7f9cb9987d8",
        "colab": {
          "base_uri": "https://localhost:8080/",
          "height": 34
        }
      },
      "source": [
        "reversal_words[3]"
      ],
      "execution_count": 0,
      "outputs": [
        {
          "output_type": "execute_result",
          "data": {
            "text/plain": [
              "'evil'"
            ]
          },
          "metadata": {
            "tags": []
          },
          "execution_count": 96
        }
      ]
    },
    {
      "cell_type": "markdown",
      "metadata": {
        "id": "-w7m-ArB323e",
        "colab_type": "text"
      },
      "source": [
        "Implement a routine with the following behavior:\n",
        "\n",
        "    The input word: knits\n",
        "    \n",
        "    This word remains a word when reversed!\n",
        "    The reversal of that word: stink"
      ]
    },
    {
      "cell_type": "code",
      "metadata": {
        "id": "JEIrGk-M323f",
        "colab_type": "code",
        "outputId": "aeb7d790-345b-4597-8475-b5a5f951f963",
        "colab": {
          "base_uri": "https://localhost:8080/",
          "height": 68
        }
      },
      "source": [
        "reversal_words = [\"desserts\", \"stressed\", \"live\", \"evil\", \"knits\", \"stink\", \"sports\", \"strops\",\n",
        "                 \"regal\", \"lager\", \"pupils\", \"slipup\", \"raw\", \"war\", \"pals\", \"slap\"]\n",
        "var1=input(\"The input word:\")\n",
        "if var1 in reversal_words and var1[::-1] in reversal_words:\n",
        "  print(\"This word remains a word when reversed!\")\n",
        "  print(\"The reversal word is\",var1[::-1])"
      ],
      "execution_count": 107,
      "outputs": [
        {
          "output_type": "stream",
          "text": [
            "The input word:evil\n",
            "This word remains a word when reversed!\n",
            "The reversal word is live\n"
          ],
          "name": "stdout"
        }
      ]
    },
    {
      "cell_type": "markdown",
      "metadata": {
        "id": "D196D_bh323j",
        "colab_type": "text"
      },
      "source": [
        "**Problem 3.** Leap and non-leap years.\n",
        "\n",
        "    A year is leap year if it is divisible by 4 unless it is a century year (i.e. ends with 00). A century year is only leap when it is divisible by 400.\n",
        "    \n",
        "For this, it would be convenient to use the modulo division operator `%`:"
      ]
    },
    {
      "cell_type": "code",
      "metadata": {
        "id": "Yi-os2Wn323k",
        "colab_type": "code",
        "outputId": "4d931f7b-63aa-4469-e804-d63bcb167b7e",
        "colab": {
          "base_uri": "https://localhost:8080/",
          "height": 51
        }
      },
      "source": [
        "print(\"107 % 25 =\", 107 % 25)\n",
        "print(\"13 % 2 =\", 13 % 2)"
      ],
      "execution_count": 104,
      "outputs": [
        {
          "output_type": "stream",
          "text": [
            "107 % 25 = 7\n",
            "13 % 2 = 1\n"
          ],
          "name": "stdout"
        }
      ]
    },
    {
      "cell_type": "markdown",
      "metadata": {
        "id": "oulLF9DB323m",
        "colab_type": "text"
      },
      "source": [
        "Write a code that tells if the year provided by a user is leap or not."
      ]
    },
    {
      "cell_type": "code",
      "metadata": {
        "id": "j3YAIyIK323n",
        "colab_type": "code",
        "outputId": "f8709d7c-47df-45ea-ade2-bc3bda9fd791",
        "colab": {
          "base_uri": "https://localhost:8080/",
          "height": 51
        }
      },
      "source": [
        "year=int(input(\"Please enter a year:\"))\n",
        "if year%4==0:\n",
        "  if year%100==0:\n",
        "    if year%400 ==0:\n",
        "      print(\"This century year is leap.\")\n",
        "    else:\n",
        "      print(\"This year is leap year\")\n",
        "  else:\n",
        "    print(\"This year is leap year\")\n",
        "    \n",
        "else:\n",
        "  print(\"This year is not leap year.\")\n",
        "\n",
        "\n",
        " "
      ],
      "execution_count": 108,
      "outputs": [
        {
          "output_type": "stream",
          "text": [
            "Please enter a year:4567\n",
            "This year is not leap year.\n"
          ],
          "name": "stdout"
        }
      ]
    }
  ]
}