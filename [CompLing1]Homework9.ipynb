{
 "cells": [
  {
   "cell_type": "markdown",
   "metadata": {
    "colab_type": "text",
    "id": "gTEbkKvc81u9"
   },
   "source": [
    "<div style=\"text-align: right\">\n",
    "    <i>\n",
    "        LIN 537: Computational Lingusitics 1 <br>\n",
    "        Fall 2019 <br>\n",
    "        Alëna Aksënova\n",
    "    </i>\n",
    "</div>\n",
    "\n",
    "# Notebook 9: classes and inheritance\n",
    "\n",
    "This notebook covers the notion of a `class` and introduces the notion of **object-oriented programming** (OOP) in comparison to the **functional** programming. As of the Python-specific knowledge, this notebook exemplifies how to define a new class, its attributes and its methods. It also shows how to inherit attributes and methods from parent classes."
   ]
  },
  {
   "cell_type": "markdown",
   "metadata": {
    "colab_type": "text",
    "id": "3WfJJZgO81vB"
   },
   "source": [
    "We will focus on two **programming paradigms:** _functional_ programming and _OOP._\n",
    "Roughly speaking, **functional** programming implements the _actions,_ or functions, that map some input to some output. **Object-oriented** programming instead defines objects, and then describes how these objects can be modified. Intuitively: focus on the functions/procedures vs. focus on the properties of the objects.\n",
    "\n",
    "Before we learned how to define custom functions using `def` or `lambda`, and it is possible to define custom classes as well."
   ]
  },
  {
   "cell_type": "markdown",
   "metadata": {
    "colab_type": "text",
    "id": "hLbwhwYy81vC"
   },
   "source": [
    "## Class definition\n",
    "\n",
    "A **class** is a representation of an object. For example, this object can have the following properties:\n",
    "\n",
    "  * name: Car\n",
    "  * attributes: Car.make (i.e. Jeep), Car.color (i.e. black), Car.year (i.e. 2006)\n",
    "  * methods: Car.get_fuel(), Car.drive(speed), Car.lock()\n",
    "  \n",
    "In Python, these properties (attributes and methods) need to be listed in the _class definition._ In order to define a new class, we use the `class` operator followed by a name of the class.\n",
    "\n",
    "    class NewObject(object):\n",
    "        # code\n",
    "        \n",
    "In the parenthesis after the name of the class we list classes from which some functionality will be _inherited,_ but if none of such classes exist, the conventional way is to write `object` there. It simply means that we are instantiating an object."
   ]
  },
  {
   "cell_type": "code",
   "execution_count": 0,
   "metadata": {
    "colab": {},
    "colab_type": "code",
    "id": "mA3Qaj0U81vD"
   },
   "outputs": [],
   "source": [
    "class Rectangle(object):\n",
    "    \n",
    "    # operator that means \"do nothing\"\n",
    "    pass"
   ]
  },
  {
   "cell_type": "markdown",
   "metadata": {
    "colab_type": "text",
    "id": "Zzg5CKxs81vG"
   },
   "source": [
    "## Attributes definition\n",
    "\n",
    "The next step will be to list properties, or **attributes,** of that object, i.e. color, size, make, etc. Attributes do not refer to any actions, they simply describe the features of that object.\n",
    "\n",
    "    class NewObject(object):\n",
    "    \n",
    "        def __init__(self, make, year):\n",
    "            self.make = make\n",
    "            self.year = year\n",
    "            \n",
    "The function `__init__` _always_ must be present in the class definition: it will instantiate properties of that class. Notice the `self` argument of this function: it basically means that this function, or _method,_ is operating on the class itself. `__init__` initializes the attributes of the class `NewObject`."
   ]
  },
  {
   "cell_type": "code",
   "execution_count": 0,
   "metadata": {
    "colab": {},
    "colab_type": "code",
    "id": "pGRdE_l481vH"
   },
   "outputs": [],
   "source": [
    "class Rectangle(object):\n",
    "    \n",
    "    def __init__(self, side_1, side_2, color):\n",
    "        self.side_1 = side_1\n",
    "        self.side_2 = side_2\n",
    "        self.color = color"
   ]
  },
  {
   "cell_type": "markdown",
   "metadata": {
    "colab_type": "text",
    "id": "uis6w7z181vL"
   },
   "source": [
    "Here, we are initializing a class `Rectangle`, and it will have 3 attributes: `side_1`, `side_2` and `color`. Whatever arguments `__init__` takes, except `self`, must be provided as arguments of the class itself upon initialization."
   ]
  },
  {
   "cell_type": "code",
   "execution_count": 0,
   "metadata": {
    "colab": {},
    "colab_type": "code",
    "id": "MCl1abB781vM"
   },
   "outputs": [],
   "source": [
    "x = Rectangle(5, 3, \"red\")"
   ]
  },
  {
   "cell_type": "markdown",
   "metadata": {
    "colab_type": "text",
    "id": "TW7UHvIN81vO"
   },
   "source": [
    "Now when the class is initialized, we can access its attributes directly. **Dot operator** is used to access an attribute or a method of a particular class:\n",
    "    \n",
    "    class_name.attribute_name\n",
    "    class_name.method_name(arg1, arg2)"
   ]
  },
  {
   "cell_type": "code",
   "execution_count": 6,
   "metadata": {
    "colab": {
     "base_uri": "https://localhost:8080/",
     "height": 34
    },
    "colab_type": "code",
    "id": "dUSY31Nu81vP",
    "outputId": "e80618dc-6243-4abc-d855-4d20a045af29"
   },
   "outputs": [
    {
     "name": "stdout",
     "output_type": "stream",
     "text": [
      "red\n"
     ]
    }
   ],
   "source": [
    "print(x.color)"
   ]
  },
  {
   "cell_type": "markdown",
   "metadata": {
    "colab_type": "text",
    "id": "7XZCX8I281vR"
   },
   "source": [
    "Notice that the names of the arguments of `__init__` and the names of the attributes don't need to match, but it is a convention to have them matching."
   ]
  },
  {
   "cell_type": "code",
   "execution_count": 7,
   "metadata": {
    "colab": {
     "base_uri": "https://localhost:8080/",
     "height": 51
    },
    "colab_type": "code",
    "id": "k4VoIfyI81vR",
    "outputId": "b283cc46-3eb4-4ddf-87c2-f851c16a181b"
   },
   "outputs": [
    {
     "name": "stdout",
     "output_type": "stream",
     "text": [
      "Color: red\n",
      "Year: 2004\n"
     ]
    }
   ],
   "source": [
    "class A(object):\n",
    "    def __init__(self, some_color, some_year):\n",
    "        self.color = some_color\n",
    "        self.year = some_year\n",
    "        \n",
    "obj = A(\"red\", 2004)\n",
    "print(\"Color:\", obj.color)\n",
    "print(\"Year:\", obj.year)"
   ]
  },
  {
   "cell_type": "markdown",
   "metadata": {
    "colab_type": "text",
    "id": "SE4k_Hr581vT"
   },
   "source": [
    "The value of the attributes can be changed directly. (The situation will become more complicated if we are working with _protected_ values.)"
   ]
  },
  {
   "cell_type": "code",
   "execution_count": 8,
   "metadata": {
    "colab": {
     "base_uri": "https://localhost:8080/",
     "height": 51
    },
    "colab_type": "code",
    "id": "FmOT-oL281vU",
    "outputId": "50f9df07-8e87-45e3-8db1-a0f8625035e1"
   },
   "outputs": [
    {
     "name": "stdout",
     "output_type": "stream",
     "text": [
      "Old side: 3\n",
      "New side: 10\n"
     ]
    }
   ],
   "source": [
    "print(\"Old side:\", x.side_2)\n",
    "x.side_2 = 10\n",
    "print(\"New side:\", x.side_2)"
   ]
  },
  {
   "cell_type": "markdown",
   "metadata": {
    "colab_type": "text",
    "id": "BMJmPzMn81vX"
   },
   "source": [
    "If we have more that one object defined, dot operator helps us not to get confused in attributes of different objects:"
   ]
  },
  {
   "cell_type": "code",
   "execution_count": 9,
   "metadata": {
    "colab": {
     "base_uri": "https://localhost:8080/",
     "height": 51
    },
    "colab_type": "code",
    "id": "5J-jk2ad81vY",
    "outputId": "9853b55a-0359-4e38-9bca-b90391800fb7"
   },
   "outputs": [
    {
     "name": "stdout",
     "output_type": "stream",
     "text": [
      "Color or A: red\n",
      "Color or B: blue\n"
     ]
    }
   ],
   "source": [
    "a = Rectangle(5, 3, \"red\")\n",
    "b = Rectangle(1, 10, \"blue\")\n",
    "\n",
    "print(\"Color or A:\", a.color)\n",
    "print(\"Color or B:\", b.color)"
   ]
  },
  {
   "cell_type": "markdown",
   "metadata": {
    "colab_type": "text",
    "id": "2nXJBacE81va"
   },
   "source": [
    "**Practice:** set up the classes for the following objects: `Book`, `Door`, `Cat`."
   ]
  },
  {
   "cell_type": "code",
   "execution_count": 0,
   "metadata": {
    "colab": {},
    "colab_type": "code",
    "id": "OaZXhABy81vb"
   },
   "outputs": [],
   "source": []
  },
  {
   "cell_type": "markdown",
   "metadata": {
    "colab_type": "text",
    "id": "-fPvkjBe81vd"
   },
   "source": [
    "## Methods definition\n",
    "\n",
    "Now let us define some methods. They look like functions defined inside classes. The crucial difference is that methods must have `self` as the first argument: it simply means that that function/method is applied to the object itself.\n",
    "\n",
    "    class NewObject(object):\n",
    "    \n",
    "        def __init__(self, make, year):\n",
    "            self.make = make\n",
    "            self.year = year\n",
    "            \n",
    "        def method_name(self, arg1, arg2):\n",
    "            # code"
   ]
  },
  {
   "cell_type": "code",
   "execution_count": 0,
   "metadata": {
    "colab": {},
    "colab_type": "code",
    "id": "ioNju0Uh81vd"
   },
   "outputs": [],
   "source": [
    "class Rectangle(object):\n",
    "    \n",
    "    def __init__(self, side_1, side_2, color):\n",
    "        self.side_1 = side_1\n",
    "        self.side_2 = side_2\n",
    "        self.color = color\n",
    "        \n",
    "    def calculate_area(self):\n",
    "        return self.side_1 * self.side_2"
   ]
  },
  {
   "cell_type": "markdown",
   "metadata": {
    "colab_type": "text",
    "id": "J_vwNDK281vf"
   },
   "source": [
    "The method `calculate_area` in the code above requires no arguments apart from `self` because the information about the sides does not need to be provided: _it is already available!_ Calling `self.side_1` and `self.side_2` allows us to get that information."
   ]
  },
  {
   "cell_type": "code",
   "execution_count": 11,
   "metadata": {
    "colab": {
     "base_uri": "https://localhost:8080/",
     "height": 34
    },
    "colab_type": "code",
    "id": "Atqrhj8K81vg",
    "outputId": "25d8f84d-7f3c-41ad-d3d8-d1dfd6784ebe"
   },
   "outputs": [
    {
     "data": {
      "text/plain": [
       "15"
      ]
     },
     "execution_count": 11,
     "metadata": {
      "tags": []
     },
     "output_type": "execute_result"
    }
   ],
   "source": [
    "a = Rectangle(5, 3, \"red\")\n",
    "a.calculate_area()"
   ]
  },
  {
   "cell_type": "markdown",
   "metadata": {
    "colab_type": "text",
    "id": "9WhGCAR981vi"
   },
   "source": [
    "The method `calculate_area` calculates the area of the rectangle and returns the value. However, we can instead go ahead and save the value into a special attribute `area`. Notice that we do not expect `area` to be provided beforehand. **Every attribute, even if its value is not known yet, needs to be initialized inside the `__init__`.**"
   ]
  },
  {
   "cell_type": "code",
   "execution_count": 0,
   "metadata": {
    "colab": {},
    "colab_type": "code",
    "id": "NlkAHJSp81vi"
   },
   "outputs": [],
   "source": [
    "class Rectangle(object):\n",
    "    \n",
    "    def __init__(self, side_1, side_2, color):\n",
    "        self.side_1 = side_1\n",
    "        self.side_2 = side_2\n",
    "        self.color = color\n",
    "        self.area = None\n",
    "        \n",
    "    def calculate_area(self):\n",
    "        self.area = self.side_1 * self.side_2"
   ]
  },
  {
   "cell_type": "code",
   "execution_count": 14,
   "metadata": {
    "colab": {
     "base_uri": "https://localhost:8080/",
     "height": 34
    },
    "colab_type": "code",
    "id": "O-h6oCib81vk",
    "outputId": "2c2ce28b-adc5-43c8-cf27-be62c983a60c"
   },
   "outputs": [
    {
     "name": "stdout",
     "output_type": "stream",
     "text": [
      "15\n"
     ]
    }
   ],
   "source": [
    "a = Rectangle(5, 3, \"red\")\n",
    "a.calculate_area()\n",
    "print(a.area)"
   ]
  },
  {
   "cell_type": "code",
   "execution_count": 15,
   "metadata": {
    "colab": {
     "base_uri": "https://localhost:8080/",
     "height": 34
    },
    "colab_type": "code",
    "id": "wOUu77Qc81vm",
    "outputId": "008eaf88-0f1d-4765-cb6a-3cb7abd96586",
    "scrolled": true
   },
   "outputs": [
    {
     "data": {
      "text/plain": [
       "15"
      ]
     },
     "execution_count": 15,
     "metadata": {
      "tags": []
     },
     "output_type": "execute_result"
    }
   ],
   "source": [
    "a.area"
   ]
  },
  {
   "cell_type": "markdown",
   "metadata": {
    "colab_type": "text",
    "id": "hadZm_9L81vo"
   },
   "source": [
    "**Question:** is it possible for the `area` attribute to contain a wrong value?"
   ]
  },
  {
   "cell_type": "markdown",
   "metadata": {
    "colab_type": "text",
    "id": "O-5NaG1y81vp"
   },
   "source": [
    "**Practice:** add a method `is_square` to the class `Rectangle` that will return `True` if the rectangle is a square, and `False` otherwise."
   ]
  },
  {
   "cell_type": "code",
   "execution_count": 5,
   "metadata": {
    "colab": {
     "base_uri": "https://localhost:8080/",
     "height": 34
    },
    "colab_type": "code",
    "id": "s0CwmIFT81vq",
    "outputId": "ffd70d7c-eb06-4dca-f287-2f23f1104bda"
   },
   "outputs": [
    {
     "data": {
      "text/plain": [
       "True"
      ]
     },
     "execution_count": 5,
     "metadata": {
      "tags": []
     },
     "output_type": "execute_result"
    }
   ],
   "source": [
    "class Rectangle(object):\n",
    "    \n",
    "    def __init__(self, side_1, side_2, color):\n",
    "        self.side_1 = side_1\n",
    "        self.side_2 = side_2\n",
    "        self.color = color\n",
    "        self.area = None\n",
    "        \n",
    "    def calculate_area(self):\n",
    "        self.area = self.side_1 * self.side_2\n",
    "        \n",
    "    # add the code for the method \"is_square\" here\n",
    "    def is_square(self):\n",
    "      if self.side_1==self.side_2:\n",
    "        return True\n",
    "      else:\n",
    "        return False\n",
    "a=Rectangle(5,5,\"red\")\n",
    "a.is_square()"
   ]
  },
  {
   "cell_type": "code",
   "execution_count": 0,
   "metadata": {
    "colab": {},
    "colab_type": "code",
    "id": "qqFKnemxA828"
   },
   "outputs": [],
   "source": [
    "'''def is_square(self):\n",
    "  if self.side_1==self.side_2:\n",
    "    return True  (same as the above)'''\n",
    "\n",
    "def is_square(self):\n",
    "  return self.side_1==self.side_2\n"
   ]
  },
  {
   "cell_type": "markdown",
   "metadata": {
    "colab_type": "text",
    "id": "3tlpaHRG81vs"
   },
   "source": [
    "## Inheritance\n",
    "\n",
    "Remember that every class upon definition inherits from the `object`:\n",
    "\n",
    "    class Rectangle(object):\n",
    "        # code\n",
    "        \n",
    "In a similar way, classes can _inherit_ from other classes as well:\n",
    "\n",
    "    class SomeClass(ItsParentClass):\n",
    "        # code\n",
    "        \n",
    "Let's say we want to define a class `Vehicle` implementing generic methods and attrbutes for vehicles, and then we want to introduce classes `Boat` and `Car` that inherit from `Vehicle` and add additional car-specific or boat-specific functionality.\n",
    "\n",
    "Let us first implement the class `Vehicle`."
   ]
  },
  {
   "cell_type": "code",
   "execution_count": 0,
   "metadata": {
    "colab": {},
    "colab_type": "code",
    "id": "47rz9Vdx81vt"
   },
   "outputs": [],
   "source": [
    "class Vehicle(object):\n",
    "    \"\"\" Class implementing a Vehicle object. \"\"\"\n",
    "    \n",
    "    def __init__(self, year, max_speed):\n",
    "        \"\"\" Initializes the attributes year and max_speed. \"\"\"\n",
    "        self.year = year\n",
    "        self.max_speed = max_speed\n",
    "        \n",
    "    def drive(self, speed):\n",
    "        \"\"\" Safely drives the vehicle. \"\"\"\n",
    "        if speed <= self.max_speed:\n",
    "            print(\"Driving! The speed is\", speed, \"mph.\")\n",
    "        else:\n",
    "            print(\"Too fast! I'll be driving\", self.max_speed, \"mph.\")"
   ]
  },
  {
   "cell_type": "markdown",
   "metadata": {
    "colab_type": "text",
    "id": "jYUpO66381vx"
   },
   "source": [
    "Test how the method `drive` behaves with different speeds."
   ]
  },
  {
   "cell_type": "code",
   "execution_count": 18,
   "metadata": {
    "colab": {
     "base_uri": "https://localhost:8080/",
     "height": 34
    },
    "colab_type": "code",
    "id": "7izmz3Lp81vy",
    "outputId": "e795d6a4-7e26-498f-da22-0ab0a05637a3"
   },
   "outputs": [
    {
     "name": "stdout",
     "output_type": "stream",
     "text": [
      "Too fast! I'll be driving 70 mph.\n"
     ]
    }
   ],
   "source": [
    "jeep = Vehicle(2006, 70)\n",
    "\n",
    "jeep.drive(99)"
   ]
  },
  {
   "cell_type": "markdown",
   "metadata": {
    "colab_type": "text",
    "id": "zGy_uV-Y81v4"
   },
   "source": [
    "Now, let us initialize classes `Boat` and `Car` that will **inherit** from `Vehicle`."
   ]
  },
  {
   "cell_type": "code",
   "execution_count": 0,
   "metadata": {
    "colab": {},
    "colab_type": "code",
    "id": "98TwPbIl81v6"
   },
   "outputs": [],
   "source": [
    "class Boat(Vehicle):\n",
    "    pass\n",
    "\n",
    "class Car(Vehicle):\n",
    "    pass"
   ]
  },
  {
   "cell_type": "markdown",
   "metadata": {
    "colab_type": "text",
    "id": "rYPEUNdj81v8"
   },
   "source": [
    "**Inheriting** from `Vehicle` means that all methods and attributes of the parental class are now available in the children classes as well."
   ]
  },
  {
   "cell_type": "code",
   "execution_count": 20,
   "metadata": {
    "colab": {
     "base_uri": "https://localhost:8080/",
     "height": 34
    },
    "colab_type": "code",
    "id": "F4ug-oi781v9",
    "outputId": "11967f3a-ecb7-4a09-ea40-837184f19b9a"
   },
   "outputs": [
    {
     "name": "stdout",
     "output_type": "stream",
     "text": [
      "2006\n"
     ]
    }
   ],
   "source": [
    "jeep = Car(2006, 50)\n",
    "print(jeep.year)"
   ]
  },
  {
   "cell_type": "code",
   "execution_count": 21,
   "metadata": {
    "colab": {
     "base_uri": "https://localhost:8080/",
     "height": 34
    },
    "colab_type": "code",
    "id": "k6R-6aHI81v_",
    "outputId": "6bdac233-e21f-4492-c6aa-1cdf199be85e"
   },
   "outputs": [
    {
     "name": "stdout",
     "output_type": "stream",
     "text": [
      "Too fast! I'll be driving 0 mph.\n"
     ]
    }
   ],
   "source": [
    "titanic = Boat(1909, 0)\n",
    "titanic.drive(30)"
   ]
  },
  {
   "cell_type": "markdown",
   "metadata": {
    "colab_type": "text",
    "id": "aZClZ67Q81wC"
   },
   "source": [
    "If you want to add some `Car`-specific methods, you can simply do so by simply defining new methods for that class. Not that **methods defined in the children classes are not available in the parent classes.**"
   ]
  },
  {
   "cell_type": "code",
   "execution_count": 22,
   "metadata": {
    "colab": {
     "base_uri": "https://localhost:8080/",
     "height": 51
    },
    "colab_type": "code",
    "id": "jzwr8XaI81wC",
    "outputId": "577dc6a3-0546-45cb-f409-4e14e2b63246"
   },
   "outputs": [
    {
     "name": "stdout",
     "output_type": "stream",
     "text": [
      "I am passing that car.\n",
      "Too fast! I'll be driving 70 mph.\n"
     ]
    }
   ],
   "source": [
    "class Car(Vehicle):\n",
    "    \"\"\" A class defined for cars. \"\"\"\n",
    "    \n",
    "    def pass_a_car(self, my_speed, their_speed):\n",
    "        if my_speed > their_speed:\n",
    "            print(\"I am passing that car.\")\n",
    "        else:\n",
    "            print(\"I should not pass that car.\")\n",
    "            \n",
    "jeep = Car(2006, 70)\n",
    "jeep.pass_a_car(60, 50)\n",
    "jeep.drive(80)"
   ]
  },
  {
   "cell_type": "markdown",
   "metadata": {
    "colab_type": "text",
    "id": "iYMRUa7w81wE"
   },
   "source": [
    "The function `pass_a_car` is indeed now available for the class `Car`, however, it is not defined for the sibling or parent classes."
   ]
  },
  {
   "cell_type": "code",
   "execution_count": 24,
   "metadata": {
    "colab": {
     "base_uri": "https://localhost:8080/",
     "height": 34
    },
    "colab_type": "code",
    "id": "Ldm2V4M981wE",
    "outputId": "79ee533e-d648-41dd-bd87-87a37101766a"
   },
   "outputs": [
    {
     "name": "stdout",
     "output_type": "stream",
     "text": [
      "Too fast! I'll be driving 38 mph.\n"
     ]
    }
   ],
   "source": [
    "lada = Vehicle(1985, 38)\n",
    "lada.drive(39)\n",
    "\n",
    "# The code below will cause an error!\n",
    "# lada.pass_a_car(37, 60)"
   ]
  },
  {
   "cell_type": "markdown",
   "metadata": {
    "colab_type": "text",
    "id": "umTx4os781wG"
   },
   "source": [
    "The method `pass_a_car` takes two arguments: `my_speed` and `their_speed`, where `my_speed` is the speed of the car itself. _Itself_ is a good indicator that we are dealing with a good candidate to become an attribute of the class `Car`. Let us add a new attribute to the class `Car`!"
   ]
  },
  {
   "cell_type": "code",
   "execution_count": 0,
   "metadata": {
    "colab": {},
    "colab_type": "code",
    "id": "vGFysEJG81wG"
   },
   "outputs": [],
   "source": [
    "class Car(Vehicle):\n",
    "    \"\"\" A class defined for cars. \"\"\"\n",
    "    \n",
    "    def __init__(self, my_speed):\n",
    "        self.my_speed = my_speed\n",
    "    \n",
    "    def pass_a_car(self, their_speed):\n",
    "        if self.my_speed > their_speed:\n",
    "            print(\"I am passing that car.\")\n",
    "        else:\n",
    "            print(\"I should not pass that car.\")"
   ]
  },
  {
   "cell_type": "markdown",
   "metadata": {
    "colab_type": "text",
    "id": "wH_T4Hwz81wI"
   },
   "source": [
    "In fact, as the code below shows, `my_speed` is now an attribute."
   ]
  },
  {
   "cell_type": "code",
   "execution_count": 26,
   "metadata": {
    "colab": {
     "base_uri": "https://localhost:8080/",
     "height": 34
    },
    "colab_type": "code",
    "id": "APUjrcVn81wI",
    "outputId": "f61cbf5f-c765-4779-d1d3-ccfba5e92644"
   },
   "outputs": [
    {
     "name": "stdout",
     "output_type": "stream",
     "text": [
      "I am passing that car.\n"
     ]
    }
   ],
   "source": [
    "car = Car(80)\n",
    "car.pass_a_car(50)\n"
   ]
  },
  {
   "cell_type": "markdown",
   "metadata": {
    "colab_type": "text",
    "id": "Y075iMGa81wN"
   },
   "source": [
    "However, now the new function `__init__` of the `Car` class rewrote the original `__init__` of the `Vehicle` completely: attributes `year` and `max_speed` are not implemented anymore."
   ]
  },
  {
   "cell_type": "code",
   "execution_count": 0,
   "metadata": {
    "colab": {},
    "colab_type": "code",
    "id": "6pfqbhmH81wO"
   },
   "outputs": [],
   "source": [
    "# The code below will cause an error!\n",
    "# car.year "
   ]
  },
  {
   "cell_type": "markdown",
   "metadata": {
    "colab_type": "text",
    "id": "HrMKUT3r81wQ"
   },
   "source": [
    "It we want to **add** add new atributes to the children class, we need to re-implement parent's attributes as well."
   ]
  },
  {
   "cell_type": "code",
   "execution_count": 0,
   "metadata": {
    "colab": {},
    "colab_type": "code",
    "id": "zq8zIvPO81wR"
   },
   "outputs": [],
   "source": [
    "class Car(Vehicle):\n",
    "    \"\"\" A class defined for cars. \"\"\"\n",
    "    \n",
    "    def __init__(self, year, max_speed, my_speed):\n",
    "        self.year = year\n",
    "        self.max_speed = max_speed\n",
    "        self.my_speed = my_speed\n",
    "    \n",
    "    def pass_a_car(self, their_speed):\n",
    "        if self.my_speed > their_speed:\n",
    "            print(\"I am passing that car.\")\n",
    "        else:\n",
    "            print(\"I should not pass that car.\")"
   ]
  },
  {
   "cell_type": "markdown",
   "metadata": {
    "colab_type": "text",
    "id": "gvtyiM5581wT"
   },
   "source": [
    "Now, for the class `Car`, every attribute and method available in `Vehicle` is available as well, and also the newly defined attribute `my_speed` and the new method `pass_a_car`."
   ]
  },
  {
   "cell_type": "code",
   "execution_count": 29,
   "metadata": {
    "colab": {
     "base_uri": "https://localhost:8080/",
     "height": 68
    },
    "colab_type": "code",
    "id": "0QXogm5P81wU",
    "outputId": "0db62a36-fd06-41e0-8d8e-dd73312d97b4"
   },
   "outputs": [
    {
     "name": "stdout",
     "output_type": "stream",
     "text": [
      "2004\n",
      "Driving! The speed is 45 mph.\n",
      "I should not pass that car.\n"
     ]
    }
   ],
   "source": [
    "a = Car(2004, 80, 45)\n",
    "print(a.year)\n",
    "a.drive(45)\n",
    "a.pass_a_car(70)"
   ]
  },
  {
   "cell_type": "markdown",
   "metadata": {
    "colab_type": "text",
    "id": "FyKrEnAk81wW"
   },
   "source": [
    "If the `__init__` method of the class needs to be modified by adding attributes that are not implemented for the parent class, we can access and run `__init__` of the parent class by calling `super().__init__`.\n",
    "\n",
    "    class Child(Parent):\n",
    "    \n",
    "        def __init__(self, parent_att1, parent_att2, new_att1):\n",
    "            super().__init__(parent_att1, parent_att2)\n",
    "            self.new_att1 = new_att1\n",
    "            \n",
    "The code below is the modified version of the previous definition of the class `Car`."
   ]
  },
  {
   "cell_type": "code",
   "execution_count": 30,
   "metadata": {
    "colab": {
     "base_uri": "https://localhost:8080/",
     "height": 68
    },
    "colab_type": "code",
    "id": "wCHdQkGV81wW",
    "outputId": "0adef516-dd1a-4787-836d-fbd779db8796"
   },
   "outputs": [
    {
     "name": "stdout",
     "output_type": "stream",
     "text": [
      "2004\n",
      "Driving! The speed is 45 mph.\n",
      "I should not pass that car.\n"
     ]
    }
   ],
   "source": [
    "class Car(Vehicle):\n",
    "    \"\"\" A class defined for cars. \"\"\"\n",
    "    \n",
    "    def __init__(self, year, max_speed, my_speed):\n",
    "        super().__init__(year, max_speed)\n",
    "        self.my_speed = my_speed\n",
    "    \n",
    "    def pass_a_car(self, their_speed):\n",
    "        if self.my_speed > their_speed:\n",
    "            print(\"I am passing that car.\")\n",
    "        else:\n",
    "            print(\"I should not pass that car.\")\n",
    "            \n",
    "a = Car(2004, 80, 45)\n",
    "print(a.year)\n",
    "a.drive(45)\n",
    "a.pass_a_car(70)"
   ]
  },
  {
   "cell_type": "markdown",
   "metadata": {
    "colab_type": "text",
    "id": "jf2hBPj181wb"
   },
   "source": [
    "If there are several classes and some of them inherit from others, the dependencies can quickly become complicated and hard to remember. To keep track of classes and the dependencies, people usually draw **class diagrams**. A simple class diagram representing the structure of the class `Vehicle` and its children classes is given below.\n",
    "\n",
    "<img src=\"images/9_1.png\" width=\"520\">"
   ]
  },
  {
   "cell_type": "markdown",
   "metadata": {
    "colab_type": "text",
    "id": "j4Ded1ot81wc"
   },
   "source": [
    "**Practice:** implement the classes described in the class diagram below.\n",
    "\n",
    "<img src=\"images/9_2.png\" width=\"450\">"
   ]
  },
  {
   "cell_type": "code",
   "execution_count": 0,
   "metadata": {
    "colab": {},
    "colab_type": "code",
    "id": "pc-vbSYC81wc"
   },
   "outputs": [],
   "source": [
    "class dog(Pet):\n",
    "  def __init__(self,name,age,colors):\n",
    "    self.name=name\n",
    "    self.age=age\n",
    "    self.colors= colors\n",
    "  def get_older(self,years):\n",
    "    self.age+= years\n",
    "  def pet(self):\n",
    "    print(self.name,\"said \\\"I am happy now!\\\"\")\n",
    "  \n",
    "  guido=Pet(\"Guido\",)\n",
    "  "
   ]
  },
  {
   "cell_type": "code",
   "execution_count": 0,
   "metadata": {
    "colab": {},
    "colab_type": "code",
    "id": "Jw2fdmNdJtck"
   },
   "outputs": [],
   "source": [
    "class Dog(Pet):\n",
    "  def init__(self,name,age,colors,tail_speed):\n",
    "    super().__init__(name,age,colors)\n",
    "    self.tail_speed=tail_speed\n",
    "  def bark(self):\n",
    "    print(\"Bow!\")\n",
    "guido=Dog(\"Guido\",4,\"blue\"35)\n",
    "guido.get_older(5)"
   ]
  },
  {
   "cell_type": "markdown",
   "metadata": {
    "colab_type": "text",
    "id": "73WZ6K8l81wg"
   },
   "source": [
    "# Homework 9\n",
    "\n",
    "**Due on Sunday, November 3rd, 11.59pm**\n",
    "\n",
    "Send your notebook (don't forget to save your solutions!) to <alena.aksenova@stonybrook.edu> with the subject **\\[CompLing1\\] Homework 9**."
   ]
  },
  {
   "cell_type": "markdown",
   "metadata": {
    "colab_type": "text",
    "id": "BoPZIQ6v81wh"
   },
   "source": [
    "### Problem: implementing classes for `Food` and `Liquid`.\n",
    "\n",
    "By the end of the homework, you should implement two classes (`Food` and `Liquid`) described in the following class diagram.\n",
    "\n",
    "<img src=\"images/9_3.png\" width=\"450\">"
   ]
  },
  {
   "cell_type": "markdown",
   "metadata": {
    "colab_type": "text",
    "id": "vGbJO__681wh"
   },
   "source": [
    "**Part 1: implementing the class `Food`.** \n",
    "\n",
    "It should have the following attributes:\n",
    "  * `food_type`: \"banana\", \"water\", \"zucchini\", ...\n",
    "  * `flavor`: \"bitter\", \"sweet\", ...\n",
    "  * `quantity`: 0, 150, 5239, ...\n",
    "  * `temperature`: 420, 375, 710, ...\n",
    "  \n",
    "It should also include the following methods:\n",
    "  * `change_temperature(by_degrees)`: it changes the temperature attribute by the given number of the degrees;\n",
    "  * `consume()`: it complains if the quantity attribute of the food is not positive, but otherwise it changes the quantity of the food to $0$ (like this we can show that the food is eaten)."
   ]
  },
  {
   "cell_type": "code",
   "execution_count": 0,
   "metadata": {
    "colab": {},
    "colab_type": "code",
    "id": "qgwR__9d81wi"
   },
   "outputs": [],
   "source": [
    "class Food(object):\n",
    "  def __init__(self,food_type,flavor,quantity,temperature):\n",
    "    self.food_type=food_type\n",
    "    self.flavor=flavor\n",
    "    self.quantity=quantity\n",
    "    self.temperature=temperature\n",
    "  def change_temperature(self,degrees):\n",
    "    if degrees>0:\n",
    "      print(\"I heated up the food\")\n",
    "      print(\"The new temperature is\",self.temperature+degrees,\"degrees\")\n",
    "    elif degrees<0:\n",
    "      print(\"I cooled down food\")\n",
    "      print(\"The new temperature is\",self.temperature+degrees,\"degrees\")\n",
    "  def consume(self):\n",
    "    if len(self.food_type)>1:\n",
    "      self.food_type=\"\"\n",
    "      print(\"I consumed all the food\")\n",
    "    else:\n",
    "      print(\"There is no food\")\n",
    "  "
   ]
  },
  {
   "cell_type": "code",
   "execution_count": 65,
   "metadata": {
    "colab": {
     "base_uri": "https://localhost:8080/",
     "height": 34
    },
    "colab_type": "code",
    "id": "Va8A0jpaoVxL",
    "outputId": "52287cc9-b190-4b30-bf5d-1a4bf181573e"
   },
   "outputs": [
    {
     "name": "stdout",
     "output_type": "stream",
     "text": [
      "salty\n"
     ]
    }
   ],
   "source": [
    "borscht=Food(\"soup\",\"salty\",250,80)\n",
    "print(borscht.flavor)"
   ]
  },
  {
   "cell_type": "code",
   "execution_count": 66,
   "metadata": {
    "colab": {
     "base_uri": "https://localhost:8080/",
     "height": 51
    },
    "colab_type": "code",
    "id": "GfjNc7WhogwS",
    "outputId": "9cdbf2fc-b288-4a8d-af79-d9d7e3a73429"
   },
   "outputs": [
    {
     "name": "stdout",
     "output_type": "stream",
     "text": [
      "I heated up the food\n",
      "The new temperature is 85 degrees\n"
     ]
    }
   ],
   "source": [
    "borscht.change_temperature(5)"
   ]
  },
  {
   "cell_type": "code",
   "execution_count": 67,
   "metadata": {
    "colab": {
     "base_uri": "https://localhost:8080/",
     "height": 51
    },
    "colab_type": "code",
    "id": "EYYLSnpEon3k",
    "outputId": "28ba341f-2e2f-4b49-8b27-74e4fa10fe16"
   },
   "outputs": [
    {
     "name": "stdout",
     "output_type": "stream",
     "text": [
      "I cooled down food\n",
      "The new temperature is 65 degrees\n"
     ]
    }
   ],
   "source": [
    "borscht.change_temperature(-15)"
   ]
  },
  {
   "cell_type": "code",
   "execution_count": 68,
   "metadata": {
    "colab": {
     "base_uri": "https://localhost:8080/",
     "height": 34
    },
    "colab_type": "code",
    "id": "lN8v95HvppTk",
    "outputId": "7d31c28b-9b77-4cd8-d8dc-37d20784ecff"
   },
   "outputs": [
    {
     "name": "stdout",
     "output_type": "stream",
     "text": [
      "I consumed all the food\n"
     ]
    }
   ],
   "source": [
    "borscht.consume()"
   ]
  },
  {
   "cell_type": "code",
   "execution_count": 69,
   "metadata": {
    "colab": {
     "base_uri": "https://localhost:8080/",
     "height": 34
    },
    "colab_type": "code",
    "id": "5Klvb-x6psBR",
    "outputId": "2527ffa8-993c-42dc-cd08-d4832413f79a"
   },
   "outputs": [
    {
     "name": "stdout",
     "output_type": "stream",
     "text": [
      "There is no food\n"
     ]
    }
   ],
   "source": [
    "borscht.consume()"
   ]
  },
  {
   "cell_type": "markdown",
   "metadata": {
    "colab_type": "text",
    "id": "8eTU0f2981wk"
   },
   "source": [
    "Test the class `Food`.\n",
    "\n",
    "**Example of the instructions and the expected behavior**\n",
    "\n",
    "    borscht = Food(\"soup\", \"salty\", 250, 80)\n",
    "    print(borscht.flavor)\n",
    "    >> salty\n",
    "\n",
    "    borscht.change_temperature(5)\n",
    "    >> I heated up the food.\n",
    "    >> The new temperature is 85 degrees.\n",
    "    \n",
    "    borscht.change_temperature(-15)\n",
    "    >> I cooled down the food.\n",
    "    >> The new temperature is 70 degrees.\n",
    "\n",
    "    borscht.consume()\n",
    "    >> I consumed all the food.\n",
    "    \n",
    "    borscht.consume()\n",
    "    >> There is no food!"
   ]
  },
  {
   "cell_type": "code",
   "execution_count": 0,
   "metadata": {
    "colab": {},
    "colab_type": "code",
    "id": "bVN09_dkpfQn"
   },
   "outputs": [],
   "source": []
  },
  {
   "cell_type": "code",
   "execution_count": 0,
   "metadata": {
    "colab": {},
    "colab_type": "code",
    "id": "PBdpNCXY81wk"
   },
   "outputs": [],
   "source": [
    "# borscht = Food(\"soup\", \"salty\", 250, 80)\n",
    "# print(borscht.flavor)\n",
    "\n",
    "# borscht.change_temperature(5)\n",
    "# borscht.change_temperature(-15)\n",
    "\n",
    "# borscht.consume()\n",
    "# borscht.consume()"
   ]
  },
  {
   "cell_type": "markdown",
   "metadata": {
    "colab_type": "text",
    "id": "_TXNbEqX81wm"
   },
   "source": [
    "**Part 2: implementing the class `Liquid`.** \n",
    "\n",
    "Now, implement the class `Liquid` that will have also an attribute `boiling_temperature`, and the method `boil` that changes the `temperature` attribute to the boiling temperature. The class `Liquid` must inherit all other methods and attributes from the class `Food` as well."
   ]
  },
  {
   "cell_type": "code",
   "execution_count": 0,
   "metadata": {
    "colab": {},
    "colab_type": "code",
    "id": "R0i5pjYE81wm"
   },
   "outputs": [],
   "source": [
    "class Liquid(Food):\n",
    "  def __init__(self,food_type,flavor,quantity,temperature,boiling_temperature):\n",
    "     super().__init__(food_type,flavor,quantity,temperature)\n",
    "     self.boiling_temperature=boiling_temperature\n",
    "  def boil(self):\n",
    "    self.temperature=self.boiling_temperature\n",
    "    print(\"Boiled the liquid! Its temperature now is \",self.temperature,\" degrees\")\n",
    "  "
   ]
  },
  {
   "cell_type": "code",
   "execution_count": 82,
   "metadata": {
    "colab": {
     "base_uri": "https://localhost:8080/",
     "height": 34
    },
    "colab_type": "code",
    "id": "nyEdNWUTq--5",
    "outputId": "79363709-8188-4c2e-9034-a9d3d661c78a"
   },
   "outputs": [
    {
     "name": "stdout",
     "output_type": "stream",
     "text": [
      "212.3\n"
     ]
    }
   ],
   "source": [
    "milk=Liquid(\"milk\",\"creamy\",16,180,212.3)\n",
    "print(milk.boiling_temperature)"
   ]
  },
  {
   "cell_type": "code",
   "execution_count": 83,
   "metadata": {
    "colab": {
     "base_uri": "https://localhost:8080/",
     "height": 51
    },
    "colab_type": "code",
    "id": "gt2eu29UrJYT",
    "outputId": "1c1d1254-fb9c-4993-ae87-049be1f3cca0"
   },
   "outputs": [
    {
     "name": "stdout",
     "output_type": "stream",
     "text": [
      "I cooled down food\n",
      "The new temperature is 140 degrees\n"
     ]
    }
   ],
   "source": [
    "milk.change_temperature(-40)"
   ]
  },
  {
   "cell_type": "code",
   "execution_count": 84,
   "metadata": {
    "colab": {
     "base_uri": "https://localhost:8080/",
     "height": 34
    },
    "colab_type": "code",
    "id": "0E-7LacrrOLH",
    "outputId": "df7831ed-5683-4c3c-8e79-080c71e2b603"
   },
   "outputs": [
    {
     "name": "stdout",
     "output_type": "stream",
     "text": [
      "Boiled the liquid! Its temperature now is  212.3  degrees\n"
     ]
    }
   ],
   "source": [
    "milk.boil()"
   ]
  },
  {
   "cell_type": "code",
   "execution_count": 85,
   "metadata": {
    "colab": {
     "base_uri": "https://localhost:8080/",
     "height": 34
    },
    "colab_type": "code",
    "id": "8uwF746Lr5Pe",
    "outputId": "a2738c3e-0757-4671-ea0d-0db6235454b8"
   },
   "outputs": [
    {
     "name": "stdout",
     "output_type": "stream",
     "text": [
      "I consumed all the food\n"
     ]
    }
   ],
   "source": [
    "milk.consume()"
   ]
  },
  {
   "cell_type": "markdown",
   "metadata": {
    "colab_type": "text",
    "id": "Bd454gZ081wn"
   },
   "source": [
    "Test the class `Liquid`.\n",
    "\n",
    "**Example of the instructions and the expected behavior**\n",
    "\n",
    "    milk = Liquid(\"milk\", \"creamy\", 16, 180, 212.3)\n",
    "    print(milk.boiling_temperature)\n",
    "    >> 212.3\n",
    "    \n",
    "    milk.change_temperature(-40)\n",
    "    >> I cooled down the food.\n",
    "    >> The new temperature is 140 degrees.\n",
    "\n",
    "    milk.boil()\n",
    "    >> Boiled the liquid! Its temperature now is 212.3 degrees.\n",
    "\n",
    "    milk.consume()\n",
    "    >> I consumed all the food."
   ]
  },
  {
   "cell_type": "code",
   "execution_count": 0,
   "metadata": {
    "colab": {},
    "colab_type": "code",
    "id": "F1UA-ciM81wo"
   },
   "outputs": [],
   "source": [
    "# milk = Liquid(\"milk\", \"creamy\", 16, 180, 212.3)\n",
    "# print(milk.boiling_temperature)\n",
    "\n",
    "# milk.change_temperature(-40)\n",
    "# milk.boil()\n",
    "# milk.consume()"
   ]
  }
 ],
 "metadata": {
  "colab": {
   "name": "[CompLing1]Homework9.ipynb",
   "provenance": []
  },
  "kernelspec": {
   "display_name": "Python 3",
   "language": "python",
   "name": "python3"
  },
  "language_info": {
   "codemirror_mode": {
    "name": "ipython",
    "version": 3
   },
   "file_extension": ".py",
   "mimetype": "text/x-python",
   "name": "python",
   "nbconvert_exporter": "python",
   "pygments_lexer": "ipython3",
   "version": "3.8.0"
  }
 },
 "nbformat": 4,
 "nbformat_minor": 1
}
